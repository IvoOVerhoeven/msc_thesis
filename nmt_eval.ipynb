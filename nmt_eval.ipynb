{
 "cells": [
  {
   "cell_type": "code",
   "execution_count": 1,
   "metadata": {},
   "outputs": [],
   "source": [
    "import pickle\n",
    "import json\n",
    "from collections import defaultdict\n",
    "\n",
    "import numpy as np\n",
    "import matplotlib.pyplot as plt\n",
    "\n",
    "file_name = \"220426_1444_English_Czech\""
   ]
  },
  {
   "cell_type": "code",
   "execution_count": 2,
   "metadata": {},
   "outputs": [],
   "source": [
    "with open(\"./morphological_tagging/data/uni_morph_tags.json\", \"rb\") as f:\n",
    "        uni_morph_tags = json.load(f)\n",
    "\n",
    "morph_tag_vocab = {\n",
    "    feat: long_feat for feat, [long_feat, _] in uni_morph_tags.items()\n",
    "}\n",
    "\n",
    "morph_tag_cat_vocab = {\n",
    "    feat: cat for feat, [_, cat] in uni_morph_tags.items()\n",
    "}\n",
    "\n",
    "morph_cat_tag_vocab = defaultdict(set)\n",
    "for k, v in morph_tag_cat_vocab.items():\n",
    "    morph_cat_tag_vocab[v].add(k)\n",
    "morph_cat_tag_vocab = dict(morph_cat_tag_vocab)"
   ]
  },
  {
   "cell_type": "code",
   "execution_count": 3,
   "metadata": {},
   "outputs": [],
   "source": [
    "with open(f\"./nmt_adapt/eval/{file_name}.pickle\", \"rb\") as f:\n",
    "    eval_data = pickle.load(f)"
   ]
  },
  {
   "cell_type": "markdown",
   "metadata": {},
   "source": [
    "# Histograms"
   ]
  },
  {
   "cell_type": "code",
   "execution_count": 10,
   "metadata": {},
   "outputs": [],
   "source": [
    "include_or_exclude = \"include\"\n",
    "tags = {\"prs\"}\n",
    "\n",
    "# Function body ================================================================\n",
    "def get_tag_data(eval_data, tags, include_or_exclude: str = \"include\", lemma_lim: float = 0.0):\n",
    "\n",
    "    if len(tags) == 1:\n",
    "        mode = list(tags)[0]\n",
    "\n",
    "    elif len(tags) >= 1 and include_or_exclude == \"include\":\n",
    "        mode = \"Inclusive\"\n",
    "\n",
    "    else:\n",
    "        mode = \"Exclusive\"\n",
    "\n",
    "    # Get all morph_tag_sets where the tags are included, include exactly once or excluded\n",
    "    if include_or_exclude == \"include\":\n",
    "        tag_sets_matching = {tag_set for tag_set in eval_data.keys() if len(set.intersection(tags, {t.lower() for t in list(tag_set)})) >= 1}\n",
    "\n",
    "    elif include_or_exclude == \"once\":\n",
    "        tag_sets_matching = {tag_set for tag_set in eval_data.keys() if len(set.intersection(tags, {t.lower() for t in list(tag_set)})) == 1}\n",
    "\n",
    "    else:\n",
    "        tag_sets_matching = {tag_set for tag_set in eval_data.keys() if len(set.intersection(tags, {t.lower() for t in list(tag_set)})) < 1}\n",
    "\n",
    "    # Filter out instances not marked for a POS (probably errors)\n",
    "    tag_sets_matching = {\n",
    "        tag_set for tag_set in list(tag_sets_matching)\n",
    "        if len(set.intersection(morph_cat_tag_vocab[\"Part of Speech\"], {t.lower() for t in list(tag_set)})) >= 1\n",
    "        }\n",
    "\n",
    "    if len(tag_sets_matching) == 0:\n",
    "        return None\n",
    "\n",
    "    lemma_agg_results = []\n",
    "    for tag_set in list(tag_sets_matching):\n",
    "        for lemma, lemma_results in eval_data[tag_set].items():\n",
    "            for instance in lemma_results:\n",
    "                if instance[\"lemma_match\"] >= lemma_lim:\n",
    "\n",
    "                    record = {\"mode\": mode, \"tag_set\": tag_set, \"lemma\": lemma}\n",
    "                    record |= {k: v for k, v in instance.items() if k != \"confusion\"}\n",
    "\n",
    "                    lemma_agg_results += [record]\n",
    "\n",
    "    return lemma_agg_results"
   ]
  },
  {
   "cell_type": "code",
   "execution_count": 14,
   "metadata": {},
   "outputs": [],
   "source": [
    "cat = \"Person\"\n",
    "\n",
    "# Function body ================================================================\n",
    "cat_data = []\n",
    "\n",
    "cat_data.extend(\n",
    "    get_tag_data(eval_data, morph_cat_tag_vocab[cat], include_or_exclude=\"include\", lemma_lim=1/24)\n",
    ")\n",
    "\n",
    "cat_data.extend(\n",
    "    get_tag_data(eval_data, morph_cat_tag_vocab[cat], include_or_exclude=\"exclude\", lemma_lim=1/24)\n",
    ")\n",
    "\n",
    "for tag in sorted(list(morph_cat_tag_vocab[cat])):\n",
    "    tag_data = get_tag_data(eval_data, {tag}, include_or_exclude=\"once\", lemma_lim=1/24)\n",
    "    if tag_data is not None:\n",
    "        cat_data.extend(\n",
    "            tag_data\n",
    "        )"
   ]
  },
  {
   "cell_type": "code",
   "execution_count": 15,
   "metadata": {},
   "outputs": [],
   "source": [
    "import seaborn as sns\n",
    "import matplotlib.pyplot as plt\n",
    "import pandas as pd\n",
    "\n",
    "df = pd.DataFrame.from_records(cat_data)\n",
    "metric = \"morph_tag_iou\""
   ]
  },
  {
   "cell_type": "code",
   "execution_count": 13,
   "metadata": {},
   "outputs": [
    {
     "name": "stderr",
     "output_type": "stream",
     "text": [
      "c:\\Users\\ivoon\\Anaconda3\\envs\\msc_thesis\\lib\\site-packages\\seaborn\\axisgrid.py:88: UserWarning: Tight layout not applied. tight_layout cannot make axes height small enough to accommodate all axes decorations.\n",
      "  self._figure.tight_layout(*args, **kwargs)\n",
      "c:\\Users\\ivoon\\Anaconda3\\envs\\msc_thesis\\lib\\site-packages\\seaborn\\axisgrid.py:88: UserWarning: Tight layout not applied. tight_layout cannot make axes height small enough to accommodate all axes decorations.\n",
      "  self._figure.tight_layout(*args, **kwargs)\n"
     ]
    },
    {
     "data": {
      "text/plain": [
       "<seaborn.axisgrid.FacetGrid at 0x26ae1d0dfa0>"
      ]
     },
     "execution_count": 13,
     "metadata": {},
     "output_type": "execute_result"
    },
    {
     "data": {
      "image/png": "[encoded data removed]",
      "text/plain": [
       "<Figure size 540x180 with 5 Axes>"
      ]
     },
     "metadata": {},
     "output_type": "display_data"
    }
   ],
   "source": [
    "sns.set_theme(style=\"white\", rc={\"axes.facecolor\": (0, 0, 0, 0)})\n",
    "\n",
    "# Initialize the FacetGrid object\n",
    "pal = sns.cubehelix_palette(len(set(df[\"mode\"])), rot=-.25, light=.7)\n",
    "g = sns.FacetGrid(df, row=\"mode\", hue=\"mode\", aspect=15, height=.5, palette=pal)\n",
    "\n",
    "# Draw the densities in a few steps\n",
    "g.map(sns.kdeplot, metric,\n",
    "      bw_adjust=.5, clip_on=False,\n",
    "      fill=True, alpha=1, linewidth=1.5)\n",
    "g.map(sns.kdeplot, metric, clip_on=False, color=\"w\", lw=2, bw_adjust=.5)\n",
    "\n",
    "# passing color=None to refline() uses the hue mapping\n",
    "g.refline(y=0, linewidth=2, linestyle=\"-\", color=None, clip_on=False)\n",
    "\n",
    "# Set the subplots to overlap\n",
    "g.figure.subplots_adjust(hspace=-.25)\n",
    "\n",
    "def label(x, color, label):\n",
    "    ax = plt.gca()\n",
    "    ax.text(0, .2, label, fontweight=\"bold\", color=\"black\",\n",
    "            ha=\"left\", va=\"center\", transform=ax.transAxes)\n",
    "\n",
    "g.map(label, \"mode\")\n",
    "\n",
    "# Remove axes details that don't play well with overlap\n",
    "g.set_titles(\"\")\n",
    "g.set(yticks=[], ylabel=\"\")\n",
    "g.despine(bottom=True, left=True)"
   ]
  },
  {
   "cell_type": "code",
   "execution_count": 16,
   "metadata": {},
   "outputs": [
    {
     "name": "stderr",
     "output_type": "stream",
     "text": [
      "c:\\Users\\ivoon\\Anaconda3\\envs\\msc_thesis\\lib\\site-packages\\seaborn\\axisgrid.py:88: UserWarning: Tight layout not applied. tight_layout cannot make axes height small enough to accommodate all axes decorations.\n",
      "  self._figure.tight_layout(*args, **kwargs)\n",
      "c:\\Users\\ivoon\\Anaconda3\\envs\\msc_thesis\\lib\\site-packages\\seaborn\\axisgrid.py:88: UserWarning: Tight layout not applied. tight_layout cannot make axes height small enough to accommodate all axes decorations.\n",
      "  self._figure.tight_layout(*args, **kwargs)\n"
     ]
    },
    {
     "data": {
      "text/plain": [
       "<seaborn.axisgrid.FacetGrid at 0x26b30cf2d00>"
      ]
     },
     "execution_count": 16,
     "metadata": {},
     "output_type": "execute_result"
    },
    {
     "data": {
      "image/png": "[encoded data removed]",
      "text/plain": [
       "<Figure size 540x180 with 5 Axes>"
      ]
     },
     "metadata": {},
     "output_type": "display_data"
    }
   ],
   "source": [
    "sns.set_theme(style=\"white\", rc={\"axes.facecolor\": (0, 0, 0, 0)})\n",
    "\n",
    "# Initialize the FacetGrid object\n",
    "pal = sns.cubehelix_palette(len(set(df[\"mode\"])), rot=-.25, light=.7)\n",
    "g = sns.FacetGrid(df, row=\"mode\", hue=\"mode\", aspect=15, height=.5, palette=pal)\n",
    "\n",
    "# Draw the densities in a few steps\n",
    "g.map(sns.kdeplot, metric,\n",
    "      bw_adjust=.5, clip_on=False,\n",
    "      fill=True, alpha=1, linewidth=1.5)\n",
    "g.map(sns.kdeplot, metric, clip_on=False, color=\"w\", lw=2, bw_adjust=.5)\n",
    "\n",
    "# passing color=None to refline() uses the hue mapping\n",
    "g.refline(y=0, linewidth=2, linestyle=\"-\", color=None, clip_on=False)\n",
    "\n",
    "# Set the subplots to overlap\n",
    "g.figure.subplots_adjust(hspace=-.25)\n",
    "\n",
    "def label(x, color, label):\n",
    "    ax = plt.gca()\n",
    "    ax.text(0, .2, label, fontweight=\"bold\", color=\"black\",\n",
    "            ha=\"left\", va=\"center\", transform=ax.transAxes)\n",
    "\n",
    "g.map(label, \"mode\")\n",
    "\n",
    "# Remove axes details that don't play well with overlap\n",
    "g.set_titles(\"\")\n",
    "g.set(yticks=[], ylabel=\"\")\n",
    "g.despine(bottom=True, left=True)"
   ]
  },
  {
   "cell_type": "code",
   "execution_count": 99,
   "metadata": {},
   "outputs": [
    {
     "name": "stderr",
     "output_type": "stream",
     "text": [
      "c:\\Users\\ivoon\\Anaconda3\\envs\\msc_thesis\\lib\\site-packages\\seaborn\\axisgrid.py:88: UserWarning: Tight layout not applied. tight_layout cannot make axes height small enough to accommodate all axes decorations.\n",
      "  self._figure.tight_layout(*args, **kwargs)\n"
     ]
    },
    {
     "data": {
      "text/plain": [
       "<seaborn.axisgrid.FacetGrid at 0x28c8c4d85e0>"
      ]
     },
     "execution_count": 99,
     "metadata": {},
     "output_type": "execute_result"
    },
    {
     "data": {
      "image/png": "[encoded data removed]",
      "text/plain": [
       "<Figure size 540x180 with 5 Axes>"
      ]
     },
     "metadata": {},
     "output_type": "display_data"
    }
   ],
   "source": [
    "sns.set_theme(style=\"white\", rc={\"axes.facecolor\": (0, 0, 0, 0)})\n",
    "\n",
    "# Initialize the FacetGrid object\n",
    "pal = sns.cubehelix_palette(len(set(df[\"mode\"])), rot=-.25, light=.7)\n",
    "g = sns.FacetGrid(df, row=\"mode\", hue=\"mode\", aspect=15, height=.5, palette=pal)\n",
    "\n",
    "# Draw the densities in a few steps\n",
    "g.map(sns.histplot, metric,\n",
    "      clip_on=False,\n",
    "      fill=True, alpha=1,\n",
    "      stat=\"percent\",\n",
    "      bins=50,\n",
    "      )\n",
    "\n",
    "# passing color=None to refline() uses the hue mapping\n",
    "g.refline(y=0, linewidth=2, linestyle=\"-\", color=None, clip_on=False)\n",
    "\n",
    "# Set the subplots to overlap\n",
    "g.figure.subplots_adjust(hspace=-.25)\n",
    "\n",
    "def label(x, color, label):\n",
    "    ax = plt.gca()\n",
    "    ax.text(0, .2, label, fontweight=\"bold\", color=\"black\",\n",
    "            ha=\"left\", va=\"center\", transform=ax.transAxes)\n",
    "\n",
    "g.map(label, \"mode\")\n",
    "\n",
    "# Remove axes details that don't play well with overlap\n",
    "g.set_titles(\"\")\n",
    "g.set(yticks=[], ylabel=\"\")\n",
    "g.despine(bottom=True, left=True)"
   ]
  },
  {
   "cell_type": "code",
   "execution_count": 76,
   "metadata": {},
   "outputs": [
    {
     "data": {
      "text/plain": [
       "0.2288759262279001"
      ]
     },
     "execution_count": 76,
     "metadata": {},
     "output_type": "execute_result"
    }
   ],
   "source": [
    "df[df[\"mode\"] == \"Inclusive\"][\"morph_tag_iou\"].mean()"
   ]
  },
  {
   "cell_type": "code",
   "execution_count": 93,
   "metadata": {},
   "outputs": [],
   "source": [
    "df_lemma_macro = df.groupby([\"mode\", \"tag_set\", \"lemma\"]).mean().reset_index()\n",
    "df_lemma_macro[\"mode\"] = pd.Categorical(df_lemma_macro[\"mode\"], categories=[\"Inclusive\", \"Exclusive\", \"1\", \"2\", \"3\"], ordered=True)\n",
    "df_lemma_macro = df_lemma_macro.sort_values(\"mode\")\n"
   ]
  },
  {
   "cell_type": "code",
   "execution_count": 94,
   "metadata": {},
   "outputs": [
    {
     "name": "stderr",
     "output_type": "stream",
     "text": [
      "c:\\Users\\ivoon\\Anaconda3\\envs\\msc_thesis\\lib\\site-packages\\seaborn\\axisgrid.py:88: UserWarning: Tight layout not applied. tight_layout cannot make axes height small enough to accommodate all axes decorations.\n",
      "  self._figure.tight_layout(*args, **kwargs)\n",
      "c:\\Users\\ivoon\\Anaconda3\\envs\\msc_thesis\\lib\\site-packages\\seaborn\\axisgrid.py:88: UserWarning: Tight layout not applied. tight_layout cannot make axes height small enough to accommodate all axes decorations.\n",
      "  self._figure.tight_layout(*args, **kwargs)\n"
     ]
    },
    {
     "data": {
      "text/plain": [
       "<seaborn.axisgrid.FacetGrid at 0x28c39d92fa0>"
      ]
     },
     "execution_count": 94,
     "metadata": {},
     "output_type": "execute_result"
    },
    {
     "data": {
      "image/png": "[encoded data removed]",
      "text/plain": [
       "<Figure size 540x180 with 5 Axes>"
      ]
     },
     "metadata": {},
     "output_type": "display_data"
    }
   ],
   "source": [
    "sns.set_theme(style=\"white\", rc={\"axes.facecolor\": (0, 0, 0, 0)})\n",
    "\n",
    "# Initialize the FacetGrid object\n",
    "pal = sns.cubehelix_palette(len(set(df_lemma_macro[\"mode\"])), rot=-.25, light=.7)\n",
    "g = sns.FacetGrid(df_lemma_macro, row=\"mode\", hue=\"mode\", aspect=15, height=.5, palette=pal)\n",
    "\n",
    "# Draw the densities in a few steps\n",
    "g.map(sns.kdeplot, metric,\n",
    "      bw_adjust=.5, clip_on=False,\n",
    "      fill=True, alpha=1, linewidth=1.5)\n",
    "g.map(sns.kdeplot, metric, clip_on=False, color=\"w\", lw=2, bw_adjust=.5)\n",
    "\n",
    "# passing color=None to refline() uses the hue mapping\n",
    "g.refline(y=0, linewidth=2, linestyle=\"-\", color=None, clip_on=False)\n",
    "\n",
    "# Set the subplots to overlap\n",
    "g.figure.subplots_adjust(hspace=-.25)\n",
    "\n",
    "def label(x, color, label):\n",
    "    ax = plt.gca()\n",
    "    ax.text(0, .2, label, fontweight=\"bold\", color=\"black\",\n",
    "            ha=\"left\", va=\"center\", transform=ax.transAxes)\n",
    "\n",
    "g.map(label, \"mode\")\n",
    "\n",
    "# Remove axes details that don't play well with overlap\n",
    "g.set_titles(\"\")\n",
    "g.set(yticks=[], ylabel=\"\")\n",
    "g.despine(bottom=True, left=True)"
   ]
  },
  {
   "cell_type": "markdown",
   "metadata": {},
   "source": [
    "# Inclusive/Exclusive Plots"
   ]
  },
  {
   "cell_type": "code",
   "execution_count": 18,
   "metadata": {},
   "outputs": [],
   "source": [
    "import matplotlib\n",
    "import matplotlib.pyplot as plt\n",
    "\n",
    "cmap = matplotlib.cm.get_cmap('tab10')\n",
    "\n",
    "def get_stats_morph_tags(eval_data, tags, metric, include_or_exclude: str = \"include\", lemma_lim: float = 0.0):\n",
    "\n",
    "    # Get all morph_tag_sets where the tags are included, include exactly once or excluded\n",
    "    if include_or_exclude == \"include\":\n",
    "        tag_sets_matching = {tag_set for tag_set in eval_data.keys() if len(set.intersection(tags, {t.lower() for t in list(tag_set)})) >= 1}\n",
    "\n",
    "    elif include_or_exclude == \"once\":\n",
    "        tag_sets_matching = {tag_set for tag_set in eval_data.keys() if len(set.intersection(tags, {t.lower() for t in list(tag_set)})) == 1}\n",
    "\n",
    "    else:\n",
    "        tag_sets_matching = {tag_set for tag_set in eval_data.keys() if len(set.intersection(tags, {t.lower() for t in list(tag_set)})) < 1}\n",
    "\n",
    "    # Filter out instances not marked for a POS (probably errors)\n",
    "    tag_sets_matching = {\n",
    "        tag_set for tag_set in list(tag_sets_matching)\n",
    "        if len(set.intersection(morph_cat_tag_vocab[\"Part of Speech\"], {t.lower() for t in list(tag_set)})) >= 1\n",
    "        }\n",
    "\n",
    "    if len(tag_sets_matching) == 0:\n",
    "        return None\n",
    "\n",
    "    # Iterate over these morph_tag_sets and generate summary statistics over all possible lemmas\n",
    "    tag_sets_all_points = []\n",
    "    tag_sets_points = []\n",
    "    for tag_set in list(tag_sets_matching):\n",
    "        tag_set_lemma_agg = []\n",
    "        for _, lemma_results in eval_data[tag_set].items():\n",
    "            lemma_results_agg = []\n",
    "\n",
    "            for instance in lemma_results:\n",
    "                if instance[\"lemma_match\"] >= lemma_lim:\n",
    "                    lemma_results_agg.append(instance[metric])\n",
    "                    tag_sets_all_points.append(instance[metric])\n",
    "\n",
    "            lemma_mean = np.mean(lemma_results_agg)\n",
    "            lemma_N = len(lemma_results_agg)\n",
    "            lemma_sum = np.sum(lemma_results_agg)\n",
    "            lemma_sumsq = np.sum(np.power(lemma_results_agg, 2))\n",
    "\n",
    "            tag_set_lemma_agg.append((lemma_mean, lemma_N, lemma_sum, lemma_sumsq))\n",
    "\n",
    "        tag_sets_points.extend(tag_set_lemma_agg)\n",
    "\n",
    "    # Transpose the lists\n",
    "    tag_lemma_mean, tag_lemma_N, tag_lemma_sum, tag_lemma_sumsq = list(map(np.array, zip(*tag_sets_points)))\n",
    "\n",
    "    # Compute aggregated summary statistics\n",
    "    tN = np.sum(tag_lemma_N)\n",
    "    tS = np.sum(tag_lemma_sum)\n",
    "    tS2 = np.sum(tag_lemma_sumsq)\n",
    "\n",
    "    tag_mean_micro = tS / tN\n",
    "    tag_std_micro = np.sqrt(((tS2 - np.power(tS, 2)/tN) / (tN - 1)))\n",
    "    tag_N_micro = tN\n",
    "    tag_quantiles_micro = np.quantile(tag_sets_all_points, [0, 0.125, 0.25, 0.341, 0.50, 0.68, 0.75, 0.875, 1])\n",
    "\n",
    "    tag_mean_macro = np.mean(tag_lemma_mean)\n",
    "    tag_std_macro = np.std(tag_lemma_mean)\n",
    "    tag_N_macro = tag_lemma_mean.shape[0]\n",
    "    tag_quantiles_macro = np.quantile(tag_lemma_mean, [0, 0.125, 0.25, 0.341, 0.50, 0.68, 0.75, 0.875, 1])\n",
    "\n",
    "    return (tag_mean_micro, tag_std_micro, tag_N_micro, tag_quantiles_micro), (tag_mean_macro, tag_std_macro, tag_N_macro, tag_quantiles_macro)\n",
    "\n",
    "def get_stats_morph_cat(eval_data, morph_cat_tag_vocab, cat: str, metric: str, lemma_lim: float = 0.0):\n",
    "\n",
    "    micro = dict()\n",
    "    macro = dict()\n",
    "\n",
    "    inclusive = get_stats_morph_tags(\n",
    "        eval_data,\n",
    "        morph_cat_tag_vocab[cat],\n",
    "        metric,\n",
    "        include_or_exclude=\"include\",\n",
    "        lemma_lim=lemma_lim,\n",
    "        )\n",
    "\n",
    "    if inclusive is None:\n",
    "        return None, None\n",
    "\n",
    "    micro[\"inclusive\"] = inclusive[0]\n",
    "    macro[\"inclusive\"] = inclusive[1]\n",
    "\n",
    "    exclusive = get_stats_morph_tags(\n",
    "        eval_data,\n",
    "        morph_cat_tag_vocab[cat],\n",
    "        metric,\n",
    "        include_or_exclude=\"exclude\",\n",
    "        lemma_lim=lemma_lim,\n",
    "        )\n",
    "\n",
    "    if exclusive is not None:\n",
    "        micro[\"exclusive\"] = exclusive[0]\n",
    "        macro[\"exclusive\"] = exclusive[1]\n",
    "\n",
    "    else:\n",
    "        micro[\"exclusive\"] = (0, 0, 0, [0 for _ in range(9)])\n",
    "        macro[\"exclusive\"] = (0, 0, 0, [0 for _ in range(9)])\n",
    "\n",
    "    for tag in list(morph_cat_tag_vocab[cat]):\n",
    "        tag_data = get_stats_morph_tags(\n",
    "                eval_data,\n",
    "                {tag},\n",
    "                metric,\n",
    "                include_or_exclude=\"once\",\n",
    "                lemma_lim=lemma_lim,\n",
    "                )\n",
    "\n",
    "        if tag_data is not None:\n",
    "            micro[tag] = tag_data[0]\n",
    "            macro[tag] = tag_data[1]\n",
    "\n",
    "    return micro, macro\n",
    "\n",
    "def cat_agg_plot(\n",
    "    eval_data,\n",
    "    morph_cat_tag_vocab,\n",
    "    category: str,\n",
    "    micro_or_macro = \"micro\",\n",
    "    metric=\"morph_tag_iou\",\n",
    "    mean_size = 150,\n",
    "    colours = {\n",
    "        \"inclusive\": cmap(0),\n",
    "        \"exclusive\": cmap(1),\n",
    "        \"tag\": cmap(2)\n",
    "    },\n",
    "    xlim = (0, 1),\n",
    "    lemma_lim: float = 0.0,\n",
    "):\n",
    "    # ==============================================================================\n",
    "    # Get aggregated data\n",
    "    # ==============================================================================\n",
    "    micro, macro = get_stats_morph_cat(\n",
    "        eval_data=eval_data,\n",
    "        morph_cat_tag_vocab=morph_cat_tag_vocab,\n",
    "        cat=category,\n",
    "        metric=metric,\n",
    "        lemma_lim=lemma_lim,\n",
    "        )\n",
    "\n",
    "    if micro is None:\n",
    "        return None, None\n",
    "\n",
    "    agg_stats = micro if micro_or_macro == \"micro\" else macro\n",
    "\n",
    "    quantiles = [\n",
    "        (\"inclusive\", np.concatenate([[agg_stats[\"inclusive\"][0]], agg_stats[\"inclusive\"][-1]]), agg_stats[\"inclusive\"][2]),\n",
    "        (\"exclusive\", np.concatenate([[agg_stats[\"exclusive\"][0]], agg_stats[\"exclusive\"][-1]]), agg_stats[\"exclusive\"][2]),\n",
    "    ]\n",
    "\n",
    "    for tag in sorted(list(agg_stats.keys())):\n",
    "        if tag in ['exclusive', 'inclusive']:\n",
    "            continue\n",
    "\n",
    "        quantiles.append(\n",
    "            (tag, np.concatenate([[agg_stats[tag][0]], agg_stats[tag][-1]]), agg_stats[tag][2])\n",
    "        )\n",
    "\n",
    "    positions = range(len(quantiles))[::-1]\n",
    "\n",
    "    # ==============================================================================\n",
    "    # Boxplots\n",
    "    # ==============================================================================\n",
    "    bxp_stats_1 = [\n",
    "        {\n",
    "            \"mean\": v[0],\n",
    "            \"med\": v[6],\n",
    "            \"q1\": v[5],\n",
    "            \"q3\": v[7],\n",
    "            \"whislo\": v[5],\n",
    "            \"whishi\": v[7]}\n",
    "        for _, v, _ in quantiles\n",
    "        ]\n",
    "\n",
    "    bxp_stats_2 = [\n",
    "        {\n",
    "            \"med\": v[6],\n",
    "            \"q1\": v[4],\n",
    "            \"q3\": v[8],\n",
    "            \"whislo\": v[3],\n",
    "            \"whishi\": v[9]}\n",
    "        for _, v, _ in quantiles\n",
    "        ]\n",
    "\n",
    "    min_outer_box = min(v[4] for _, v, _ in quantiles)\n",
    "    max_outer_box = max(v[8] for _, v, _ in quantiles)\n",
    "    max_iqr = max(v[8] - v[4] for _, v, _ in quantiles)\n",
    "\n",
    "    fig, ax = plt.subplots(1, 1, figsize=(10, 5))\n",
    "\n",
    "    boxprops = {\"linestyle\":'-', \"linewidth\": 1, \"facecolor\": \"white\", \"edgecolor\": \"black\"}\n",
    "    medianprops = {\"linestyle\":'-', \"linewidth\": 1, \"color\": \"black\"}\n",
    "    meanpointprops = {\"marker\": 'D', \"markeredgecolor\": 'black', \"markerfacecolor\": 'black'}\n",
    "\n",
    "    ax.bxp(\n",
    "        bxp_stats_1,\n",
    "        positions=positions,\n",
    "        showmeans=False,\n",
    "        showfliers=False,\n",
    "        shownotches=False,\n",
    "        showcaps=False,\n",
    "        vert=False,\n",
    "        widths=0.2,\n",
    "        zorder=2,\n",
    "        patch_artist=True,\n",
    "        boxprops=boxprops,\n",
    "        medianprops=medianprops,\n",
    "        meanprops=meanpointprops\n",
    "    )\n",
    "\n",
    "    ax.bxp(\n",
    "        bxp_stats_2,\n",
    "        positions=positions,\n",
    "        showfliers=False,\n",
    "        shownotches=False,\n",
    "        showcaps=False,\n",
    "        vert=False,\n",
    "        widths=0.1,\n",
    "        zorder=1,\n",
    "        patch_artist=True,\n",
    "        boxprops=boxprops,\n",
    "        medianprops=medianprops,\n",
    "    )\n",
    "    ax.set_yticklabels([k for k, _, _ in quantiles] * 2)\n",
    "\n",
    "    if xlim is not None:\n",
    "        ax.set_xlim(-0.05 + xlim[0], 0.05 + xlim[1])\n",
    "    else:\n",
    "        ax.set_xlim(min_outer_box - 0.5 * max_iqr, max_outer_box + max_iqr * 0.5)\n",
    "\n",
    "    ax.set_ylim(-1, len(quantiles))\n",
    "    ax.vlines(\n",
    "        x=quantiles[0][1][0],\n",
    "        ymin=-1,\n",
    "        ymax=len(quantiles),\n",
    "        ls=\"--\",\n",
    "        color=\"black\",\n",
    "        zorder=-1,\n",
    "    )\n",
    "\n",
    "    # ==============================================================================\n",
    "    # Mean Points\n",
    "    # ==============================================================================\n",
    "\n",
    "    means = np.array([q[0] for _, q, _ in quantiles])\n",
    "    Ns = np.array([N for _, _, N in quantiles])\n",
    "\n",
    "    sizes = mean_size * np.sqrt((Ns / Ns.sum()))\n",
    "\n",
    "    ax.scatter(\n",
    "        x=means,\n",
    "        y=positions,\n",
    "        s=sizes,\n",
    "        c=[colours[\"inclusive\"], colours[\"exclusive\"]] + [colours[\"tag\"]] * (means.shape[0] - 2),\n",
    "        zorder=3,\n",
    "        marker=\"D\"\n",
    "    )\n",
    "\n",
    "    ax.set_title(f\"{category} - {metric}\")\n",
    "\n",
    "    return fig, agg_stats\n"
   ]
  },
  {
   "cell_type": "code",
   "execution_count": 20,
   "metadata": {},
   "outputs": [
    {
     "data": {
      "image/png": "[encoded data removed]",
      "text/plain": [
       "<Figure size 720x360 with 1 Axes>"
      ]
     },
     "metadata": {},
     "output_type": "display_data"
    }
   ],
   "source": [
    "fig, agg_stats = cat_agg_plot(\n",
    "    eval_data,\n",
    "    morph_cat_tag_vocab,\n",
    "    category=\"Person\",\n",
    "    metric=\"morph_tag_iou\",\n",
    "    xlim=(0,1) if \"lev\" not in metric and metric != \"entropy\" else None,\n",
    "    lemma_lim=0/24,\n",
    ")\n"
   ]
  },
  {
   "cell_type": "code",
   "execution_count": 32,
   "metadata": {},
   "outputs": [
    {
     "data": {
      "text/plain": [
       "dict_keys(['char_match', 'lev_dist', 'norm_lev_dist', 'chrf_1', 'chrf_2', 'chrf_3', 'chrf_4', 'chrf_5', 'spe_match', 'spe_lev_dist', 'spe_norm_lev_dist', 'lemma_match', 'lemma_norm_lev_dist', 'morph_tag_match', 'morph_tag_iou', 'morph_cat_iou', 'confusion', 'morph_tag_iou_at_match', 'entropy'])"
      ]
     },
     "execution_count": 32,
     "metadata": {},
     "output_type": "execute_result"
    }
   ],
   "source": [
    "list(list(eval_data.values())[0].values())[0][0].keys()"
   ]
  },
  {
   "cell_type": "code",
   "execution_count": 43,
   "metadata": {},
   "outputs": [
    {
     "name": "stderr",
     "output_type": "stream",
     "text": [
      "c:\\Users\\ivoon\\Anaconda3\\envs\\msc_thesis\\lib\\site-packages\\numpy\\core\\fromnumeric.py:3474: RuntimeWarning: Mean of empty slice.\n",
      "  return _methods._mean(a, axis=axis, dtype=dtype,\n",
      "c:\\Users\\ivoon\\Anaconda3\\envs\\msc_thesis\\lib\\site-packages\\numpy\\core\\_methods.py:189: RuntimeWarning: invalid value encountered in double_scalars\n",
      "  ret = ret.dtype.type(ret / rcount)\n"
     ]
    },
    {
     "data": {
      "image/png": "[encoded data removed]",
      "text/plain": [
       "<Figure size 720x360 with 1 Axes>"
      ]
     },
     "metadata": {},
     "output_type": "display_data"
    }
   ],
   "source": [
    "metric = \"spe_norm_lev_dist\"\n",
    "\n",
    "fig, agg_stats = cat_agg_plot(\n",
    "    eval_data,\n",
    "    morph_cat_tag_vocab,\n",
    "    category=\"Person\",\n",
    "    metric=metric,\n",
    "    xlim=(0,1) if \"lev\" not in metric and metric != \"entropy\" else None,\n",
    "    lemma_lim=1/24,\n",
    ")\n"
   ]
  },
  {
   "cell_type": "code",
   "execution_count": 36,
   "metadata": {},
   "outputs": [
    {
     "data": {
      "text/plain": [
       "(9.974182454814718, 13.463738035001692)"
      ]
     },
     "execution_count": 36,
     "metadata": {},
     "output_type": "execute_result"
    }
   ],
   "source": [
    "import math\n",
    "\n",
    "math.exp(2.3), math.exp(2.6)"
   ]
  },
  {
   "cell_type": "code",
   "execution_count": 45,
   "metadata": {},
   "outputs": [
    {
     "name": "stderr",
     "output_type": "stream",
     "text": [
      "c:\\Users\\ivoon\\Anaconda3\\envs\\msc_thesis\\lib\\site-packages\\numpy\\core\\fromnumeric.py:3474: RuntimeWarning: Mean of empty slice.\n",
      "  return _methods._mean(a, axis=axis, dtype=dtype,\n",
      "c:\\Users\\ivoon\\Anaconda3\\envs\\msc_thesis\\lib\\site-packages\\numpy\\core\\_methods.py:189: RuntimeWarning: invalid value encountered in double_scalars\n",
      "  ret = ret.dtype.type(ret / rcount)\n"
     ]
    },
    {
     "name": "stdout",
     "output_type": "stream",
     "text": [
      "./nmt_adapt/eval/figures/220426_1444_English_Czech/Person/morph_tag_iou.png\n"
     ]
    },
    {
     "name": "stderr",
     "output_type": "stream",
     "text": [
      "c:\\Users\\ivoon\\Anaconda3\\envs\\msc_thesis\\lib\\site-packages\\numpy\\core\\fromnumeric.py:3474: RuntimeWarning: Mean of empty slice.\n",
      "  return _methods._mean(a, axis=axis, dtype=dtype,\n",
      "c:\\Users\\ivoon\\Anaconda3\\envs\\msc_thesis\\lib\\site-packages\\numpy\\core\\_methods.py:189: RuntimeWarning: invalid value encountered in double_scalars\n",
      "  ret = ret.dtype.type(ret / rcount)\n"
     ]
    },
    {
     "name": "stdout",
     "output_type": "stream",
     "text": [
      "./nmt_adapt/eval/figures/220426_1444_English_Czech/Person/morph_cat_iou.png\n"
     ]
    },
    {
     "name": "stderr",
     "output_type": "stream",
     "text": [
      "c:\\Users\\ivoon\\Anaconda3\\envs\\msc_thesis\\lib\\site-packages\\numpy\\core\\fromnumeric.py:3474: RuntimeWarning: Mean of empty slice.\n",
      "  return _methods._mean(a, axis=axis, dtype=dtype,\n",
      "c:\\Users\\ivoon\\Anaconda3\\envs\\msc_thesis\\lib\\site-packages\\numpy\\core\\_methods.py:189: RuntimeWarning: invalid value encountered in double_scalars\n",
      "  ret = ret.dtype.type(ret / rcount)\n"
     ]
    },
    {
     "name": "stdout",
     "output_type": "stream",
     "text": [
      "./nmt_adapt/eval/figures/220426_1444_English_Czech/Person/norm_lev_dist.png\n"
     ]
    },
    {
     "name": "stderr",
     "output_type": "stream",
     "text": [
      "c:\\Users\\ivoon\\Anaconda3\\envs\\msc_thesis\\lib\\site-packages\\numpy\\core\\fromnumeric.py:3474: RuntimeWarning: Mean of empty slice.\n",
      "  return _methods._mean(a, axis=axis, dtype=dtype,\n",
      "c:\\Users\\ivoon\\Anaconda3\\envs\\msc_thesis\\lib\\site-packages\\numpy\\core\\_methods.py:189: RuntimeWarning: invalid value encountered in double_scalars\n",
      "  ret = ret.dtype.type(ret / rcount)\n"
     ]
    },
    {
     "name": "stdout",
     "output_type": "stream",
     "text": [
      "./nmt_adapt/eval/figures/220426_1444_English_Czech/Person/chrf_3.png\n"
     ]
    },
    {
     "name": "stderr",
     "output_type": "stream",
     "text": [
      "c:\\Users\\ivoon\\Anaconda3\\envs\\msc_thesis\\lib\\site-packages\\numpy\\core\\fromnumeric.py:3474: RuntimeWarning: Mean of empty slice.\n",
      "  return _methods._mean(a, axis=axis, dtype=dtype,\n",
      "c:\\Users\\ivoon\\Anaconda3\\envs\\msc_thesis\\lib\\site-packages\\numpy\\core\\_methods.py:189: RuntimeWarning: invalid value encountered in double_scalars\n",
      "  ret = ret.dtype.type(ret / rcount)\n"
     ]
    },
    {
     "name": "stdout",
     "output_type": "stream",
     "text": [
      "./nmt_adapt/eval/figures/220426_1444_English_Czech/Person/entropy.png\n"
     ]
    },
    {
     "name": "stderr",
     "output_type": "stream",
     "text": [
      "c:\\Users\\ivoon\\Anaconda3\\envs\\msc_thesis\\lib\\site-packages\\numpy\\core\\fromnumeric.py:3474: RuntimeWarning: Mean of empty slice.\n",
      "  return _methods._mean(a, axis=axis, dtype=dtype,\n",
      "c:\\Users\\ivoon\\Anaconda3\\envs\\msc_thesis\\lib\\site-packages\\numpy\\core\\_methods.py:189: RuntimeWarning: invalid value encountered in double_scalars\n",
      "  ret = ret.dtype.type(ret / rcount)\n"
     ]
    },
    {
     "name": "stdout",
     "output_type": "stream",
     "text": [
      "./nmt_adapt/eval/figures/220426_1444_English_Czech/Tense/morph_tag_iou.png\n"
     ]
    },
    {
     "name": "stderr",
     "output_type": "stream",
     "text": [
      "c:\\Users\\ivoon\\Anaconda3\\envs\\msc_thesis\\lib\\site-packages\\numpy\\core\\fromnumeric.py:3474: RuntimeWarning: Mean of empty slice.\n",
      "  return _methods._mean(a, axis=axis, dtype=dtype,\n",
      "c:\\Users\\ivoon\\Anaconda3\\envs\\msc_thesis\\lib\\site-packages\\numpy\\core\\_methods.py:189: RuntimeWarning: invalid value encountered in double_scalars\n",
      "  ret = ret.dtype.type(ret / rcount)\n"
     ]
    },
    {
     "name": "stdout",
     "output_type": "stream",
     "text": [
      "./nmt_adapt/eval/figures/220426_1444_English_Czech/Tense/morph_cat_iou.png\n"
     ]
    },
    {
     "name": "stderr",
     "output_type": "stream",
     "text": [
      "c:\\Users\\ivoon\\Anaconda3\\envs\\msc_thesis\\lib\\site-packages\\numpy\\core\\fromnumeric.py:3474: RuntimeWarning: Mean of empty slice.\n",
      "  return _methods._mean(a, axis=axis, dtype=dtype,\n",
      "c:\\Users\\ivoon\\Anaconda3\\envs\\msc_thesis\\lib\\site-packages\\numpy\\core\\_methods.py:189: RuntimeWarning: invalid value encountered in double_scalars\n",
      "  ret = ret.dtype.type(ret / rcount)\n"
     ]
    },
    {
     "name": "stdout",
     "output_type": "stream",
     "text": [
      "./nmt_adapt/eval/figures/220426_1444_English_Czech/Tense/norm_lev_dist.png\n"
     ]
    },
    {
     "name": "stderr",
     "output_type": "stream",
     "text": [
      "c:\\Users\\ivoon\\Anaconda3\\envs\\msc_thesis\\lib\\site-packages\\numpy\\core\\fromnumeric.py:3474: RuntimeWarning: Mean of empty slice.\n",
      "  return _methods._mean(a, axis=axis, dtype=dtype,\n",
      "c:\\Users\\ivoon\\Anaconda3\\envs\\msc_thesis\\lib\\site-packages\\numpy\\core\\_methods.py:189: RuntimeWarning: invalid value encountered in double_scalars\n",
      "  ret = ret.dtype.type(ret / rcount)\n"
     ]
    },
    {
     "name": "stdout",
     "output_type": "stream",
     "text": [
      "./nmt_adapt/eval/figures/220426_1444_English_Czech/Tense/chrf_3.png\n"
     ]
    },
    {
     "name": "stderr",
     "output_type": "stream",
     "text": [
      "c:\\Users\\ivoon\\Anaconda3\\envs\\msc_thesis\\lib\\site-packages\\numpy\\core\\fromnumeric.py:3474: RuntimeWarning: Mean of empty slice.\n",
      "  return _methods._mean(a, axis=axis, dtype=dtype,\n",
      "c:\\Users\\ivoon\\Anaconda3\\envs\\msc_thesis\\lib\\site-packages\\numpy\\core\\_methods.py:189: RuntimeWarning: invalid value encountered in double_scalars\n",
      "  ret = ret.dtype.type(ret / rcount)\n"
     ]
    },
    {
     "name": "stdout",
     "output_type": "stream",
     "text": [
      "./nmt_adapt/eval/figures/220426_1444_English_Czech/Tense/entropy.png\n"
     ]
    },
    {
     "name": "stderr",
     "output_type": "stream",
     "text": [
      "c:\\Users\\ivoon\\Anaconda3\\envs\\msc_thesis\\lib\\site-packages\\numpy\\core\\fromnumeric.py:3474: RuntimeWarning: Mean of empty slice.\n",
      "  return _methods._mean(a, axis=axis, dtype=dtype,\n",
      "c:\\Users\\ivoon\\Anaconda3\\envs\\msc_thesis\\lib\\site-packages\\numpy\\core\\_methods.py:189: RuntimeWarning: invalid value encountered in double_scalars\n",
      "  ret = ret.dtype.type(ret / rcount)\n"
     ]
    },
    {
     "name": "stdout",
     "output_type": "stream",
     "text": [
      "./nmt_adapt/eval/figures/220426_1444_English_Czech/Comparison/morph_tag_iou.png\n"
     ]
    },
    {
     "name": "stderr",
     "output_type": "stream",
     "text": [
      "c:\\Users\\ivoon\\Anaconda3\\envs\\msc_thesis\\lib\\site-packages\\numpy\\core\\fromnumeric.py:3474: RuntimeWarning: Mean of empty slice.\n",
      "  return _methods._mean(a, axis=axis, dtype=dtype,\n",
      "c:\\Users\\ivoon\\Anaconda3\\envs\\msc_thesis\\lib\\site-packages\\numpy\\core\\_methods.py:189: RuntimeWarning: invalid value encountered in double_scalars\n",
      "  ret = ret.dtype.type(ret / rcount)\n"
     ]
    },
    {
     "name": "stdout",
     "output_type": "stream",
     "text": [
      "./nmt_adapt/eval/figures/220426_1444_English_Czech/Comparison/morph_cat_iou.png\n"
     ]
    },
    {
     "name": "stderr",
     "output_type": "stream",
     "text": [
      "c:\\Users\\ivoon\\Anaconda3\\envs\\msc_thesis\\lib\\site-packages\\numpy\\core\\fromnumeric.py:3474: RuntimeWarning: Mean of empty slice.\n",
      "  return _methods._mean(a, axis=axis, dtype=dtype,\n",
      "c:\\Users\\ivoon\\Anaconda3\\envs\\msc_thesis\\lib\\site-packages\\numpy\\core\\_methods.py:189: RuntimeWarning: invalid value encountered in double_scalars\n",
      "  ret = ret.dtype.type(ret / rcount)\n"
     ]
    },
    {
     "name": "stdout",
     "output_type": "stream",
     "text": [
      "./nmt_adapt/eval/figures/220426_1444_English_Czech/Comparison/norm_lev_dist.png\n"
     ]
    },
    {
     "name": "stderr",
     "output_type": "stream",
     "text": [
      "c:\\Users\\ivoon\\Anaconda3\\envs\\msc_thesis\\lib\\site-packages\\numpy\\core\\fromnumeric.py:3474: RuntimeWarning: Mean of empty slice.\n",
      "  return _methods._mean(a, axis=axis, dtype=dtype,\n",
      "c:\\Users\\ivoon\\Anaconda3\\envs\\msc_thesis\\lib\\site-packages\\numpy\\core\\_methods.py:189: RuntimeWarning: invalid value encountered in double_scalars\n",
      "  ret = ret.dtype.type(ret / rcount)\n"
     ]
    },
    {
     "name": "stdout",
     "output_type": "stream",
     "text": [
      "./nmt_adapt/eval/figures/220426_1444_English_Czech/Comparison/chrf_3.png\n"
     ]
    },
    {
     "name": "stderr",
     "output_type": "stream",
     "text": [
      "c:\\Users\\ivoon\\Anaconda3\\envs\\msc_thesis\\lib\\site-packages\\numpy\\core\\fromnumeric.py:3474: RuntimeWarning: Mean of empty slice.\n",
      "  return _methods._mean(a, axis=axis, dtype=dtype,\n",
      "c:\\Users\\ivoon\\Anaconda3\\envs\\msc_thesis\\lib\\site-packages\\numpy\\core\\_methods.py:189: RuntimeWarning: invalid value encountered in double_scalars\n",
      "  ret = ret.dtype.type(ret / rcount)\n"
     ]
    },
    {
     "name": "stdout",
     "output_type": "stream",
     "text": [
      "./nmt_adapt/eval/figures/220426_1444_English_Czech/Comparison/entropy.png\n"
     ]
    },
    {
     "name": "stderr",
     "output_type": "stream",
     "text": [
      "c:\\Users\\ivoon\\Anaconda3\\envs\\msc_thesis\\lib\\site-packages\\numpy\\core\\fromnumeric.py:3474: RuntimeWarning: Mean of empty slice.\n",
      "  return _methods._mean(a, axis=axis, dtype=dtype,\n",
      "c:\\Users\\ivoon\\Anaconda3\\envs\\msc_thesis\\lib\\site-packages\\numpy\\core\\_methods.py:189: RuntimeWarning: invalid value encountered in double_scalars\n",
      "  ret = ret.dtype.type(ret / rcount)\n"
     ]
    },
    {
     "name": "stdout",
     "output_type": "stream",
     "text": [
      "./nmt_adapt/eval/figures/220426_1444_English_Czech/Case/morph_tag_iou.png\n"
     ]
    },
    {
     "name": "stderr",
     "output_type": "stream",
     "text": [
      "c:\\Users\\ivoon\\Anaconda3\\envs\\msc_thesis\\lib\\site-packages\\numpy\\core\\fromnumeric.py:3474: RuntimeWarning: Mean of empty slice.\n",
      "  return _methods._mean(a, axis=axis, dtype=dtype,\n",
      "c:\\Users\\ivoon\\Anaconda3\\envs\\msc_thesis\\lib\\site-packages\\numpy\\core\\_methods.py:189: RuntimeWarning: invalid value encountered in double_scalars\n",
      "  ret = ret.dtype.type(ret / rcount)\n"
     ]
    },
    {
     "name": "stdout",
     "output_type": "stream",
     "text": [
      "./nmt_adapt/eval/figures/220426_1444_English_Czech/Case/morph_cat_iou.png\n"
     ]
    },
    {
     "name": "stderr",
     "output_type": "stream",
     "text": [
      "c:\\Users\\ivoon\\Anaconda3\\envs\\msc_thesis\\lib\\site-packages\\numpy\\core\\fromnumeric.py:3474: RuntimeWarning: Mean of empty slice.\n",
      "  return _methods._mean(a, axis=axis, dtype=dtype,\n",
      "c:\\Users\\ivoon\\Anaconda3\\envs\\msc_thesis\\lib\\site-packages\\numpy\\core\\_methods.py:189: RuntimeWarning: invalid value encountered in double_scalars\n",
      "  ret = ret.dtype.type(ret / rcount)\n"
     ]
    },
    {
     "name": "stdout",
     "output_type": "stream",
     "text": [
      "./nmt_adapt/eval/figures/220426_1444_English_Czech/Case/norm_lev_dist.png\n"
     ]
    },
    {
     "name": "stderr",
     "output_type": "stream",
     "text": [
      "c:\\Users\\ivoon\\Anaconda3\\envs\\msc_thesis\\lib\\site-packages\\numpy\\core\\fromnumeric.py:3474: RuntimeWarning: Mean of empty slice.\n",
      "  return _methods._mean(a, axis=axis, dtype=dtype,\n",
      "c:\\Users\\ivoon\\Anaconda3\\envs\\msc_thesis\\lib\\site-packages\\numpy\\core\\_methods.py:189: RuntimeWarning: invalid value encountered in double_scalars\n",
      "  ret = ret.dtype.type(ret / rcount)\n"
     ]
    },
    {
     "name": "stdout",
     "output_type": "stream",
     "text": [
      "./nmt_adapt/eval/figures/220426_1444_English_Czech/Case/chrf_3.png\n"
     ]
    },
    {
     "name": "stderr",
     "output_type": "stream",
     "text": [
      "c:\\Users\\ivoon\\Anaconda3\\envs\\msc_thesis\\lib\\site-packages\\numpy\\core\\fromnumeric.py:3474: RuntimeWarning: Mean of empty slice.\n",
      "  return _methods._mean(a, axis=axis, dtype=dtype,\n",
      "c:\\Users\\ivoon\\Anaconda3\\envs\\msc_thesis\\lib\\site-packages\\numpy\\core\\_methods.py:189: RuntimeWarning: invalid value encountered in double_scalars\n",
      "  ret = ret.dtype.type(ret / rcount)\n"
     ]
    },
    {
     "name": "stdout",
     "output_type": "stream",
     "text": [
      "./nmt_adapt/eval/figures/220426_1444_English_Czech/Case/entropy.png\n"
     ]
    },
    {
     "name": "stderr",
     "output_type": "stream",
     "text": [
      "c:\\Users\\ivoon\\Anaconda3\\envs\\msc_thesis\\lib\\site-packages\\numpy\\core\\fromnumeric.py:3474: RuntimeWarning: Mean of empty slice.\n",
      "  return _methods._mean(a, axis=axis, dtype=dtype,\n",
      "c:\\Users\\ivoon\\Anaconda3\\envs\\msc_thesis\\lib\\site-packages\\numpy\\core\\_methods.py:189: RuntimeWarning: invalid value encountered in double_scalars\n",
      "  ret = ret.dtype.type(ret / rcount)\n"
     ]
    },
    {
     "name": "stdout",
     "output_type": "stream",
     "text": [
      "./nmt_adapt/eval/figures/220426_1444_English_Czech/Voice/morph_tag_iou.png\n"
     ]
    },
    {
     "name": "stderr",
     "output_type": "stream",
     "text": [
      "c:\\Users\\ivoon\\Anaconda3\\envs\\msc_thesis\\lib\\site-packages\\numpy\\core\\fromnumeric.py:3474: RuntimeWarning: Mean of empty slice.\n",
      "  return _methods._mean(a, axis=axis, dtype=dtype,\n",
      "c:\\Users\\ivoon\\Anaconda3\\envs\\msc_thesis\\lib\\site-packages\\numpy\\core\\_methods.py:189: RuntimeWarning: invalid value encountered in double_scalars\n",
      "  ret = ret.dtype.type(ret / rcount)\n"
     ]
    },
    {
     "name": "stdout",
     "output_type": "stream",
     "text": [
      "./nmt_adapt/eval/figures/220426_1444_English_Czech/Voice/morph_cat_iou.png\n"
     ]
    },
    {
     "name": "stderr",
     "output_type": "stream",
     "text": [
      "c:\\Users\\ivoon\\Anaconda3\\envs\\msc_thesis\\lib\\site-packages\\numpy\\core\\fromnumeric.py:3474: RuntimeWarning: Mean of empty slice.\n",
      "  return _methods._mean(a, axis=axis, dtype=dtype,\n",
      "c:\\Users\\ivoon\\Anaconda3\\envs\\msc_thesis\\lib\\site-packages\\numpy\\core\\_methods.py:189: RuntimeWarning: invalid value encountered in double_scalars\n",
      "  ret = ret.dtype.type(ret / rcount)\n"
     ]
    },
    {
     "name": "stdout",
     "output_type": "stream",
     "text": [
      "./nmt_adapt/eval/figures/220426_1444_English_Czech/Voice/norm_lev_dist.png\n"
     ]
    },
    {
     "name": "stderr",
     "output_type": "stream",
     "text": [
      "c:\\Users\\ivoon\\Anaconda3\\envs\\msc_thesis\\lib\\site-packages\\numpy\\core\\fromnumeric.py:3474: RuntimeWarning: Mean of empty slice.\n",
      "  return _methods._mean(a, axis=axis, dtype=dtype,\n",
      "c:\\Users\\ivoon\\Anaconda3\\envs\\msc_thesis\\lib\\site-packages\\numpy\\core\\_methods.py:189: RuntimeWarning: invalid value encountered in double_scalars\n",
      "  ret = ret.dtype.type(ret / rcount)\n"
     ]
    },
    {
     "name": "stdout",
     "output_type": "stream",
     "text": [
      "./nmt_adapt/eval/figures/220426_1444_English_Czech/Voice/chrf_3.png\n"
     ]
    },
    {
     "name": "stderr",
     "output_type": "stream",
     "text": [
      "c:\\Users\\ivoon\\Anaconda3\\envs\\msc_thesis\\lib\\site-packages\\numpy\\core\\fromnumeric.py:3474: RuntimeWarning: Mean of empty slice.\n",
      "  return _methods._mean(a, axis=axis, dtype=dtype,\n",
      "c:\\Users\\ivoon\\Anaconda3\\envs\\msc_thesis\\lib\\site-packages\\numpy\\core\\_methods.py:189: RuntimeWarning: invalid value encountered in double_scalars\n",
      "  ret = ret.dtype.type(ret / rcount)\n"
     ]
    },
    {
     "name": "stdout",
     "output_type": "stream",
     "text": [
      "./nmt_adapt/eval/figures/220426_1444_English_Czech/Voice/entropy.png\n"
     ]
    },
    {
     "name": "stderr",
     "output_type": "stream",
     "text": [
      "c:\\Users\\ivoon\\Anaconda3\\envs\\msc_thesis\\lib\\site-packages\\numpy\\core\\fromnumeric.py:3474: RuntimeWarning: Mean of empty slice.\n",
      "  return _methods._mean(a, axis=axis, dtype=dtype,\n",
      "c:\\Users\\ivoon\\Anaconda3\\envs\\msc_thesis\\lib\\site-packages\\numpy\\core\\_methods.py:189: RuntimeWarning: invalid value encountered in double_scalars\n",
      "  ret = ret.dtype.type(ret / rcount)\n"
     ]
    },
    {
     "name": "stdout",
     "output_type": "stream",
     "text": [
      "./nmt_adapt/eval/figures/220426_1444_English_Czech/Part of Speech/morph_tag_iou.png\n"
     ]
    },
    {
     "name": "stderr",
     "output_type": "stream",
     "text": [
      "c:\\Users\\ivoon\\Anaconda3\\envs\\msc_thesis\\lib\\site-packages\\numpy\\core\\fromnumeric.py:3474: RuntimeWarning: Mean of empty slice.\n",
      "  return _methods._mean(a, axis=axis, dtype=dtype,\n",
      "c:\\Users\\ivoon\\Anaconda3\\envs\\msc_thesis\\lib\\site-packages\\numpy\\core\\_methods.py:189: RuntimeWarning: invalid value encountered in double_scalars\n",
      "  ret = ret.dtype.type(ret / rcount)\n"
     ]
    },
    {
     "name": "stdout",
     "output_type": "stream",
     "text": [
      "./nmt_adapt/eval/figures/220426_1444_English_Czech/Part of Speech/morph_cat_iou.png\n"
     ]
    },
    {
     "name": "stderr",
     "output_type": "stream",
     "text": [
      "c:\\Users\\ivoon\\Anaconda3\\envs\\msc_thesis\\lib\\site-packages\\numpy\\core\\fromnumeric.py:3474: RuntimeWarning: Mean of empty slice.\n",
      "  return _methods._mean(a, axis=axis, dtype=dtype,\n",
      "c:\\Users\\ivoon\\Anaconda3\\envs\\msc_thesis\\lib\\site-packages\\numpy\\core\\_methods.py:189: RuntimeWarning: invalid value encountered in double_scalars\n",
      "  ret = ret.dtype.type(ret / rcount)\n"
     ]
    },
    {
     "name": "stdout",
     "output_type": "stream",
     "text": [
      "./nmt_adapt/eval/figures/220426_1444_English_Czech/Part of Speech/norm_lev_dist.png\n"
     ]
    },
    {
     "name": "stderr",
     "output_type": "stream",
     "text": [
      "c:\\Users\\ivoon\\Anaconda3\\envs\\msc_thesis\\lib\\site-packages\\numpy\\core\\fromnumeric.py:3474: RuntimeWarning: Mean of empty slice.\n",
      "  return _methods._mean(a, axis=axis, dtype=dtype,\n",
      "c:\\Users\\ivoon\\Anaconda3\\envs\\msc_thesis\\lib\\site-packages\\numpy\\core\\_methods.py:189: RuntimeWarning: invalid value encountered in double_scalars\n",
      "  ret = ret.dtype.type(ret / rcount)\n"
     ]
    },
    {
     "name": "stdout",
     "output_type": "stream",
     "text": [
      "./nmt_adapt/eval/figures/220426_1444_English_Czech/Part of Speech/chrf_3.png\n"
     ]
    },
    {
     "name": "stderr",
     "output_type": "stream",
     "text": [
      "c:\\Users\\ivoon\\Anaconda3\\envs\\msc_thesis\\lib\\site-packages\\numpy\\core\\fromnumeric.py:3474: RuntimeWarning: Mean of empty slice.\n",
      "  return _methods._mean(a, axis=axis, dtype=dtype,\n",
      "c:\\Users\\ivoon\\Anaconda3\\envs\\msc_thesis\\lib\\site-packages\\numpy\\core\\_methods.py:189: RuntimeWarning: invalid value encountered in double_scalars\n",
      "  ret = ret.dtype.type(ret / rcount)\n"
     ]
    },
    {
     "name": "stdout",
     "output_type": "stream",
     "text": [
      "./nmt_adapt/eval/figures/220426_1444_English_Czech/Part of Speech/entropy.png\n"
     ]
    },
    {
     "name": "stderr",
     "output_type": "stream",
     "text": [
      "c:\\Users\\ivoon\\Anaconda3\\envs\\msc_thesis\\lib\\site-packages\\numpy\\core\\fromnumeric.py:3474: RuntimeWarning: Mean of empty slice.\n",
      "  return _methods._mean(a, axis=axis, dtype=dtype,\n",
      "c:\\Users\\ivoon\\Anaconda3\\envs\\msc_thesis\\lib\\site-packages\\numpy\\core\\_methods.py:189: RuntimeWarning: invalid value encountered in double_scalars\n",
      "  ret = ret.dtype.type(ret / rcount)\n"
     ]
    },
    {
     "name": "stdout",
     "output_type": "stream",
     "text": [
      "./nmt_adapt/eval/figures/220426_1444_English_Czech/Mood/morph_tag_iou.png\n"
     ]
    },
    {
     "name": "stderr",
     "output_type": "stream",
     "text": [
      "c:\\Users\\ivoon\\Anaconda3\\envs\\msc_thesis\\lib\\site-packages\\numpy\\core\\fromnumeric.py:3474: RuntimeWarning: Mean of empty slice.\n",
      "  return _methods._mean(a, axis=axis, dtype=dtype,\n",
      "c:\\Users\\ivoon\\Anaconda3\\envs\\msc_thesis\\lib\\site-packages\\numpy\\core\\_methods.py:189: RuntimeWarning: invalid value encountered in double_scalars\n",
      "  ret = ret.dtype.type(ret / rcount)\n"
     ]
    },
    {
     "name": "stdout",
     "output_type": "stream",
     "text": [
      "./nmt_adapt/eval/figures/220426_1444_English_Czech/Mood/morph_cat_iou.png\n"
     ]
    },
    {
     "name": "stderr",
     "output_type": "stream",
     "text": [
      "c:\\Users\\ivoon\\Anaconda3\\envs\\msc_thesis\\lib\\site-packages\\numpy\\core\\fromnumeric.py:3474: RuntimeWarning: Mean of empty slice.\n",
      "  return _methods._mean(a, axis=axis, dtype=dtype,\n",
      "c:\\Users\\ivoon\\Anaconda3\\envs\\msc_thesis\\lib\\site-packages\\numpy\\core\\_methods.py:189: RuntimeWarning: invalid value encountered in double_scalars\n",
      "  ret = ret.dtype.type(ret / rcount)\n"
     ]
    },
    {
     "name": "stdout",
     "output_type": "stream",
     "text": [
      "./nmt_adapt/eval/figures/220426_1444_English_Czech/Mood/norm_lev_dist.png\n"
     ]
    },
    {
     "name": "stderr",
     "output_type": "stream",
     "text": [
      "c:\\Users\\ivoon\\Anaconda3\\envs\\msc_thesis\\lib\\site-packages\\numpy\\core\\fromnumeric.py:3474: RuntimeWarning: Mean of empty slice.\n",
      "  return _methods._mean(a, axis=axis, dtype=dtype,\n",
      "c:\\Users\\ivoon\\Anaconda3\\envs\\msc_thesis\\lib\\site-packages\\numpy\\core\\_methods.py:189: RuntimeWarning: invalid value encountered in double_scalars\n",
      "  ret = ret.dtype.type(ret / rcount)\n"
     ]
    },
    {
     "name": "stdout",
     "output_type": "stream",
     "text": [
      "./nmt_adapt/eval/figures/220426_1444_English_Czech/Mood/chrf_3.png\n"
     ]
    },
    {
     "name": "stderr",
     "output_type": "stream",
     "text": [
      "c:\\Users\\ivoon\\Anaconda3\\envs\\msc_thesis\\lib\\site-packages\\numpy\\core\\fromnumeric.py:3474: RuntimeWarning: Mean of empty slice.\n",
      "  return _methods._mean(a, axis=axis, dtype=dtype,\n",
      "c:\\Users\\ivoon\\Anaconda3\\envs\\msc_thesis\\lib\\site-packages\\numpy\\core\\_methods.py:189: RuntimeWarning: invalid value encountered in double_scalars\n",
      "  ret = ret.dtype.type(ret / rcount)\n"
     ]
    },
    {
     "name": "stdout",
     "output_type": "stream",
     "text": [
      "./nmt_adapt/eval/figures/220426_1444_English_Czech/Mood/entropy.png\n"
     ]
    },
    {
     "name": "stderr",
     "output_type": "stream",
     "text": [
      "c:\\Users\\ivoon\\Anaconda3\\envs\\msc_thesis\\lib\\site-packages\\numpy\\core\\fromnumeric.py:3474: RuntimeWarning: Mean of empty slice.\n",
      "  return _methods._mean(a, axis=axis, dtype=dtype,\n",
      "c:\\Users\\ivoon\\Anaconda3\\envs\\msc_thesis\\lib\\site-packages\\numpy\\core\\_methods.py:189: RuntimeWarning: invalid value encountered in double_scalars\n",
      "  ret = ret.dtype.type(ret / rcount)\n"
     ]
    },
    {
     "name": "stdout",
     "output_type": "stream",
     "text": [
      "./nmt_adapt/eval/figures/220426_1444_English_Czech/Animacy/morph_tag_iou.png\n"
     ]
    },
    {
     "name": "stderr",
     "output_type": "stream",
     "text": [
      "c:\\Users\\ivoon\\Anaconda3\\envs\\msc_thesis\\lib\\site-packages\\numpy\\core\\fromnumeric.py:3474: RuntimeWarning: Mean of empty slice.\n",
      "  return _methods._mean(a, axis=axis, dtype=dtype,\n",
      "c:\\Users\\ivoon\\Anaconda3\\envs\\msc_thesis\\lib\\site-packages\\numpy\\core\\_methods.py:189: RuntimeWarning: invalid value encountered in double_scalars\n",
      "  ret = ret.dtype.type(ret / rcount)\n"
     ]
    },
    {
     "name": "stdout",
     "output_type": "stream",
     "text": [
      "./nmt_adapt/eval/figures/220426_1444_English_Czech/Animacy/morph_cat_iou.png\n"
     ]
    },
    {
     "name": "stderr",
     "output_type": "stream",
     "text": [
      "c:\\Users\\ivoon\\Anaconda3\\envs\\msc_thesis\\lib\\site-packages\\numpy\\core\\fromnumeric.py:3474: RuntimeWarning: Mean of empty slice.\n",
      "  return _methods._mean(a, axis=axis, dtype=dtype,\n",
      "c:\\Users\\ivoon\\Anaconda3\\envs\\msc_thesis\\lib\\site-packages\\numpy\\core\\_methods.py:189: RuntimeWarning: invalid value encountered in double_scalars\n",
      "  ret = ret.dtype.type(ret / rcount)\n"
     ]
    },
    {
     "name": "stdout",
     "output_type": "stream",
     "text": [
      "./nmt_adapt/eval/figures/220426_1444_English_Czech/Animacy/norm_lev_dist.png\n"
     ]
    },
    {
     "name": "stderr",
     "output_type": "stream",
     "text": [
      "c:\\Users\\ivoon\\Anaconda3\\envs\\msc_thesis\\lib\\site-packages\\numpy\\core\\fromnumeric.py:3474: RuntimeWarning: Mean of empty slice.\n",
      "  return _methods._mean(a, axis=axis, dtype=dtype,\n",
      "c:\\Users\\ivoon\\Anaconda3\\envs\\msc_thesis\\lib\\site-packages\\numpy\\core\\_methods.py:189: RuntimeWarning: invalid value encountered in double_scalars\n",
      "  ret = ret.dtype.type(ret / rcount)\n"
     ]
    },
    {
     "name": "stdout",
     "output_type": "stream",
     "text": [
      "./nmt_adapt/eval/figures/220426_1444_English_Czech/Animacy/chrf_3.png\n"
     ]
    },
    {
     "name": "stderr",
     "output_type": "stream",
     "text": [
      "c:\\Users\\ivoon\\Anaconda3\\envs\\msc_thesis\\lib\\site-packages\\numpy\\core\\fromnumeric.py:3474: RuntimeWarning: Mean of empty slice.\n",
      "  return _methods._mean(a, axis=axis, dtype=dtype,\n",
      "c:\\Users\\ivoon\\Anaconda3\\envs\\msc_thesis\\lib\\site-packages\\numpy\\core\\_methods.py:189: RuntimeWarning: invalid value encountered in double_scalars\n",
      "  ret = ret.dtype.type(ret / rcount)\n"
     ]
    },
    {
     "name": "stdout",
     "output_type": "stream",
     "text": [
      "./nmt_adapt/eval/figures/220426_1444_English_Czech/Animacy/entropy.png\n"
     ]
    },
    {
     "name": "stderr",
     "output_type": "stream",
     "text": [
      "c:\\Users\\ivoon\\Anaconda3\\envs\\msc_thesis\\lib\\site-packages\\numpy\\core\\fromnumeric.py:3474: RuntimeWarning: Mean of empty slice.\n",
      "  return _methods._mean(a, axis=axis, dtype=dtype,\n",
      "c:\\Users\\ivoon\\Anaconda3\\envs\\msc_thesis\\lib\\site-packages\\numpy\\core\\_methods.py:189: RuntimeWarning: invalid value encountered in double_scalars\n",
      "  ret = ret.dtype.type(ret / rcount)\n"
     ]
    },
    {
     "ename": "ValueError",
     "evalue": "zero-size array to reduction operation maximum which has no identity",
     "output_type": "error",
     "traceback": [
      "\u001b[1;31m---------------------------------------------------------------------------\u001b[0m",
      "\u001b[1;31mValueError\u001b[0m                                Traceback (most recent call last)",
      "\u001b[1;32m~\\AppData\\Local\\Temp/ipykernel_8964/3330946665.py\u001b[0m in \u001b[0;36m<module>\u001b[1;34m\u001b[0m\n\u001b[0;32m     24\u001b[0m \u001b[1;33m\u001b[0m\u001b[0m\n\u001b[0;32m     25\u001b[0m             \u001b[0mmeans\u001b[0m \u001b[1;33m=\u001b[0m \u001b[1;33m[\u001b[0m\u001b[0mv\u001b[0m\u001b[1;33m[\u001b[0m\u001b[1;36m0\u001b[0m\u001b[1;33m]\u001b[0m \u001b[1;32mfor\u001b[0m \u001b[0mk\u001b[0m\u001b[1;33m,\u001b[0m \u001b[0mv\u001b[0m \u001b[1;32min\u001b[0m \u001b[0magg_stats\u001b[0m\u001b[1;33m.\u001b[0m\u001b[0mitems\u001b[0m\u001b[1;33m(\u001b[0m\u001b[1;33m)\u001b[0m \u001b[1;32mif\u001b[0m \u001b[0mk\u001b[0m \u001b[1;32mnot\u001b[0m \u001b[1;32min\u001b[0m \u001b[1;33m[\u001b[0m\u001b[1;34m\"inclusive\"\u001b[0m\u001b[1;33m,\u001b[0m \u001b[1;34m\"exclusive\"\u001b[0m\u001b[1;33m]\u001b[0m\u001b[1;33m]\u001b[0m\u001b[1;33m\u001b[0m\u001b[1;33m\u001b[0m\u001b[0m\n\u001b[1;32m---> 26\u001b[1;33m             \u001b[0minter_mean_dist\u001b[0m \u001b[1;33m=\u001b[0m \u001b[0mnp\u001b[0m\u001b[1;33m.\u001b[0m\u001b[0mmax\u001b[0m\u001b[1;33m(\u001b[0m\u001b[0mnp\u001b[0m\u001b[1;33m.\u001b[0m\u001b[0mabs\u001b[0m\u001b[1;33m(\u001b[0m\u001b[1;33m[\u001b[0m\u001b[0mm1\u001b[0m \u001b[1;33m-\u001b[0m \u001b[0mm2\u001b[0m \u001b[1;32mfor\u001b[0m \u001b[0mm1\u001b[0m\u001b[1;33m,\u001b[0m \u001b[0mm2\u001b[0m \u001b[1;32min\u001b[0m \u001b[0mcombinations\u001b[0m\u001b[1;33m(\u001b[0m\u001b[0mmeans\u001b[0m\u001b[1;33m,\u001b[0m \u001b[0mr\u001b[0m\u001b[1;33m=\u001b[0m\u001b[1;36m2\u001b[0m\u001b[1;33m)\u001b[0m\u001b[1;33m]\u001b[0m\u001b[1;33m)\u001b[0m\u001b[1;33m)\u001b[0m \u001b[1;33m/\u001b[0m \u001b[0mnp\u001b[0m\u001b[1;33m.\u001b[0m\u001b[0mstd\u001b[0m\u001b[1;33m(\u001b[0m\u001b[0mmeans\u001b[0m\u001b[1;33m)\u001b[0m\u001b[1;33m\u001b[0m\u001b[1;33m\u001b[0m\u001b[0m\n\u001b[0m\u001b[0;32m     27\u001b[0m \u001b[1;33m\u001b[0m\u001b[0m\n\u001b[0;32m     28\u001b[0m             \u001b[0mmetric_inter_mean_dist\u001b[0m\u001b[1;33m[\u001b[0m\u001b[0mmetric\u001b[0m\u001b[1;33m]\u001b[0m\u001b[1;33m.\u001b[0m\u001b[0mappend\u001b[0m\u001b[1;33m(\u001b[0m\u001b[0minter_mean_dist\u001b[0m\u001b[1;33m)\u001b[0m\u001b[1;33m\u001b[0m\u001b[1;33m\u001b[0m\u001b[0m\n",
      "\u001b[1;32mc:\\Users\\ivoon\\Anaconda3\\envs\\msc_thesis\\lib\\site-packages\\numpy\\core\\overrides.py\u001b[0m in \u001b[0;36mamax\u001b[1;34m(*args, **kwargs)\u001b[0m\n",
      "\u001b[1;32mc:\\Users\\ivoon\\Anaconda3\\envs\\msc_thesis\\lib\\site-packages\\numpy\\core\\fromnumeric.py\u001b[0m in \u001b[0;36mamax\u001b[1;34m(a, axis, out, keepdims, initial, where)\u001b[0m\n\u001b[0;32m   2789\u001b[0m     \u001b[1;36m5\u001b[0m\u001b[1;33m\u001b[0m\u001b[1;33m\u001b[0m\u001b[0m\n\u001b[0;32m   2790\u001b[0m     \"\"\"\n\u001b[1;32m-> 2791\u001b[1;33m     return _wrapreduction(a, np.maximum, 'max', axis, None, out,\n\u001b[0m\u001b[0;32m   2792\u001b[0m                           keepdims=keepdims, initial=initial, where=where)\n\u001b[0;32m   2793\u001b[0m \u001b[1;33m\u001b[0m\u001b[0m\n",
      "\u001b[1;32mc:\\Users\\ivoon\\Anaconda3\\envs\\msc_thesis\\lib\\site-packages\\numpy\\core\\fromnumeric.py\u001b[0m in \u001b[0;36m_wrapreduction\u001b[1;34m(obj, ufunc, method, axis, dtype, out, **kwargs)\u001b[0m\n\u001b[0;32m     84\u001b[0m                 \u001b[1;32mreturn\u001b[0m \u001b[0mreduction\u001b[0m\u001b[1;33m(\u001b[0m\u001b[0maxis\u001b[0m\u001b[1;33m=\u001b[0m\u001b[0maxis\u001b[0m\u001b[1;33m,\u001b[0m \u001b[0mout\u001b[0m\u001b[1;33m=\u001b[0m\u001b[0mout\u001b[0m\u001b[1;33m,\u001b[0m \u001b[1;33m**\u001b[0m\u001b[0mpasskwargs\u001b[0m\u001b[1;33m)\u001b[0m\u001b[1;33m\u001b[0m\u001b[1;33m\u001b[0m\u001b[0m\n\u001b[0;32m     85\u001b[0m \u001b[1;33m\u001b[0m\u001b[0m\n\u001b[1;32m---> 86\u001b[1;33m     \u001b[1;32mreturn\u001b[0m \u001b[0mufunc\u001b[0m\u001b[1;33m.\u001b[0m\u001b[0mreduce\u001b[0m\u001b[1;33m(\u001b[0m\u001b[0mobj\u001b[0m\u001b[1;33m,\u001b[0m \u001b[0maxis\u001b[0m\u001b[1;33m,\u001b[0m \u001b[0mdtype\u001b[0m\u001b[1;33m,\u001b[0m \u001b[0mout\u001b[0m\u001b[1;33m,\u001b[0m \u001b[1;33m**\u001b[0m\u001b[0mpasskwargs\u001b[0m\u001b[1;33m)\u001b[0m\u001b[1;33m\u001b[0m\u001b[1;33m\u001b[0m\u001b[0m\n\u001b[0m\u001b[0;32m     87\u001b[0m \u001b[1;33m\u001b[0m\u001b[0m\n\u001b[0;32m     88\u001b[0m \u001b[1;33m\u001b[0m\u001b[0m\n",
      "\u001b[1;31mValueError\u001b[0m: zero-size array to reduction operation maximum which has no identity"
     ]
    },
    {
     "data": {
      "image/png": "[encoded data removed]",
      "text/plain": [
       "<Figure size 720x360 with 1 Axes>"
      ]
     },
     "metadata": {},
     "output_type": "display_data"
    }
   ],
   "source": [
    "import os\n",
    "from itertools import combinations\n",
    "from collections import defaultdict\n",
    "\n",
    "base_fp = \"./nmt_adapt/eval/figures/220426_1444_English_Czech\"\n",
    "\n",
    "metric_inter_mean_dist = defaultdict(list)\n",
    "for cat in list(morph_cat_tag_vocab.keys()):\n",
    "\n",
    "\n",
    "    for metric in [\"morph_tag_iou\", \"morph_cat_iou\", \"norm_lev_dist\", \"chrf_3\", \"entropy\"]:\n",
    "\n",
    "        fig, agg_stats = cat_agg_plot(\n",
    "            eval_data,\n",
    "            morph_cat_tag_vocab,\n",
    "            category=cat,\n",
    "            metric=metric,\n",
    "            xlim=(0,1) if \"lev\" not in metric and metric != \"entropy\" else None,\n",
    "            lemma_lim=1/64,\n",
    "        )\n",
    "\n",
    "        if fig is not None:\n",
    "            os.makedirs(base_fp + f\"/{cat}\", exist_ok=True)\n",
    "\n",
    "            means = [v[0] for k, v in agg_stats.items() if k not in [\"inclusive\", \"exclusive\"]]\n",
    "            inter_mean_dist = np.max(np.abs([m1 - m2 for m1, m2 in combinations(means, r=2)])) / np.std(means)\n",
    "\n",
    "            metric_inter_mean_dist[metric].append(inter_mean_dist)\n",
    "\n",
    "            fig.savefig(\n",
    "                f\"{base_fp}/{cat}/{metric}.png\"\n",
    "            )\n",
    "            print(f\"{base_fp}/{cat}/{metric}.png\")\n",
    "\n",
    "            plt.close(fig)\n"
   ]
  },
  {
   "cell_type": "code",
   "execution_count": 46,
   "metadata": {},
   "outputs": [
    {
     "data": {
      "text/plain": [
       "[0.2755433024588082]"
      ]
     },
     "execution_count": 46,
     "metadata": {},
     "output_type": "execute_result"
    }
   ],
   "source": [
    "means"
   ]
  },
  {
   "cell_type": "code",
   "execution_count": null,
   "metadata": {},
   "outputs": [
    {
     "data": {
      "text/plain": [
       "{'morph_tag_iou': 0.04359252802171976,\n",
       " 'morph_cat_iou': 0.04087064144360507,\n",
       " 'norm_lev_dist': 0.10604477719376758}"
      ]
     },
     "execution_count": 23,
     "metadata": {},
     "output_type": "execute_result"
    }
   ],
   "source": [
    "{k : np.nanmean(v) for k, v in metric_inter_mean_dist.items()}"
   ]
  },
  {
   "cell_type": "markdown",
   "metadata": {},
   "source": [
    "# 'Treatment Effect' Estimate"
   ]
  },
  {
   "cell_type": "code",
   "execution_count": 47,
   "metadata": {},
   "outputs": [],
   "source": [
    "from collections import defaultdict\n",
    "\n",
    "lemmas_per_mtag_set = {k: set(v.keys()) for k, v in list(eval_data.items())}\n",
    "\n",
    "tag_lemmas = defaultdict(list)\n",
    "lemmas_inverse_index = defaultdict(list)\n",
    "for k, v in lemmas_per_mtag_set.items():\n",
    "    for vv in list(v):\n",
    "        lemmas_inverse_index[vv].append(k)\n",
    "\n",
    "        for kk in list(k):\n",
    "            tag_lemmas[kk.lower()].append(vv)\n",
    "\n",
    "tag_lemmas = dict(tag_lemmas)\n",
    "lemmas_inverse_index = dict(lemmas_inverse_index)\n"
   ]
  },
  {
   "cell_type": "code",
   "execution_count": null,
   "metadata": {},
   "outputs": [],
   "source": [
    "    lemma_results = []\n",
    "    for l in tag_lemmas[tag]:\n",
    "        inclusive_examples = [tag_set for tag_set in lemmas_inverse_index[l] if tag.upper() in set(tag_set) and \"_\" not in set(tag_set)]\n",
    "        exclusive_examples = [tag_set for tag_set in lemmas_inverse_index[l] if tag.upper() not in set(tag_set) and \"_\" not in set(tag_set)]\n",
    "\n",
    "        if len(inclusive_examples) == 0 or len(exclusive_examples) == 0:\n",
    "            continue\n",
    "\n",
    "        inclusive_stats = defaultdict(list)\n",
    "        for tag_set in inclusive_examples:\n",
    "            for instance in eval_data[tag_set][l]:\n",
    "                for metric, metric_val in instance.items():\n",
    "                    if metric != \"confusion\":\n",
    "                        inclusive_stats[metric].append(metric_val)\n",
    "        inclusive_stats = dict(inclusive_stats)\n",
    "\n",
    "        N_inclusive = len(list(inclusive_stats.values())[0])\n",
    "        inclusive_stats = {k: np.mean(v) for k, v in inclusive_stats.items()}\n",
    "\n",
    "        exclusive_stats = defaultdict(list)\n",
    "        for tag_set in exclusive_examples:\n",
    "            for instance in eval_data[tag_set][l]:\n",
    "                for metric, metric_val in instance.items():\n",
    "                    if metric != \"confusion\":\n",
    "                        exclusive_stats[metric].append(metric_val)\n",
    "        exclusive_stats = dict(exclusive_stats)\n",
    "\n",
    "        N_exclusive = len(list(exclusive_stats.values())[0])\n",
    "        exclusive_stats = {k: np.mean(v) for k, v in exclusive_stats.items()}\n",
    "\n",
    "        expected_difference = {k: v - exclusive_stats[k] for k, v in inclusive_stats.items()}\n",
    "\n",
    "        lemma_results.append((N_inclusive + N_exclusive, expected_difference))\n",
    "\n",
    "    agg_counts = defaultdict(list)\n",
    "    agg_vals = defaultdict(list)\n",
    "    for count, stats in lemma_results:\n",
    "        if micro_or_macro == \"macro\":\n",
    "            count = 1\n",
    "        for metric, metric_val in stats.items():\n",
    "            agg_counts[metric] += [count]\n",
    "            agg_vals[metric] += [metric_val]\n",
    "\n",
    "    agg_counts = dict(agg_counts)\n",
    "    agg_vals = dict(agg_vals)\n",
    "\n",
    "    agg_counts = {k: np.array(v) for k, v in agg_counts.items()}\n",
    "    agg_vals = {k: np.array(v) for k, v in agg_vals.items()}"
   ]
  },
  {
   "cell_type": "code",
   "execution_count": 154,
   "metadata": {},
   "outputs": [],
   "source": [
    "import math\n",
    "from collections import defaultdict\n",
    "\n",
    "tag = \"prs\"\n",
    "micro_or_macro = \"micro\"\n",
    "lemma_lim = 1/64\n",
    "\n",
    "lemma_results = []\n",
    "for l in tag_lemmas[tag]:\n",
    "    inclusive_examples = [tag_set for tag_set in lemmas_inverse_index[l] if tag.upper() in set(tag_set) and \"_\" not in set(tag_set)]\n",
    "    exclusive_examples = [tag_set for tag_set in lemmas_inverse_index[l] if tag.upper() not in set(tag_set) and \"_\" not in set(tag_set)]\n",
    "\n",
    "    if len(inclusive_examples) <= 1 or len(exclusive_examples) <= 1:\n",
    "        continue\n",
    "\n",
    "    inclusive_stats = defaultdict(list)\n",
    "    for tag_set in inclusive_examples:\n",
    "        for instance in eval_data[tag_set][l]:\n",
    "            if instance[\"lemma_match\"] >= lemma_lim:\n",
    "                for metric, metric_val in instance.items():\n",
    "                    if metric != \"confusion\":\n",
    "                        inclusive_stats[metric].append(metric_val)\n",
    "    inclusive_stats = dict(inclusive_stats)\n",
    "\n",
    "    inclusive_mean = {k: np.mean(v) for k, v in inclusive_stats.items()}\n",
    "    inclusive_var = {k: np.var(v) for k, v in inclusive_stats.items()}\n",
    "\n",
    "    exclusive_stats = defaultdict(list)\n",
    "    for tag_set in exclusive_examples:\n",
    "        for instance in eval_data[tag_set][l]:\n",
    "            if instance[\"lemma_match\"] >= lemma_lim:\n",
    "                for metric, metric_val in instance.items():\n",
    "                    if metric != \"confusion\":\n",
    "                        exclusive_stats[metric].append(metric_val)\n",
    "    exclusive_stats = dict(exclusive_stats)\n",
    "\n",
    "    exclusive_mean = {k: np.mean(v) for k, v in exclusive_stats.items()}\n",
    "    exclusive_var = {k: np.var(v) for k, v in inclusive_stats.items()}\n",
    "\n",
    "    diff_means = {k: v - exclusive_mean[k] for k, v in inclusive_mean.items()}\n",
    "    diff_var = {k: v + exclusive_var[k] for k, v in inclusive_var.items()}\n",
    "\n",
    "    lemma_results.append((diff_means, diff_var))\n",
    "\n",
    "mean_agg = defaultdict(float)\n",
    "std_agg = defaultdict(float)\n",
    "weight_agg = defaultdict(float)\n",
    "for lemma_diff_means, lemma_diff_var in lemma_results:\n",
    "    weights = {metric: 1/(var if var > 0.0 else 1e-6) for metric, var in lemma_diff_var.items()}\n",
    "\n",
    "    for metric, weight in weights.items():\n",
    "        mean_agg[metric] += weight * lemma_diff_means[metric]\n",
    "        weight_agg[metric] += weight\n",
    "        std_agg[metric] += lemma_diff_var[metric]\n",
    "\n",
    "mean_agg = dict(mean_agg)\n",
    "std_agg = dict(std_agg)\n",
    "weight_agg = dict(weight_agg)\n",
    "\n",
    "for metric, weight in weight_agg.items():\n",
    "    mean_agg[metric] = mean_agg[metric] / weight_agg[metric]\n",
    "    std_agg[metric] = math.sqrt(1 / std_agg[metric])\n"
   ]
  },
  {
   "cell_type": "code",
   "execution_count": 156,
   "metadata": {},
   "outputs": [
    {
     "data": {
      "text/plain": [
       "({'char_match': -0.04546488330447853,\n",
       "  'lev_dist': 0.5874895778678517,\n",
       "  'norm_lev_dist': 0.19444444444444453,\n",
       "  'chrf_1': -0.0216386109866115,\n",
       "  'chrf_2': -0.01620532033321012,\n",
       "  'chrf_3': -0.04371385751070744,\n",
       "  'chrf_4': -0.0386916559823579,\n",
       "  'chrf_5': -0.03685557466055549,\n",
       "  'spe_match': -0.038349549637307113,\n",
       "  'spe_lev_dist': 0.12979070503626736,\n",
       "  'spe_norm_lev_dist': 0.031746031746031744,\n",
       "  'lemma_match': -0.03591288445432586,\n",
       "  'lemma_norm_lev_dist': 0.16655106604788808,\n",
       "  'morph_tag_match': -0.07596665552564921,\n",
       "  'morph_tag_iou': 0.026062166121994725,\n",
       "  'morph_cat_iou': -0.028338891733119816,\n",
       "  'morph_tag_iou_at_match': -0.11469743701814207,\n",
       "  'entropy': 0.5036758681457001},\n",
       " {'char_match': 0.05074763326518866,\n",
       "  'lev_dist': 0.005358841684956028,\n",
       "  'norm_lev_dist': 0.029012771255025396,\n",
       "  'chrf_1': 0.04527652275014902,\n",
       "  'chrf_2': 0.04793269943888119,\n",
       "  'chrf_3': 0.050297640629645764,\n",
       "  'chrf_4': 0.05215169685066207,\n",
       "  'chrf_5': 0.05481374422384487,\n",
       "  'spe_match': 0.05508493395786402,\n",
       "  'spe_lev_dist': 0.013376898007110363,\n",
       "  'spe_norm_lev_dist': 0.029985125122343536,\n",
       "  'lemma_match': 0.052010131364981185,\n",
       "  'lemma_norm_lev_dist': 0.029643917710511808,\n",
       "  'morph_tag_match': 0.05685535440360536,\n",
       "  'morph_tag_iou': 0.04294047453399474,\n",
       "  'morph_cat_iou': 0.04106189576660808,\n",
       "  'morph_tag_iou_at_match': 0.023986224361346325,\n",
       "  'entropy': 0.008891842035660635})"
      ]
     },
     "execution_count": 156,
     "metadata": {},
     "output_type": "execute_result"
    }
   ],
   "source": [
    "mean_agg, std_agg"
   ]
  },
  {
   "cell_type": "code",
   "execution_count": 54,
   "metadata": {},
   "outputs": [],
   "source": [
    "import math\n",
    "from collections import defaultdict\n",
    "\n",
    "def get_ce_estimate(\n",
    "            eval_data,\n",
    "            lemmas_inverse_index,\n",
    "            tag_lemmas,\n",
    "            tag,\n",
    "            min_samples: int = 10,\n",
    "            min_var: float = 1e-3,\n",
    "            lemma_lim: float = 0.0,\n",
    "        ):\n",
    "\n",
    "    lemma_results = []\n",
    "    for l in tag_lemmas[tag]:\n",
    "        inclusive_examples = [tag_set for tag_set in lemmas_inverse_index[l] if tag.upper() in set(tag_set) and \"_\" not in set(tag_set)]\n",
    "        exclusive_examples = [tag_set for tag_set in lemmas_inverse_index[l] if tag.upper() not in set(tag_set) and \"_\" not in set(tag_set)]\n",
    "\n",
    "        if len(inclusive_examples) == 0 or len(exclusive_examples) == 0:\n",
    "            continue\n",
    "\n",
    "        N_inclusive = 0\n",
    "        inclusive_stats = defaultdict(list)\n",
    "        for tag_set in inclusive_examples:\n",
    "            for instance in eval_data[tag_set][l]:\n",
    "                if instance[\"lemma_match\"] >= lemma_lim:\n",
    "                    N_inclusive += 1\n",
    "                    for metric, metric_val in instance.items():\n",
    "                        if metric != \"confusion\":\n",
    "                            inclusive_stats[metric].append(metric_val)\n",
    "        inclusive_stats = dict(inclusive_stats)\n",
    "\n",
    "        if N_inclusive == 0:\n",
    "            continue\n",
    "\n",
    "        inclusive_mean = {k: np.mean(v) for k, v in inclusive_stats.items()}\n",
    "        inclusive_var = {k: np.var(v) for k, v in inclusive_stats.items()}\n",
    "\n",
    "        N_exclusive = 0\n",
    "        exclusive_stats = defaultdict(list)\n",
    "        for tag_set in exclusive_examples:\n",
    "            for instance in eval_data[tag_set][l]:\n",
    "                if instance[\"lemma_match\"] >= lemma_lim:\n",
    "                    N_exclusive += 1\n",
    "                    for metric, metric_val in instance.items():\n",
    "                        if metric != \"confusion\":\n",
    "                            exclusive_stats[metric].append(metric_val)\n",
    "        exclusive_stats = dict(exclusive_stats)\n",
    "\n",
    "        if N_exclusive == 0:\n",
    "            continue\n",
    "\n",
    "        if N_inclusive <= min_samples or N_exclusive <= min_samples:\n",
    "            continue\n",
    "\n",
    "        exclusive_mean = {k: np.mean(v) for k, v in exclusive_stats.items()}\n",
    "        exclusive_var = {k: np.var(v) for k, v in inclusive_stats.items()}\n",
    "\n",
    "        diff_means = {k: v - exclusive_mean[k] for k, v in inclusive_mean.items()}\n",
    "        diff_var = {k: v + exclusive_var[k] for k, v in inclusive_var.items()}\n",
    "\n",
    "        lemma_results.append((diff_means, diff_var, N_inclusive))\n",
    "\n",
    "    mean_agg = defaultdict(float)\n",
    "    std_agg = defaultdict(float)\n",
    "    weight_agg = defaultdict(float)\n",
    "    pos_N_agg = 0\n",
    "    for lemma_diff_means, lemma_diff_var, lemma_pos_N in lemma_results:\n",
    "        weights = {metric: 1/max(var , min_var) for metric, var in lemma_diff_var.items()}\n",
    "\n",
    "        for metric, weight in weights.items():\n",
    "            mean_agg[metric] += weight * lemma_diff_means[metric]\n",
    "            weight_agg[metric] += weight\n",
    "            std_agg[metric] += max(lemma_diff_var[metric] , min_var)\n",
    "            pos_N_agg += lemma_pos_N\n",
    "\n",
    "    mean_agg = dict(mean_agg)\n",
    "    std_agg = dict(std_agg)\n",
    "    weight_agg = dict(weight_agg)\n",
    "\n",
    "    for metric, weight in weight_agg.items():\n",
    "        mean_agg[metric] = mean_agg[metric] / weight_agg[metric]\n",
    "        std_agg[metric] = math.sqrt(1 / std_agg[metric])\n",
    "\n",
    "    return mean_agg, std_agg, pos_N_agg"
   ]
  },
  {
   "cell_type": "code",
   "execution_count": null,
   "metadata": {},
   "outputs": [
    {
     "data": {
      "image/png": "[encoded data removed]",
      "text/plain": [
       "<Figure size 432x288 with 1 Axes>"
      ]
     },
     "metadata": {},
     "output_type": "display_data"
    },
    {
     "data": {
      "image/png": "[encoded data removed]",
      "text/plain": [
       "<Figure size 432x288 with 1 Axes>"
      ]
     },
     "metadata": {},
     "output_type": "display_data"
    },
    {
     "data": {
      "image/png": "[encoded data removed]",
      "text/plain": [
       "<Figure size 432x288 with 1 Axes>"
      ]
     },
     "metadata": {},
     "output_type": "display_data"
    },
    {
     "data": {
      "image/png": "[encoded data removed]",
      "text/plain": [
       "<Figure size 432x288 with 1 Axes>"
      ]
     },
     "metadata": {},
     "output_type": "display_data"
    }
   ],
   "source": [
    "cat = \"Person\"\n",
    "\n",
    "tag_ce_agg_mean, tag_ce_agg_std, tag_N_pos = dict(), dict(), dict()\n",
    "for tag in morph_cat_tag_vocab[cat]:\n",
    "    if tag not in tag_lemmas.keys():\n",
    "        continue\n",
    "\n",
    "    weighted_mean, weighted_std, N_pos = get_ce_estimate(eval_data, lemmas_inverse_index, tag_lemmas, tag=tag, min_samples=0, min_var=1e-6, lemma_lim=1/64)\n",
    "\n",
    "    tag_ce_agg_mean[tag] = weighted_mean\n",
    "    tag_ce_agg_std[tag] = weighted_std\n",
    "    tag_N_pos[tag] = N_pos\n",
    "\n",
    "for metric in [\"norm_lev_dist\", \"morph_tag_iou\", \"morph_cat_iou\", \"entropy\"]:\n",
    "    fig, ax = plt.subplots()\n",
    "\n",
    "    tags = sorted(list(tag_ce_agg_mean.keys()))\n",
    "    pos = np.arange(len(tags))\n",
    "\n",
    "    means = [tag_ce_agg_mean[t][metric] for t in tags]\n",
    "    error = [tag_ce_agg_std[t][metric] for t in tags]\n",
    "    color = [\"green\" if m >= 0 else \"red\" for m in means]\n",
    "    sizes = np.array([tag_N_pos[t] for t in tags])\n",
    "    sizes = 100 * (sizes / sizes.max())\n",
    "\n",
    "    ax.scatter(means, pos, marker=\"D\", c=color, s=sizes, zorder=2)\n",
    "    ax.errorbar(means, pos, xerr=error, fmt=\".\", c=\"k\", zorder=1)\n",
    "\n",
    "    ax.set_yticks(pos, labels=tags)\n",
    "    ax.invert_yaxis()\n",
    "\n",
    "    ax.set_xlim(-0.3, 0.3)\n",
    "    ax.set_ylim(len(means)-0.85, -0.15)\n",
    "    ax.vlines(x=0, ymin=-1, ymax=len(means)+1, color=\"black\", linewidth=0.5, zorder=1)\n",
    "\n",
    "    ax.set_title(f\"{cat} - {metric}\")\n",
    "\n",
    "    plt.show()\n",
    "\n"
   ]
  },
  {
   "cell_type": "code",
   "execution_count": 56,
   "metadata": {},
   "outputs": [
    {
     "ename": "KeyboardInterrupt",
     "evalue": "",
     "output_type": "error",
     "traceback": [
      "\u001b[1;31m---------------------------------------------------------------------------\u001b[0m",
      "\u001b[1;31mKeyboardInterrupt\u001b[0m                         Traceback (most recent call last)",
      "\u001b[1;32m~\\AppData\\Local\\Temp/ipykernel_8964/3600678455.py\u001b[0m in \u001b[0;36m<module>\u001b[1;34m\u001b[0m\n\u001b[0;32m      6\u001b[0m         \u001b[1;32mcontinue\u001b[0m\u001b[1;33m\u001b[0m\u001b[1;33m\u001b[0m\u001b[0m\n\u001b[0;32m      7\u001b[0m \u001b[1;33m\u001b[0m\u001b[0m\n\u001b[1;32m----> 8\u001b[1;33m     \u001b[0mweighted_mean\u001b[0m\u001b[1;33m,\u001b[0m \u001b[0mweighted_std\u001b[0m\u001b[1;33m,\u001b[0m \u001b[0mN_pos\u001b[0m \u001b[1;33m=\u001b[0m \u001b[0mget_ce_estimate\u001b[0m\u001b[1;33m(\u001b[0m\u001b[0meval_data\u001b[0m\u001b[1;33m,\u001b[0m \u001b[0mlemmas_inverse_index\u001b[0m\u001b[1;33m,\u001b[0m \u001b[0mtag_lemmas\u001b[0m\u001b[1;33m,\u001b[0m \u001b[0mtag\u001b[0m\u001b[1;33m=\u001b[0m\u001b[0mtag\u001b[0m\u001b[1;33m,\u001b[0m \u001b[0mmin_samples\u001b[0m\u001b[1;33m=\u001b[0m\u001b[1;36m10\u001b[0m\u001b[1;33m,\u001b[0m \u001b[0mmin_var\u001b[0m\u001b[1;33m=\u001b[0m\u001b[1;36m1e-6\u001b[0m\u001b[1;33m)\u001b[0m\u001b[1;33m\u001b[0m\u001b[1;33m\u001b[0m\u001b[0m\n\u001b[0m\u001b[0;32m      9\u001b[0m \u001b[1;33m\u001b[0m\u001b[0m\n\u001b[0;32m     10\u001b[0m     \u001b[0mtag_ce_agg_mean\u001b[0m\u001b[1;33m[\u001b[0m\u001b[0mtag\u001b[0m\u001b[1;33m]\u001b[0m \u001b[1;33m=\u001b[0m \u001b[0mweighted_mean\u001b[0m\u001b[1;33m\u001b[0m\u001b[1;33m\u001b[0m\u001b[0m\n",
      "\u001b[1;32m~\\AppData\\Local\\Temp/ipykernel_8964/78921585.py\u001b[0m in \u001b[0;36mget_ce_estimate\u001b[1;34m(eval_data, lemmas_inverse_index, tag_lemmas, tag, min_samples, min_var, lemma_lim)\u001b[0m\n\u001b[0;32m     35\u001b[0m \u001b[1;33m\u001b[0m\u001b[0m\n\u001b[0;32m     36\u001b[0m         \u001b[0minclusive_mean\u001b[0m \u001b[1;33m=\u001b[0m \u001b[1;33m{\u001b[0m\u001b[0mk\u001b[0m\u001b[1;33m:\u001b[0m \u001b[0mnp\u001b[0m\u001b[1;33m.\u001b[0m\u001b[0mmean\u001b[0m\u001b[1;33m(\u001b[0m\u001b[0mv\u001b[0m\u001b[1;33m)\u001b[0m \u001b[1;32mfor\u001b[0m \u001b[0mk\u001b[0m\u001b[1;33m,\u001b[0m \u001b[0mv\u001b[0m \u001b[1;32min\u001b[0m \u001b[0minclusive_stats\u001b[0m\u001b[1;33m.\u001b[0m\u001b[0mitems\u001b[0m\u001b[1;33m(\u001b[0m\u001b[1;33m)\u001b[0m\u001b[1;33m}\u001b[0m\u001b[1;33m\u001b[0m\u001b[1;33m\u001b[0m\u001b[0m\n\u001b[1;32m---> 37\u001b[1;33m         \u001b[0minclusive_var\u001b[0m \u001b[1;33m=\u001b[0m \u001b[1;33m{\u001b[0m\u001b[0mk\u001b[0m\u001b[1;33m:\u001b[0m \u001b[0mnp\u001b[0m\u001b[1;33m.\u001b[0m\u001b[0mvar\u001b[0m\u001b[1;33m(\u001b[0m\u001b[0mv\u001b[0m\u001b[1;33m)\u001b[0m \u001b[1;32mfor\u001b[0m \u001b[0mk\u001b[0m\u001b[1;33m,\u001b[0m \u001b[0mv\u001b[0m \u001b[1;32min\u001b[0m \u001b[0minclusive_stats\u001b[0m\u001b[1;33m.\u001b[0m\u001b[0mitems\u001b[0m\u001b[1;33m(\u001b[0m\u001b[1;33m)\u001b[0m\u001b[1;33m}\u001b[0m\u001b[1;33m\u001b[0m\u001b[1;33m\u001b[0m\u001b[0m\n\u001b[0m\u001b[0;32m     38\u001b[0m \u001b[1;33m\u001b[0m\u001b[0m\n\u001b[0;32m     39\u001b[0m         \u001b[0mN_exclusive\u001b[0m \u001b[1;33m=\u001b[0m \u001b[1;36m0\u001b[0m\u001b[1;33m\u001b[0m\u001b[1;33m\u001b[0m\u001b[0m\n",
      "\u001b[1;32m~\\AppData\\Local\\Temp/ipykernel_8964/78921585.py\u001b[0m in \u001b[0;36m<dictcomp>\u001b[1;34m(.0)\u001b[0m\n\u001b[0;32m     35\u001b[0m \u001b[1;33m\u001b[0m\u001b[0m\n\u001b[0;32m     36\u001b[0m         \u001b[0minclusive_mean\u001b[0m \u001b[1;33m=\u001b[0m \u001b[1;33m{\u001b[0m\u001b[0mk\u001b[0m\u001b[1;33m:\u001b[0m \u001b[0mnp\u001b[0m\u001b[1;33m.\u001b[0m\u001b[0mmean\u001b[0m\u001b[1;33m(\u001b[0m\u001b[0mv\u001b[0m\u001b[1;33m)\u001b[0m \u001b[1;32mfor\u001b[0m \u001b[0mk\u001b[0m\u001b[1;33m,\u001b[0m \u001b[0mv\u001b[0m \u001b[1;32min\u001b[0m \u001b[0minclusive_stats\u001b[0m\u001b[1;33m.\u001b[0m\u001b[0mitems\u001b[0m\u001b[1;33m(\u001b[0m\u001b[1;33m)\u001b[0m\u001b[1;33m}\u001b[0m\u001b[1;33m\u001b[0m\u001b[1;33m\u001b[0m\u001b[0m\n\u001b[1;32m---> 37\u001b[1;33m         \u001b[0minclusive_var\u001b[0m \u001b[1;33m=\u001b[0m \u001b[1;33m{\u001b[0m\u001b[0mk\u001b[0m\u001b[1;33m:\u001b[0m \u001b[0mnp\u001b[0m\u001b[1;33m.\u001b[0m\u001b[0mvar\u001b[0m\u001b[1;33m(\u001b[0m\u001b[0mv\u001b[0m\u001b[1;33m)\u001b[0m \u001b[1;32mfor\u001b[0m \u001b[0mk\u001b[0m\u001b[1;33m,\u001b[0m \u001b[0mv\u001b[0m \u001b[1;32min\u001b[0m \u001b[0minclusive_stats\u001b[0m\u001b[1;33m.\u001b[0m\u001b[0mitems\u001b[0m\u001b[1;33m(\u001b[0m\u001b[1;33m)\u001b[0m\u001b[1;33m}\u001b[0m\u001b[1;33m\u001b[0m\u001b[1;33m\u001b[0m\u001b[0m\n\u001b[0m\u001b[0;32m     38\u001b[0m \u001b[1;33m\u001b[0m\u001b[0m\n\u001b[0;32m     39\u001b[0m         \u001b[0mN_exclusive\u001b[0m \u001b[1;33m=\u001b[0m \u001b[1;36m0\u001b[0m\u001b[1;33m\u001b[0m\u001b[1;33m\u001b[0m\u001b[0m\n",
      "\u001b[1;31mKeyboardInterrupt\u001b[0m: "
     ]
    }
   ],
   "source": [
    "cat = \"Part of Speech\"\n",
    "\n",
    "tag_ce_agg_mean, tag_ce_agg_std, tag_N_pos = dict(), dict(), dict()\n",
    "for tag in morph_cat_tag_vocab[cat]:\n",
    "    if tag not in tag_lemmas.keys():\n",
    "        continue\n",
    "\n",
    "    weighted_mean, weighted_std, N_pos = get_ce_estimate(eval_data, lemmas_inverse_index, tag_lemmas, tag=tag, min_samples=10, min_var=1e-6)\n",
    "\n",
    "    tag_ce_agg_mean[tag] = weighted_mean\n",
    "    tag_ce_agg_std[tag] = weighted_std\n",
    "    tag_N_pos[tag] = N_pos\n",
    "\n",
    "for metric in [\"norm_lev_dist\", \"chrf_1\", \"chrf_3\", \"morph_tag_iou\", \"morph_cat_iou\", \"morph_tag_iou_at_match\", \"entropy\"]:\n",
    "    fig, ax = plt.subplots()\n",
    "\n",
    "    tags = sorted(list(tag_ce_agg_mean.keys()))\n",
    "    pos = np.arange(len(tags))\n",
    "\n",
    "    means = [tag_ce_agg_mean[t][metric] for t in tags]\n",
    "    error = [tag_ce_agg_std[t][metric] for t in tags]\n",
    "    color = [\"green\" if m >= 0 else \"red\" for m in means]\n",
    "    sizes = np.array([tag_N_pos[t] for t in tags])\n",
    "    sizes = 100 * (sizes / sizes.max())\n",
    "\n",
    "    ax.scatter(means, pos, marker=\"D\", c=color, s=sizes, zorder=2)\n",
    "    ax.errorbar(means, pos, xerr=error, fmt=\".\", c=\"k\", zorder=1)\n",
    "\n",
    "    ax.set_yticks(pos, labels=tags)\n",
    "    ax.invert_yaxis()\n",
    "\n",
    "    ax.set_xlim(-0.3, 0.3)\n",
    "    ax.set_ylim(len(means)-0.85, -0.15)\n",
    "    ax.vlines(x=0, ymin=-1, ymax=len(means)+1, color=\"black\", linewidth=0.5, zorder=1)\n",
    "\n",
    "    ax.set_title(f\"{cat} - {metric}\")\n",
    "\n",
    "    plt.show()\n"
   ]
  },
  {
   "cell_type": "code",
   "execution_count": 217,
   "metadata": {},
   "outputs": [
    {
     "data": {
      "image/png": "[encoded data removed]",
      "text/plain": [
       "<Figure size 432x288 with 1 Axes>"
      ]
     },
     "metadata": {
      "needs_background": "light"
     },
     "output_type": "display_data"
    },
    {
     "data": {
      "image/png": "[encoded data removed]",
      "text/plain": [
       "<Figure size 432x288 with 1 Axes>"
      ]
     },
     "metadata": {
      "needs_background": "light"
     },
     "output_type": "display_data"
    },
    {
     "data": {
      "image/png": "[encoded data removed]",
      "text/plain": [
       "<Figure size 432x288 with 1 Axes>"
      ]
     },
     "metadata": {
      "needs_background": "light"
     },
     "output_type": "display_data"
    },
    {
     "data": {
      "image/png": "[encoded data removed]",
      "text/plain": [
       "<Figure size 432x288 with 1 Axes>"
      ]
     },
     "metadata": {
      "needs_background": "light"
     },
     "output_type": "display_data"
    },
    {
     "data": {
      "image/png": "[encoded data removed]",
      "text/plain": [
       "<Figure size 432x288 with 1 Axes>"
      ]
     },
     "metadata": {
      "needs_background": "light"
     },
     "output_type": "display_data"
    },
    {
     "data": {
      "image/png": "[encoded data removed]",
      "text/plain": [
       "<Figure size 432x288 with 1 Axes>"
      ]
     },
     "metadata": {
      "needs_background": "light"
     },
     "output_type": "display_data"
    },
    {
     "data": {
      "image/png": "[encoded data removed]",
      "text/plain": [
       "<Figure size 432x288 with 1 Axes>"
      ]
     },
     "metadata": {
      "needs_background": "light"
     },
     "output_type": "display_data"
    }
   ],
   "source": [
    "cat = \"Case\"\n",
    "\n",
    "tag_ce_agg_mean, tag_ce_agg_std, tag_N_pos = dict(), dict(), dict()\n",
    "for tag in morph_cat_tag_vocab[cat]:\n",
    "    if tag not in tag_lemmas.keys():\n",
    "        continue\n",
    "\n",
    "    weighted_mean, weighted_std, N_pos = get_ce_estimate(eval_data, lemmas_inverse_index, tag_lemmas, tag=tag, min_samples=10, min_var=1e-6)\n",
    "\n",
    "    tag_ce_agg_mean[tag] = weighted_mean\n",
    "    tag_ce_agg_std[tag] = weighted_std\n",
    "    tag_N_pos[tag] = N_pos\n",
    "\n",
    "for metric in [\"norm_lev_dist\", \"chrf_1\", \"chrf_3\", \"morph_tag_iou\", \"morph_cat_iou\", \"morph_tag_iou_at_match\", \"entropy\"]:\n",
    "    fig, ax = plt.subplots()\n",
    "\n",
    "    tags = sorted(list(tag_ce_agg_mean.keys()))\n",
    "    pos = np.arange(len(tags))\n",
    "\n",
    "    means = [tag_ce_agg_mean[t][metric] for t in tags]\n",
    "    error = [tag_ce_agg_std[t][metric] for t in tags]\n",
    "    color = [\"green\" if m >= 0 else \"red\" for m in means]\n",
    "    sizes = np.array([tag_N_pos[t] for t in tags])\n",
    "    sizes = 100 * (sizes / sizes.max())\n",
    "\n",
    "    ax.scatter(means, pos, marker=\"D\", c=color, s=sizes, zorder=2)\n",
    "    ax.errorbar(means, pos, xerr=error, fmt=\".\", c=\"k\", zorder=1)\n",
    "\n",
    "    ax.set_yticks(pos, labels=tags)\n",
    "    ax.invert_yaxis()\n",
    "\n",
    "    ax.set_xlim(-0.3, 0.3)\n",
    "    ax.set_ylim(len(means)-0.85, -0.15)\n",
    "    ax.vlines(x=0, ymin=-1, ymax=len(means)+1, color=\"black\", linewidth=0.5, zorder=1)\n",
    "\n",
    "    ax.set_title(f\"{cat} - {metric}\")\n",
    "\n",
    "    plt.show()\n",
    "\n"
   ]
  },
  {
   "cell_type": "code",
   "execution_count": 90,
   "metadata": {},
   "outputs": [],
   "source": [
    "\n",
    "\n",
    "lemma_results = []\n",
    "for l in tag_lemmas[tag]:\n",
    "    inclusive_examples = [tag_set for tag_set in lemmas_inverse_index[l] if tag.upper() in set(tag_set) and \"_\" not in set(tag_set)]\n",
    "    exclusive_examples = [tag_set for tag_set in lemmas_inverse_index[l] if tag.upper() not in set(tag_set) and \"_\" not in set(tag_set)]\n",
    "\n",
    "    if len(inclusive_examples) == 0 or len(exclusive_examples) == 0:\n",
    "        continue\n",
    "\n",
    "    inclusive_stats = defaultdict(list)\n",
    "    for tag_set in inclusive_examples:\n",
    "        for instance in eval_data[tag_set][l]:\n",
    "            for metric, metric_val in instance.items():\n",
    "                if metric != \"confusion\":\n",
    "                    inclusive_stats[metric].append(metric_val)\n",
    "    inclusive_stats = dict(inclusive_stats)\n",
    "\n",
    "    N_inclusive = len(list(inclusive_stats.values())[0])\n",
    "    inclusive_stats = {k: np.mean(v) for k, v in inclusive_stats.items()}\n",
    "\n",
    "    exclusive_stats = defaultdict(list)\n",
    "    for tag_set in exclusive_examples:\n",
    "        for instance in eval_data[tag_set][l]:\n",
    "            for metric, metric_val in instance.items():\n",
    "                if metric != \"confusion\":\n",
    "                    exclusive_stats[metric].append(metric_val)\n",
    "    exclusive_stats = dict(exclusive_stats)\n",
    "\n",
    "    N_exclusive = len(list(exclusive_stats.values())[0])\n",
    "    exclusive_stats = {k: np.mean(v) for k, v in exclusive_stats.items()}\n",
    "\n",
    "    expected_difference = {k: v - exclusive_stats[k] for k, v in inclusive_stats.items()}\n",
    "\n",
    "    lemma_results.append((N_inclusive + N_exclusive, expected_difference))\n",
    "\n",
    "agg_counts = defaultdict(list)\n",
    "agg_vals = defaultdict(list)\n",
    "for count, stats in lemma_results:\n",
    "    if micro_or_macro == \"macro\":\n",
    "        count = 1\n",
    "    for metric, metric_val in stats.items():\n",
    "        agg_counts[metric] += [count]\n",
    "        agg_vals[metric] += [metric_val]\n",
    "\n",
    "agg_counts = dict(agg_counts)\n",
    "agg_vals = dict(agg_vals)\n",
    "\n",
    "agg_counts = {k: np.array(v) for k, v in agg_counts.items()}\n",
    "agg_vals = {k: np.array(v) for k, v in agg_vals.items()}\n",
    "\n",
    "return agg_counts, agg_vals\n"
   ]
  },
  {
   "cell_type": "code",
   "execution_count": 106,
   "metadata": {},
   "outputs": [],
   "source": [
    "import os\n",
    "from itertools import combinations\n",
    "from collections import defaultdict\n",
    "\n",
    "base_fp = \"./nmt_adapt/eval/figures/220426_1444_English_Czech\"\n",
    "\n",
    "micro_or_macro = \"micro\"\n",
    "\n",
    "cat_ce_agg_mean, cat_ce_agg_std = dict(), dict()\n",
    "for cat in morph_cat_tag_vocab.keys():\n",
    "\n",
    "    tag_ce_agg_mean, tag_ce_agg_std = dict(), dict()\n",
    "    for tag in morph_cat_tag_vocab[cat]:\n",
    "        if tag not in tag_lemmas.keys():\n",
    "            continue\n",
    "\n",
    "        ce_agg_counts, ce_agg_vals = get_ce_estimate(\n",
    "            eval_data,\n",
    "            lemmas_inverse_index,\n",
    "            tag_lemmas,\n",
    "            tag=tag,\n",
    "            micro_or_macro=micro_or_macro,\n",
    "        )\n",
    "\n",
    "        ce_agg_mean, ce_agg_std = dict(), dict()\n",
    "        for metric in ce_agg_counts.keys():\n",
    "            weighted_mean = (ce_agg_counts[metric] * ce_agg_vals[metric]).sum() / ce_agg_counts[metric].sum()\n",
    "            weighted_std = np.sqrt((ce_agg_counts[metric] * np.power(ce_agg_vals[metric] - weighted_mean, 2)).sum() / \\\n",
    "                (ce_agg_counts[metric].sum() - np.power(ce_agg_counts[metric], 2).sum() / ce_agg_counts[metric].sum()))\n",
    "\n",
    "            ce_agg_mean[metric] = weighted_mean\n",
    "            ce_agg_std[metric] = weighted_std\n",
    "\n",
    "        tag_ce_agg_mean[tag] = ce_agg_mean\n",
    "        tag_ce_agg_std[tag] = ce_agg_std\n",
    "\n",
    "    cat_ce_agg_mean[cat] = tag_ce_agg_mean\n",
    "    cat_ce_agg_std[cat] = tag_ce_agg_std\n"
   ]
  },
  {
   "cell_type": "code",
   "execution_count": 109,
   "metadata": {},
   "outputs": [
    {
     "name": "stdout",
     "output_type": "stream",
     "text": [
      "./nmt_adapt/eval/figures/220426_1444_English_Czech/Person/char_match_ce.pdf\n",
      "./nmt_adapt/eval/figures/220426_1444_English_Czech/Person/lev_dist_ce.pdf\n",
      "./nmt_adapt/eval/figures/220426_1444_English_Czech/Person/norm_lev_dist_ce.pdf\n",
      "./nmt_adapt/eval/figures/220426_1444_English_Czech/Person/chrf_1_ce.pdf\n",
      "./nmt_adapt/eval/figures/220426_1444_English_Czech/Person/chrf_2_ce.pdf\n",
      "./nmt_adapt/eval/figures/220426_1444_English_Czech/Person/chrf_3_ce.pdf\n",
      "./nmt_adapt/eval/figures/220426_1444_English_Czech/Person/chrf_4_ce.pdf\n",
      "./nmt_adapt/eval/figures/220426_1444_English_Czech/Person/chrf_5_ce.pdf\n",
      "./nmt_adapt/eval/figures/220426_1444_English_Czech/Person/spe_match_ce.pdf\n",
      "./nmt_adapt/eval/figures/220426_1444_English_Czech/Person/spe_lev_dist_ce.pdf\n",
      "./nmt_adapt/eval/figures/220426_1444_English_Czech/Person/spe_norm_lev_dist_ce.pdf\n",
      "./nmt_adapt/eval/figures/220426_1444_English_Czech/Person/lemma_match_ce.pdf\n",
      "./nmt_adapt/eval/figures/220426_1444_English_Czech/Person/lemma_norm_lev_dist_ce.pdf\n",
      "./nmt_adapt/eval/figures/220426_1444_English_Czech/Person/morph_tag_match_ce.pdf\n",
      "./nmt_adapt/eval/figures/220426_1444_English_Czech/Person/morph_tag_iou_ce.pdf\n",
      "./nmt_adapt/eval/figures/220426_1444_English_Czech/Person/morph_cat_iou_ce.pdf\n",
      "./nmt_adapt/eval/figures/220426_1444_English_Czech/Person/morph_tag_iou_at_match_ce.pdf\n",
      "./nmt_adapt/eval/figures/220426_1444_English_Czech/Person/entropy_ce.pdf\n",
      "./nmt_adapt/eval/figures/220426_1444_English_Czech/Tense/char_match_ce.pdf\n",
      "./nmt_adapt/eval/figures/220426_1444_English_Czech/Tense/lev_dist_ce.pdf\n",
      "./nmt_adapt/eval/figures/220426_1444_English_Czech/Tense/norm_lev_dist_ce.pdf\n",
      "./nmt_adapt/eval/figures/220426_1444_English_Czech/Tense/chrf_1_ce.pdf\n",
      "./nmt_adapt/eval/figures/220426_1444_English_Czech/Tense/chrf_2_ce.pdf\n",
      "./nmt_adapt/eval/figures/220426_1444_English_Czech/Tense/chrf_3_ce.pdf\n",
      "./nmt_adapt/eval/figures/220426_1444_English_Czech/Tense/chrf_4_ce.pdf\n",
      "./nmt_adapt/eval/figures/220426_1444_English_Czech/Tense/chrf_5_ce.pdf\n",
      "./nmt_adapt/eval/figures/220426_1444_English_Czech/Tense/spe_match_ce.pdf\n",
      "./nmt_adapt/eval/figures/220426_1444_English_Czech/Tense/spe_lev_dist_ce.pdf\n",
      "./nmt_adapt/eval/figures/220426_1444_English_Czech/Tense/spe_norm_lev_dist_ce.pdf\n",
      "./nmt_adapt/eval/figures/220426_1444_English_Czech/Tense/lemma_match_ce.pdf\n",
      "./nmt_adapt/eval/figures/220426_1444_English_Czech/Tense/lemma_norm_lev_dist_ce.pdf\n",
      "./nmt_adapt/eval/figures/220426_1444_English_Czech/Tense/morph_tag_match_ce.pdf\n",
      "./nmt_adapt/eval/figures/220426_1444_English_Czech/Tense/morph_tag_iou_ce.pdf\n",
      "./nmt_adapt/eval/figures/220426_1444_English_Czech/Tense/morph_cat_iou_ce.pdf\n",
      "./nmt_adapt/eval/figures/220426_1444_English_Czech/Tense/morph_tag_iou_at_match_ce.pdf\n",
      "./nmt_adapt/eval/figures/220426_1444_English_Czech/Tense/entropy_ce.pdf\n",
      "./nmt_adapt/eval/figures/220426_1444_English_Czech/Comparison/char_match_ce.pdf\n",
      "./nmt_adapt/eval/figures/220426_1444_English_Czech/Comparison/lev_dist_ce.pdf\n",
      "./nmt_adapt/eval/figures/220426_1444_English_Czech/Comparison/norm_lev_dist_ce.pdf\n",
      "./nmt_adapt/eval/figures/220426_1444_English_Czech/Comparison/chrf_1_ce.pdf\n",
      "./nmt_adapt/eval/figures/220426_1444_English_Czech/Comparison/chrf_2_ce.pdf\n",
      "./nmt_adapt/eval/figures/220426_1444_English_Czech/Comparison/chrf_3_ce.pdf\n",
      "./nmt_adapt/eval/figures/220426_1444_English_Czech/Comparison/chrf_4_ce.pdf\n",
      "./nmt_adapt/eval/figures/220426_1444_English_Czech/Comparison/chrf_5_ce.pdf\n",
      "./nmt_adapt/eval/figures/220426_1444_English_Czech/Comparison/spe_match_ce.pdf\n",
      "./nmt_adapt/eval/figures/220426_1444_English_Czech/Comparison/spe_lev_dist_ce.pdf\n",
      "./nmt_adapt/eval/figures/220426_1444_English_Czech/Comparison/spe_norm_lev_dist_ce.pdf\n",
      "./nmt_adapt/eval/figures/220426_1444_English_Czech/Comparison/lemma_match_ce.pdf\n",
      "./nmt_adapt/eval/figures/220426_1444_English_Czech/Comparison/lemma_norm_lev_dist_ce.pdf\n",
      "./nmt_adapt/eval/figures/220426_1444_English_Czech/Comparison/morph_tag_match_ce.pdf\n",
      "./nmt_adapt/eval/figures/220426_1444_English_Czech/Comparison/morph_tag_iou_ce.pdf\n",
      "./nmt_adapt/eval/figures/220426_1444_English_Czech/Comparison/morph_cat_iou_ce.pdf\n",
      "./nmt_adapt/eval/figures/220426_1444_English_Czech/Comparison/morph_tag_iou_at_match_ce.pdf\n",
      "./nmt_adapt/eval/figures/220426_1444_English_Czech/Comparison/entropy_ce.pdf\n",
      "./nmt_adapt/eval/figures/220426_1444_English_Czech/Case/char_match_ce.pdf\n",
      "./nmt_adapt/eval/figures/220426_1444_English_Czech/Case/lev_dist_ce.pdf\n",
      "./nmt_adapt/eval/figures/220426_1444_English_Czech/Case/norm_lev_dist_ce.pdf\n",
      "./nmt_adapt/eval/figures/220426_1444_English_Czech/Case/chrf_1_ce.pdf\n",
      "./nmt_adapt/eval/figures/220426_1444_English_Czech/Case/chrf_2_ce.pdf\n",
      "./nmt_adapt/eval/figures/220426_1444_English_Czech/Case/chrf_3_ce.pdf\n",
      "./nmt_adapt/eval/figures/220426_1444_English_Czech/Case/chrf_4_ce.pdf\n",
      "./nmt_adapt/eval/figures/220426_1444_English_Czech/Case/chrf_5_ce.pdf\n",
      "./nmt_adapt/eval/figures/220426_1444_English_Czech/Case/spe_match_ce.pdf\n",
      "./nmt_adapt/eval/figures/220426_1444_English_Czech/Case/spe_lev_dist_ce.pdf\n",
      "./nmt_adapt/eval/figures/220426_1444_English_Czech/Case/spe_norm_lev_dist_ce.pdf\n",
      "./nmt_adapt/eval/figures/220426_1444_English_Czech/Case/lemma_match_ce.pdf\n",
      "./nmt_adapt/eval/figures/220426_1444_English_Czech/Case/lemma_norm_lev_dist_ce.pdf\n",
      "./nmt_adapt/eval/figures/220426_1444_English_Czech/Case/morph_tag_match_ce.pdf\n",
      "./nmt_adapt/eval/figures/220426_1444_English_Czech/Case/morph_tag_iou_ce.pdf\n",
      "./nmt_adapt/eval/figures/220426_1444_English_Czech/Case/morph_cat_iou_ce.pdf\n",
      "./nmt_adapt/eval/figures/220426_1444_English_Czech/Case/morph_tag_iou_at_match_ce.pdf\n",
      "./nmt_adapt/eval/figures/220426_1444_English_Czech/Case/entropy_ce.pdf\n",
      "./nmt_adapt/eval/figures/220426_1444_English_Czech/Voice/char_match_ce.pdf\n",
      "./nmt_adapt/eval/figures/220426_1444_English_Czech/Voice/lev_dist_ce.pdf\n",
      "./nmt_adapt/eval/figures/220426_1444_English_Czech/Voice/norm_lev_dist_ce.pdf\n",
      "./nmt_adapt/eval/figures/220426_1444_English_Czech/Voice/chrf_1_ce.pdf\n",
      "./nmt_adapt/eval/figures/220426_1444_English_Czech/Voice/chrf_2_ce.pdf\n",
      "./nmt_adapt/eval/figures/220426_1444_English_Czech/Voice/chrf_3_ce.pdf\n",
      "./nmt_adapt/eval/figures/220426_1444_English_Czech/Voice/chrf_4_ce.pdf\n",
      "./nmt_adapt/eval/figures/220426_1444_English_Czech/Voice/chrf_5_ce.pdf\n",
      "./nmt_adapt/eval/figures/220426_1444_English_Czech/Voice/spe_match_ce.pdf\n",
      "./nmt_adapt/eval/figures/220426_1444_English_Czech/Voice/spe_lev_dist_ce.pdf\n",
      "./nmt_adapt/eval/figures/220426_1444_English_Czech/Voice/spe_norm_lev_dist_ce.pdf\n",
      "./nmt_adapt/eval/figures/220426_1444_English_Czech/Voice/lemma_match_ce.pdf\n",
      "./nmt_adapt/eval/figures/220426_1444_English_Czech/Voice/lemma_norm_lev_dist_ce.pdf\n",
      "./nmt_adapt/eval/figures/220426_1444_English_Czech/Voice/morph_tag_match_ce.pdf\n",
      "./nmt_adapt/eval/figures/220426_1444_English_Czech/Voice/morph_tag_iou_ce.pdf\n",
      "./nmt_adapt/eval/figures/220426_1444_English_Czech/Voice/morph_cat_iou_ce.pdf\n",
      "./nmt_adapt/eval/figures/220426_1444_English_Czech/Voice/morph_tag_iou_at_match_ce.pdf\n",
      "./nmt_adapt/eval/figures/220426_1444_English_Czech/Voice/entropy_ce.pdf\n",
      "./nmt_adapt/eval/figures/220426_1444_English_Czech/Part of Speech/char_match_ce.pdf\n",
      "./nmt_adapt/eval/figures/220426_1444_English_Czech/Part of Speech/lev_dist_ce.pdf\n",
      "./nmt_adapt/eval/figures/220426_1444_English_Czech/Part of Speech/norm_lev_dist_ce.pdf\n",
      "./nmt_adapt/eval/figures/220426_1444_English_Czech/Part of Speech/chrf_1_ce.pdf\n",
      "./nmt_adapt/eval/figures/220426_1444_English_Czech/Part of Speech/chrf_2_ce.pdf\n",
      "./nmt_adapt/eval/figures/220426_1444_English_Czech/Part of Speech/chrf_3_ce.pdf\n",
      "./nmt_adapt/eval/figures/220426_1444_English_Czech/Part of Speech/chrf_4_ce.pdf\n",
      "./nmt_adapt/eval/figures/220426_1444_English_Czech/Part of Speech/chrf_5_ce.pdf\n",
      "./nmt_adapt/eval/figures/220426_1444_English_Czech/Part of Speech/spe_match_ce.pdf\n",
      "./nmt_adapt/eval/figures/220426_1444_English_Czech/Part of Speech/spe_lev_dist_ce.pdf\n",
      "./nmt_adapt/eval/figures/220426_1444_English_Czech/Part of Speech/spe_norm_lev_dist_ce.pdf\n",
      "./nmt_adapt/eval/figures/220426_1444_English_Czech/Part of Speech/lemma_match_ce.pdf\n",
      "./nmt_adapt/eval/figures/220426_1444_English_Czech/Part of Speech/lemma_norm_lev_dist_ce.pdf\n",
      "./nmt_adapt/eval/figures/220426_1444_English_Czech/Part of Speech/morph_tag_match_ce.pdf\n",
      "./nmt_adapt/eval/figures/220426_1444_English_Czech/Part of Speech/morph_tag_iou_ce.pdf\n",
      "./nmt_adapt/eval/figures/220426_1444_English_Czech/Part of Speech/morph_cat_iou_ce.pdf\n",
      "./nmt_adapt/eval/figures/220426_1444_English_Czech/Part of Speech/morph_tag_iou_at_match_ce.pdf\n",
      "./nmt_adapt/eval/figures/220426_1444_English_Czech/Part of Speech/entropy_ce.pdf\n",
      "./nmt_adapt/eval/figures/220426_1444_English_Czech/Mood/char_match_ce.pdf\n",
      "./nmt_adapt/eval/figures/220426_1444_English_Czech/Mood/lev_dist_ce.pdf\n",
      "./nmt_adapt/eval/figures/220426_1444_English_Czech/Mood/norm_lev_dist_ce.pdf\n",
      "./nmt_adapt/eval/figures/220426_1444_English_Czech/Mood/chrf_1_ce.pdf\n",
      "./nmt_adapt/eval/figures/220426_1444_English_Czech/Mood/chrf_2_ce.pdf\n",
      "./nmt_adapt/eval/figures/220426_1444_English_Czech/Mood/chrf_3_ce.pdf\n",
      "./nmt_adapt/eval/figures/220426_1444_English_Czech/Mood/chrf_4_ce.pdf\n",
      "./nmt_adapt/eval/figures/220426_1444_English_Czech/Mood/chrf_5_ce.pdf\n",
      "./nmt_adapt/eval/figures/220426_1444_English_Czech/Mood/spe_match_ce.pdf\n",
      "./nmt_adapt/eval/figures/220426_1444_English_Czech/Mood/spe_lev_dist_ce.pdf\n",
      "./nmt_adapt/eval/figures/220426_1444_English_Czech/Mood/spe_norm_lev_dist_ce.pdf\n",
      "./nmt_adapt/eval/figures/220426_1444_English_Czech/Mood/lemma_match_ce.pdf\n",
      "./nmt_adapt/eval/figures/220426_1444_English_Czech/Mood/lemma_norm_lev_dist_ce.pdf\n",
      "./nmt_adapt/eval/figures/220426_1444_English_Czech/Mood/morph_tag_match_ce.pdf\n",
      "./nmt_adapt/eval/figures/220426_1444_English_Czech/Mood/morph_tag_iou_ce.pdf\n",
      "./nmt_adapt/eval/figures/220426_1444_English_Czech/Mood/morph_cat_iou_ce.pdf\n",
      "./nmt_adapt/eval/figures/220426_1444_English_Czech/Mood/morph_tag_iou_at_match_ce.pdf\n",
      "./nmt_adapt/eval/figures/220426_1444_English_Czech/Mood/entropy_ce.pdf\n",
      "./nmt_adapt/eval/figures/220426_1444_English_Czech/Animacy/char_match_ce.pdf\n",
      "./nmt_adapt/eval/figures/220426_1444_English_Czech/Animacy/lev_dist_ce.pdf\n",
      "./nmt_adapt/eval/figures/220426_1444_English_Czech/Animacy/norm_lev_dist_ce.pdf\n",
      "./nmt_adapt/eval/figures/220426_1444_English_Czech/Animacy/chrf_1_ce.pdf\n",
      "./nmt_adapt/eval/figures/220426_1444_English_Czech/Animacy/chrf_2_ce.pdf\n",
      "./nmt_adapt/eval/figures/220426_1444_English_Czech/Animacy/chrf_3_ce.pdf\n",
      "./nmt_adapt/eval/figures/220426_1444_English_Czech/Animacy/chrf_4_ce.pdf\n",
      "./nmt_adapt/eval/figures/220426_1444_English_Czech/Animacy/chrf_5_ce.pdf\n",
      "./nmt_adapt/eval/figures/220426_1444_English_Czech/Animacy/spe_match_ce.pdf\n",
      "./nmt_adapt/eval/figures/220426_1444_English_Czech/Animacy/spe_lev_dist_ce.pdf\n",
      "./nmt_adapt/eval/figures/220426_1444_English_Czech/Animacy/spe_norm_lev_dist_ce.pdf\n",
      "./nmt_adapt/eval/figures/220426_1444_English_Czech/Animacy/lemma_match_ce.pdf\n",
      "./nmt_adapt/eval/figures/220426_1444_English_Czech/Animacy/lemma_norm_lev_dist_ce.pdf\n",
      "./nmt_adapt/eval/figures/220426_1444_English_Czech/Animacy/morph_tag_match_ce.pdf\n",
      "./nmt_adapt/eval/figures/220426_1444_English_Czech/Animacy/morph_tag_iou_ce.pdf\n",
      "./nmt_adapt/eval/figures/220426_1444_English_Czech/Animacy/morph_cat_iou_ce.pdf\n",
      "./nmt_adapt/eval/figures/220426_1444_English_Czech/Animacy/morph_tag_iou_at_match_ce.pdf\n",
      "./nmt_adapt/eval/figures/220426_1444_English_Czech/Animacy/entropy_ce.pdf\n",
      "./nmt_adapt/eval/figures/220426_1444_English_Czech/Valency/char_match_ce.pdf\n",
      "./nmt_adapt/eval/figures/220426_1444_English_Czech/Valency/lev_dist_ce.pdf\n",
      "./nmt_adapt/eval/figures/220426_1444_English_Czech/Valency/norm_lev_dist_ce.pdf\n",
      "./nmt_adapt/eval/figures/220426_1444_English_Czech/Valency/chrf_1_ce.pdf\n",
      "./nmt_adapt/eval/figures/220426_1444_English_Czech/Valency/chrf_2_ce.pdf\n",
      "./nmt_adapt/eval/figures/220426_1444_English_Czech/Valency/chrf_3_ce.pdf\n",
      "./nmt_adapt/eval/figures/220426_1444_English_Czech/Valency/chrf_4_ce.pdf\n",
      "./nmt_adapt/eval/figures/220426_1444_English_Czech/Valency/chrf_5_ce.pdf\n",
      "./nmt_adapt/eval/figures/220426_1444_English_Czech/Valency/spe_match_ce.pdf\n",
      "./nmt_adapt/eval/figures/220426_1444_English_Czech/Valency/spe_lev_dist_ce.pdf\n",
      "./nmt_adapt/eval/figures/220426_1444_English_Czech/Valency/spe_norm_lev_dist_ce.pdf\n",
      "./nmt_adapt/eval/figures/220426_1444_English_Czech/Valency/lemma_match_ce.pdf\n",
      "./nmt_adapt/eval/figures/220426_1444_English_Czech/Valency/lemma_norm_lev_dist_ce.pdf\n",
      "./nmt_adapt/eval/figures/220426_1444_English_Czech/Valency/morph_tag_match_ce.pdf\n",
      "./nmt_adapt/eval/figures/220426_1444_English_Czech/Valency/morph_tag_iou_ce.pdf\n",
      "./nmt_adapt/eval/figures/220426_1444_English_Czech/Valency/morph_cat_iou_ce.pdf\n",
      "./nmt_adapt/eval/figures/220426_1444_English_Czech/Valency/morph_tag_iou_at_match_ce.pdf\n",
      "./nmt_adapt/eval/figures/220426_1444_English_Czech/Valency/entropy_ce.pdf\n",
      "./nmt_adapt/eval/figures/220426_1444_English_Czech/Gender/char_match_ce.pdf\n",
      "./nmt_adapt/eval/figures/220426_1444_English_Czech/Gender/lev_dist_ce.pdf\n",
      "./nmt_adapt/eval/figures/220426_1444_English_Czech/Gender/norm_lev_dist_ce.pdf\n",
      "./nmt_adapt/eval/figures/220426_1444_English_Czech/Gender/chrf_1_ce.pdf\n",
      "./nmt_adapt/eval/figures/220426_1444_English_Czech/Gender/chrf_2_ce.pdf\n",
      "./nmt_adapt/eval/figures/220426_1444_English_Czech/Gender/chrf_3_ce.pdf\n",
      "./nmt_adapt/eval/figures/220426_1444_English_Czech/Gender/chrf_4_ce.pdf\n",
      "./nmt_adapt/eval/figures/220426_1444_English_Czech/Gender/chrf_5_ce.pdf\n",
      "./nmt_adapt/eval/figures/220426_1444_English_Czech/Gender/spe_match_ce.pdf\n",
      "./nmt_adapt/eval/figures/220426_1444_English_Czech/Gender/spe_lev_dist_ce.pdf\n",
      "./nmt_adapt/eval/figures/220426_1444_English_Czech/Gender/spe_norm_lev_dist_ce.pdf\n",
      "./nmt_adapt/eval/figures/220426_1444_English_Czech/Gender/lemma_match_ce.pdf\n",
      "./nmt_adapt/eval/figures/220426_1444_English_Czech/Gender/lemma_norm_lev_dist_ce.pdf\n",
      "./nmt_adapt/eval/figures/220426_1444_English_Czech/Gender/morph_tag_match_ce.pdf\n",
      "./nmt_adapt/eval/figures/220426_1444_English_Czech/Gender/morph_tag_iou_ce.pdf\n",
      "./nmt_adapt/eval/figures/220426_1444_English_Czech/Gender/morph_cat_iou_ce.pdf\n",
      "./nmt_adapt/eval/figures/220426_1444_English_Czech/Gender/morph_tag_iou_at_match_ce.pdf\n",
      "./nmt_adapt/eval/figures/220426_1444_English_Czech/Gender/entropy_ce.pdf\n",
      "./nmt_adapt/eval/figures/220426_1444_English_Czech/Number/char_match_ce.pdf\n",
      "./nmt_adapt/eval/figures/220426_1444_English_Czech/Number/lev_dist_ce.pdf\n",
      "./nmt_adapt/eval/figures/220426_1444_English_Czech/Number/norm_lev_dist_ce.pdf\n",
      "./nmt_adapt/eval/figures/220426_1444_English_Czech/Number/chrf_1_ce.pdf\n",
      "./nmt_adapt/eval/figures/220426_1444_English_Czech/Number/chrf_2_ce.pdf\n",
      "./nmt_adapt/eval/figures/220426_1444_English_Czech/Number/chrf_3_ce.pdf\n",
      "./nmt_adapt/eval/figures/220426_1444_English_Czech/Number/chrf_4_ce.pdf\n",
      "./nmt_adapt/eval/figures/220426_1444_English_Czech/Number/chrf_5_ce.pdf\n",
      "./nmt_adapt/eval/figures/220426_1444_English_Czech/Number/spe_match_ce.pdf\n",
      "./nmt_adapt/eval/figures/220426_1444_English_Czech/Number/spe_lev_dist_ce.pdf\n",
      "./nmt_adapt/eval/figures/220426_1444_English_Czech/Number/spe_norm_lev_dist_ce.pdf\n",
      "./nmt_adapt/eval/figures/220426_1444_English_Czech/Number/lemma_match_ce.pdf\n",
      "./nmt_adapt/eval/figures/220426_1444_English_Czech/Number/lemma_norm_lev_dist_ce.pdf\n",
      "./nmt_adapt/eval/figures/220426_1444_English_Czech/Number/morph_tag_match_ce.pdf\n",
      "./nmt_adapt/eval/figures/220426_1444_English_Czech/Number/morph_tag_iou_ce.pdf\n",
      "./nmt_adapt/eval/figures/220426_1444_English_Czech/Number/morph_cat_iou_ce.pdf\n",
      "./nmt_adapt/eval/figures/220426_1444_English_Czech/Number/morph_tag_iou_at_match_ce.pdf\n",
      "./nmt_adapt/eval/figures/220426_1444_English_Czech/Number/entropy_ce.pdf\n",
      "./nmt_adapt/eval/figures/220426_1444_English_Czech/Finiteness/char_match_ce.pdf\n",
      "./nmt_adapt/eval/figures/220426_1444_English_Czech/Finiteness/lev_dist_ce.pdf\n",
      "./nmt_adapt/eval/figures/220426_1444_English_Czech/Finiteness/norm_lev_dist_ce.pdf\n",
      "./nmt_adapt/eval/figures/220426_1444_English_Czech/Finiteness/chrf_1_ce.pdf\n",
      "./nmt_adapt/eval/figures/220426_1444_English_Czech/Finiteness/chrf_2_ce.pdf\n",
      "./nmt_adapt/eval/figures/220426_1444_English_Czech/Finiteness/chrf_3_ce.pdf\n",
      "./nmt_adapt/eval/figures/220426_1444_English_Czech/Finiteness/chrf_4_ce.pdf\n",
      "./nmt_adapt/eval/figures/220426_1444_English_Czech/Finiteness/chrf_5_ce.pdf\n",
      "./nmt_adapt/eval/figures/220426_1444_English_Czech/Finiteness/spe_match_ce.pdf\n",
      "./nmt_adapt/eval/figures/220426_1444_English_Czech/Finiteness/spe_lev_dist_ce.pdf\n",
      "./nmt_adapt/eval/figures/220426_1444_English_Czech/Finiteness/spe_norm_lev_dist_ce.pdf\n",
      "./nmt_adapt/eval/figures/220426_1444_English_Czech/Finiteness/lemma_match_ce.pdf\n",
      "./nmt_adapt/eval/figures/220426_1444_English_Czech/Finiteness/lemma_norm_lev_dist_ce.pdf\n",
      "./nmt_adapt/eval/figures/220426_1444_English_Czech/Finiteness/morph_tag_match_ce.pdf\n",
      "./nmt_adapt/eval/figures/220426_1444_English_Czech/Finiteness/morph_tag_iou_ce.pdf\n",
      "./nmt_adapt/eval/figures/220426_1444_English_Czech/Finiteness/morph_cat_iou_ce.pdf\n",
      "./nmt_adapt/eval/figures/220426_1444_English_Czech/Finiteness/morph_tag_iou_at_match_ce.pdf\n",
      "./nmt_adapt/eval/figures/220426_1444_English_Czech/Finiteness/entropy_ce.pdf\n",
      "./nmt_adapt/eval/figures/220426_1444_English_Czech/Aspect/char_match_ce.pdf\n",
      "./nmt_adapt/eval/figures/220426_1444_English_Czech/Aspect/lev_dist_ce.pdf\n",
      "./nmt_adapt/eval/figures/220426_1444_English_Czech/Aspect/norm_lev_dist_ce.pdf\n",
      "./nmt_adapt/eval/figures/220426_1444_English_Czech/Aspect/chrf_1_ce.pdf\n",
      "./nmt_adapt/eval/figures/220426_1444_English_Czech/Aspect/chrf_2_ce.pdf\n",
      "./nmt_adapt/eval/figures/220426_1444_English_Czech/Aspect/chrf_3_ce.pdf\n",
      "./nmt_adapt/eval/figures/220426_1444_English_Czech/Aspect/chrf_4_ce.pdf\n",
      "./nmt_adapt/eval/figures/220426_1444_English_Czech/Aspect/chrf_5_ce.pdf\n",
      "./nmt_adapt/eval/figures/220426_1444_English_Czech/Aspect/spe_match_ce.pdf\n",
      "./nmt_adapt/eval/figures/220426_1444_English_Czech/Aspect/spe_lev_dist_ce.pdf\n",
      "./nmt_adapt/eval/figures/220426_1444_English_Czech/Aspect/spe_norm_lev_dist_ce.pdf\n",
      "./nmt_adapt/eval/figures/220426_1444_English_Czech/Aspect/lemma_match_ce.pdf\n",
      "./nmt_adapt/eval/figures/220426_1444_English_Czech/Aspect/lemma_norm_lev_dist_ce.pdf\n",
      "./nmt_adapt/eval/figures/220426_1444_English_Czech/Aspect/morph_tag_match_ce.pdf\n",
      "./nmt_adapt/eval/figures/220426_1444_English_Czech/Aspect/morph_tag_iou_ce.pdf\n",
      "./nmt_adapt/eval/figures/220426_1444_English_Czech/Aspect/morph_cat_iou_ce.pdf\n",
      "./nmt_adapt/eval/figures/220426_1444_English_Czech/Aspect/morph_tag_iou_at_match_ce.pdf\n",
      "./nmt_adapt/eval/figures/220426_1444_English_Czech/Aspect/entropy_ce.pdf\n",
      "./nmt_adapt/eval/figures/220426_1444_English_Czech/Polarity/char_match_ce.pdf\n",
      "./nmt_adapt/eval/figures/220426_1444_English_Czech/Polarity/lev_dist_ce.pdf\n",
      "./nmt_adapt/eval/figures/220426_1444_English_Czech/Polarity/norm_lev_dist_ce.pdf\n",
      "./nmt_adapt/eval/figures/220426_1444_English_Czech/Polarity/chrf_1_ce.pdf\n",
      "./nmt_adapt/eval/figures/220426_1444_English_Czech/Polarity/chrf_2_ce.pdf\n",
      "./nmt_adapt/eval/figures/220426_1444_English_Czech/Polarity/chrf_3_ce.pdf\n",
      "./nmt_adapt/eval/figures/220426_1444_English_Czech/Polarity/chrf_4_ce.pdf\n",
      "./nmt_adapt/eval/figures/220426_1444_English_Czech/Polarity/chrf_5_ce.pdf\n",
      "./nmt_adapt/eval/figures/220426_1444_English_Czech/Polarity/spe_match_ce.pdf\n",
      "./nmt_adapt/eval/figures/220426_1444_English_Czech/Polarity/spe_lev_dist_ce.pdf\n",
      "./nmt_adapt/eval/figures/220426_1444_English_Czech/Polarity/spe_norm_lev_dist_ce.pdf\n",
      "./nmt_adapt/eval/figures/220426_1444_English_Czech/Polarity/lemma_match_ce.pdf\n",
      "./nmt_adapt/eval/figures/220426_1444_English_Czech/Polarity/lemma_norm_lev_dist_ce.pdf\n",
      "./nmt_adapt/eval/figures/220426_1444_English_Czech/Polarity/morph_tag_match_ce.pdf\n",
      "./nmt_adapt/eval/figures/220426_1444_English_Czech/Polarity/morph_tag_iou_ce.pdf\n",
      "./nmt_adapt/eval/figures/220426_1444_English_Czech/Polarity/morph_cat_iou_ce.pdf\n",
      "./nmt_adapt/eval/figures/220426_1444_English_Czech/Polarity/morph_tag_iou_at_match_ce.pdf\n",
      "./nmt_adapt/eval/figures/220426_1444_English_Czech/Polarity/entropy_ce.pdf\n"
     ]
    }
   ],
   "source": [
    "for cat in morph_cat_tag_vocab.keys():\n",
    "    tag_ce_agg_mean = cat_ce_agg_mean[cat]\n",
    "    tag_ce_agg_std = cat_ce_agg_std[cat]\n",
    "\n",
    "    if len(tag_ce_agg_mean) == 0:\n",
    "        continue\n",
    "\n",
    "    for metric in list(list(tag_ce_agg_mean.values())[0].keys()):\n",
    "        fig, ax = plt.subplots()\n",
    "\n",
    "        tags = sorted(list(tag_ce_agg_mean.keys()))\n",
    "        pos = np.arange(len(tags))\n",
    "\n",
    "        means = [tag_ce_agg_mean[t][metric] for t in tags]\n",
    "        error = [tag_ce_agg_std[t][metric] for t in tags]\n",
    "        color = [\"green\" if m >= 0 else \"red\" for m in means]\n",
    "\n",
    "        ax.scatter(means, pos, marker=\"D\", c=color, s=100, zorder=2)\n",
    "        ax.errorbar(means, pos, xerr=error, fmt=\".\", c=\"k\", zorder=1)\n",
    "        ax.set_yticks(pos, labels=tags)\n",
    "        ax.invert_yaxis()\n",
    "        ax.set_title(f\"{cat} - {metric}\")\n",
    "\n",
    "        os.makedirs(base_fp + f\"/{cat}\", exist_ok=True)\n",
    "        fig.savefig(\n",
    "            f\"{base_fp}/{cat}/{metric}_ce.pdf\"\n",
    "        )\n",
    "        print(f\"{base_fp}/{cat}/{metric}_ce.pdf\")\n",
    "\n",
    "        plt.close(fig)\n"
   ]
  },
  {
   "cell_type": "code",
   "execution_count": 67,
   "metadata": {},
   "outputs": [
    {
     "data": {
      "text/plain": [
       "dict_keys(['Person', 'Tense', 'Comparison', 'Case', 'Deixis', 'Aktionsart', 'Voice', 'Part of Speech', 'Mood', 'Possession', 'Animacy', 'Valency', 'Argument Marking', 'Evidentiality', 'Politeness', 'Gender', 'Switch-Reference', 'Interrogativity', 'Definiteness', 'Number', 'Finiteness', 'Information Structure', 'Aspect', 'Language-Specific Features ', 'Polarity'])"
      ]
     },
     "execution_count": 67,
     "metadata": {},
     "output_type": "execute_result"
    }
   ],
   "source": [
    "morph_cat_tag_vocab.keys()"
   ]
  },
  {
   "cell_type": "markdown",
   "metadata": {},
   "source": [
    "# Confusion Matrix"
   ]
  },
  {
   "cell_type": "code",
   "execution_count": null,
   "metadata": {},
   "outputs": [],
   "source": [
    "from morphological_tagging.data.corpus import TreebankDataModule\n",
    "\n",
    "dm = TreebankDataModule.load(\"./morphological_tagging/data/corpora/\")"
   ]
  },
  {
   "cell_type": "code",
   "execution_count": 3,
   "metadata": {},
   "outputs": [],
   "source": [
    "from nmt_adapt.marginal_task import MarginalTask\n",
    "from nmt_adapt.inverse_index import InverseIndexv2\n",
    "from nmt_adapt.task_sampling import build_confusion_matrix_from_eval_data, TaskSampler\n",
    "\n",
    "index = InverseIndexv2.load(\"./nmt_adapt/data/indices/ataman_multidomain_english_czech_train.pickle\")\n",
    "index.filter(lambda k: not k.contains(\"_\"))\n",
    "\n",
    "task_sampler = TaskSampler(index)\n",
    "present_keys = {(frozenset(t1.morph_tag_set), frozenset(t2.morph_tag_set)) for t1, t2 in list(task_sampler.lemma_intersection.keys())}\n",
    "del task_sampler\n",
    "\n",
    "confusion_matrix = build_confusion_matrix_from_eval_data(\"./nmt_adapt/eval/220426_1444_English_Czech.pickle\")"
   ]
  },
  {
   "cell_type": "code",
   "execution_count": 7,
   "metadata": {},
   "outputs": [],
   "source": [
    "from collections import defaultdict\n",
    "from itertools import product\n",
    "\n",
    "marginal_confusion_matrix = defaultdict(lambda: defaultdict(list))\n",
    "for t1, subdict in confusion_matrix.items():\n",
    "    for t2, prob in subdict.items():\n",
    "        if ((\"_\" not in t1) and (\"_\" not in t2)) and ((t1, t2) in present_keys or (t2, t1) in present_keys):\n",
    "            tags_not_in_t2 = list(t1 - t2)\n",
    "            tags_not_in_t1 = list(t2 - t1)\n",
    "            Z = len(tags_not_in_t2) * len(tags_not_in_t1)\n",
    "            for tt1, tt2 in product(tags_not_in_t2, tags_not_in_t1):\n",
    "                marginal_confusion_matrix[tt1][tt2] += [prob / Z]\n",
    "\n",
    "marginal_confusion_matrix = dict(marginal_confusion_matrix)\n",
    "for k, v in marginal_confusion_matrix.items():\n",
    "    marginal_confusion_matrix[k] = dict(v)"
   ]
  },
  {
   "cell_type": "code",
   "execution_count": 8,
   "metadata": {},
   "outputs": [],
   "source": [
    "tag_to_int = dict()\n",
    "i = 0\n",
    "for cat in sorted(morph_cat_tag_vocab.keys()):\n",
    "    for tag in sorted(list(morph_cat_tag_vocab[cat])):\n",
    "        if marginal_confusion_matrix.get(tag.upper(), None) is not None:\n",
    "            tag_to_int[tag] = i\n",
    "            i += 1\n",
    "\n",
    "int_to_tag = {v: k for k, v in tag_to_int.items()}"
   ]
  },
  {
   "cell_type": "markdown",
   "metadata": {},
   "source": [
    "## Transpositions Only"
   ]
  },
  {
   "cell_type": "code",
   "execution_count": 9,
   "metadata": {},
   "outputs": [
    {
     "data": {
      "image/png": "[encoded data removed]",
      "text/plain": [
       "<Figure size 864x864 with 37 Axes>"
      ]
     },
     "metadata": {},
     "output_type": "display_data"
    }
   ],
   "source": [
    "from collections import defaultdict\n",
    "from itertools import product, combinations\n",
    "\n",
    "import matplotlib.pyplot as plt\n",
    "\n",
    "# ==============================================================================\n",
    "# CONFUSION MATRIX\n",
    "# ==============================================================================\n",
    "marginal_confusion_matrix = defaultdict(lambda: defaultdict(list))\n",
    "for t1, subdict in confusion_matrix.items():\n",
    "    for t2, prob in subdict.items():\n",
    "        if ((\"_\" not in t1) and (\"_\" not in t2)) and ((t1, t2) in present_keys or (t2, t1) in present_keys):\n",
    "            tags_not_in_t2 = list(t1 - t2)\n",
    "            tags_not_in_t1 = list(t2 - t1)\n",
    "            Z = len(tags_not_in_t2) * len(tags_not_in_t1)\n",
    "            for tt1, tt2 in product(tags_not_in_t2, tags_not_in_t1):\n",
    "                marginal_confusion_matrix[tt1][tt2] += [prob / Z]\n",
    "\n",
    "marginal_confusion_matrix = dict(marginal_confusion_matrix)\n",
    "for k, v in marginal_confusion_matrix.items():\n",
    "    marginal_confusion_matrix[k] = dict(v)\n",
    "\n",
    "marginal_confusion_array = np.zeros((len(tag_to_int), len(tag_to_int)))\n",
    "\n",
    "for t1, t2 in combinations(list(tag_to_int), 2):\n",
    "    marginal_confusion_array[tag_to_int[t1]][tag_to_int[t2]] = np.sum(marginal_confusion_matrix[t1.upper()].get(t2.upper(), [0]))\n",
    "    marginal_confusion_array[tag_to_int[t2]][tag_to_int[t1]] = np.sum(marginal_confusion_matrix[t2.upper()].get(t1.upper(), [0]))\n",
    "\n",
    "marginal_confusion_array_ = (marginal_confusion_array) / np.sum(marginal_confusion_array, axis=0)\n",
    "\n",
    "# ==============================================================================\n",
    "# PLOTTING CODE\n",
    "# ==============================================================================\n",
    "import matplotlib\n",
    "import matplotlib.pyplot as plt\n",
    "import matplotlib.gridspec as gridspec\n",
    "import seaborn as sns\n",
    "\n",
    "cycle_len = 3\n",
    "cmap = sns.mpl_palette(\"tab10\", cycle_len)\n",
    "\n",
    "fill_cmap = matplotlib.cm.get_cmap(\"viridis\").copy()\n",
    "fill_cmap.set_bad('black', 1.0)\n",
    "\n",
    "fig = plt.figure(figsize=(12, 12))\n",
    "\n",
    "all_tags = set(tag_to_int.keys())\n",
    "local_morph_cat_tag_vocab = {cat: sorted([tag for tag in tags if tag in all_tags]) for cat, tags in morph_cat_tag_vocab.items()}\n",
    "local_morph_cat_tag_vocab = {cat: tags for cat, tags in local_morph_cat_tag_vocab.items() if len(tags) > 0}\n",
    "sorted_local_morph_cat_tag_vocab = sorted(local_morph_cat_tag_vocab.items(), key=lambda x: x[0])\n",
    "n_cats = len(sorted_local_morph_cat_tag_vocab)\n",
    "local_all_tags = [tag for cat, tags in sorted_local_morph_cat_tag_vocab for tag in tags]\n",
    "n_tags = len(local_all_tags)\n",
    "\n",
    "fudge_factor = 0.005\n",
    "vmin, vmax = np.quantile(marginal_confusion_array_, q=[fudge_factor, 1-fudge_factor])\n",
    "\n",
    "def imshow_(ax, data):\n",
    "    ax.imshow(\n",
    "        data,\n",
    "        vmin=vmin,\n",
    "        vmax=vmax,\n",
    "        aspect=\"auto\",\n",
    "        cmap=fill_cmap,\n",
    "        )\n",
    "\n",
    "gs = gridspec.GridSpec(n_tags, n_tags, figure=fig)\n",
    "\n",
    "axes = []\n",
    "block_size = 0\n",
    "for i, (cat, tags) in enumerate(sorted_local_morph_cat_tag_vocab):\n",
    "\n",
    "    h0, h1 = block_size, block_size+len(tags)\n",
    "\n",
    "    if i != 0:\n",
    "        ax = fig.add_subplot(gs[h0:h1, 0:block_size])\n",
    "        imshow_(ax, marginal_confusion_array_[h0:h1, 0:block_size])\n",
    "        if i % 2 == 0 or (len(sorted_local_morph_cat_tag_vocab) % 2 == 1 and i == len(sorted_local_morph_cat_tag_vocab) - 1):\n",
    "            ax.set_ylabel(f\"{cat}\", fontsize=12, color=cmap[i%cycle_len])\n",
    "        axes.append(ax)\n",
    "\n",
    "    ax = fig.add_subplot(gs[h0:h1, block_size:block_size+len(tags)])\n",
    "    imshow_(ax, marginal_confusion_array_[h0:h1, block_size:block_size+len(tags)])\n",
    "    if i == 0:\n",
    "        ax.set_ylabel(f\"{cat}\", fontsize=12, color=cmap[i%cycle_len])\n",
    "    ax.plot([1,0], [0,1], transform=ax.transAxes, c=\"white\", linewidth=4)\n",
    "    axes.append(ax)\n",
    "\n",
    "    if i != len(sorted_local_morph_cat_tag_vocab) - 1:\n",
    "        ax = fig.add_subplot(gs[h0:h1, block_size+len(tags):])\n",
    "        imshow_(ax, marginal_confusion_array_[h0:h1, block_size+len(tags):])\n",
    "        axes.append(ax)\n",
    "        if i % 2 == 1:\n",
    "            ax.yaxis.set_label_position(\"right\")\n",
    "            ax.set_ylabel(f\"{cat}\", fontsize=12, color=cmap[i%cycle_len])\n",
    "\n",
    "    block_size += len(tags)\n",
    "\n",
    "for ax in axes:\n",
    "    ax.set_xticks([])\n",
    "    ax.set_yticks([])\n",
    "    ax.spines['top'].set_visible(False)\n",
    "    ax.spines['bottom'].set_visible(False)\n",
    "    ax.spines['left'].set_visible(False)\n",
    "    ax.spines['right'].set_visible(False)\n",
    "\n",
    "axes[-2].set_xticks(list(range(block_size-len(tags))))\n",
    "axes[-2].set_xticklabels(\n",
    "    [morph_tag_vocab[tag] for tag in local_all_tags[:-len(tags)]],\n",
    "    rotation=90,\n",
    "    ha=\"center\",\n",
    "    )\n",
    "\n",
    "ticks = axes[-2].get_xticklabels()\n",
    "\n",
    "cum_cat_len = 0\n",
    "for i, (cat, tags) in enumerate(sorted_local_morph_cat_tag_vocab[:-1]):\n",
    "    for tick in ticks[cum_cat_len:cum_cat_len+len(tags)]:\n",
    "        tick.set_color(cmap[i%cycle_len])\n",
    "    cum_cat_len += len(tags)\n",
    "\n",
    "last_cat_len = len(sorted_local_morph_cat_tag_vocab[-1][1])\n",
    "axes[-1].set_xticks(list(range(last_cat_len)))\n",
    "axes[-1].set_xticklabels(\n",
    "    [morph_tag_vocab[tag] for tag in local_all_tags[-last_cat_len:]],\n",
    "    rotation=90,\n",
    "    ha=\"center\",\n",
    "    )\n",
    "\n",
    "for tick in axes[-1].get_xticklabels():\n",
    "    tick.set_color(cmap[(n_cats-1)%cycle_len])\n",
    "\n",
    "gs.update(left=None, right=None, bottom=None, top=None, wspace=None, hspace=None)\n",
    "\n",
    "fig.text(0.50, 0.00, 'Predicted', ha='center', fontsize=16)\n",
    "fig.text(0.08, 0.50, 'Ground Truth', va='center', rotation='vertical', fontsize=16)\n",
    "fig.text(0.50, 0.90, 'Substitutions', ha='center', fontsize=20)\n",
    "\n",
    "plt.show()\n"
   ]
  },
  {
   "cell_type": "markdown",
   "metadata": {},
   "source": [
    "## False Positives"
   ]
  },
  {
   "cell_type": "code",
   "execution_count": 515,
   "metadata": {},
   "outputs": [
    {
     "data": {
      "image/png": "[encoded data removed]",
      "text/plain": [
       "<Figure size 864x864 with 37 Axes>"
      ]
     },
     "metadata": {},
     "output_type": "display_data"
    }
   ],
   "source": [
    "from collections import defaultdict\n",
    "from itertools import product, combinations\n",
    "\n",
    "import matplotlib.pyplot as plt\n",
    "\n",
    "# ==============================================================================\n",
    "# CONFUSION MATRIX\n",
    "# ==============================================================================\n",
    "marginal_confusion_matrix = defaultdict(lambda: defaultdict(list))\n",
    "for t1, subdict in confusion_matrix.items():\n",
    "    for t2, prob in subdict.items():\n",
    "        if ((\"_\" not in t1) and (\"_\" not in t2)) and ((t1, t2) in present_keys or (t2, t1) in present_keys):\n",
    "            false_positives = list(t2 - t1)\n",
    "\n",
    "            Z = len(list(t1)) * len(false_positives)\n",
    "            for tt1, tt2 in product(list(t1), false_positives):\n",
    "                marginal_confusion_matrix[tt1][tt2] += [prob / Z]\n",
    "\n",
    "marginal_confusion_matrix = dict(marginal_confusion_matrix)\n",
    "for k, v in marginal_confusion_matrix.items():\n",
    "    marginal_confusion_matrix[k] = dict(v)\n",
    "\n",
    "marginal_confusion_array = np.zeros((len(tag_to_int), len(tag_to_int)))\n",
    "\n",
    "for t1, t2 in combinations(list(tag_to_int), 2):\n",
    "    marginal_confusion_array[tag_to_int[t1]][tag_to_int[t2]] = np.sum(marginal_confusion_matrix[t1.upper()].get(t2.upper(), [0]))\n",
    "    marginal_confusion_array[tag_to_int[t2]][tag_to_int[t1]] = np.sum(marginal_confusion_matrix[t2.upper()].get(t1.upper(), [0]))\n",
    "\n",
    "marginal_confusion_array_ = (marginal_confusion_array) / np.sum(marginal_confusion_array, axis=0)\n",
    "\n",
    "# ==============================================================================\n",
    "# PLOTTING CODE\n",
    "# ==============================================================================\n",
    "import matplotlib.pyplot as plt\n",
    "import matplotlib.gridspec as gridspec\n",
    "import seaborn as sns\n",
    "\n",
    "cycle_len = 3\n",
    "cmap = sns.mpl_palette(\"tab10\", cycle_len)\n",
    "\n",
    "fig = plt.figure(figsize=(12, 12))\n",
    "\n",
    "all_tags = set(tag_to_int.keys())\n",
    "local_morph_cat_tag_vocab = {cat: sorted([tag for tag in tags if tag in all_tags]) for cat, tags in morph_cat_tag_vocab.items()}\n",
    "local_morph_cat_tag_vocab = {cat: tags for cat, tags in local_morph_cat_tag_vocab.items() if len(tags) > 0}\n",
    "sorted_local_morph_cat_tag_vocab = sorted(local_morph_cat_tag_vocab.items(), key=lambda x: x[0])\n",
    "n_cats = len(sorted_local_morph_cat_tag_vocab)\n",
    "local_all_tags = [tag for cat, tags in sorted_local_morph_cat_tag_vocab for tag in tags]\n",
    "n_tags = len(local_all_tags)\n",
    "\n",
    "fudge_factor = 0.005\n",
    "vmin, vmax = np.quantile(marginal_confusion_array_, q=[fudge_factor, 1-fudge_factor])\n",
    "\n",
    "def imshow_(ax, data):\n",
    "    ax.imshow(\n",
    "        data,\n",
    "        vmin=vmin,\n",
    "        vmax=vmax,\n",
    "        aspect=\"auto\",\n",
    "        )\n",
    "\n",
    "gs = gridspec.GridSpec(n_tags, n_tags, figure=fig)\n",
    "\n",
    "axes = []\n",
    "block_size = 0\n",
    "for i, (cat, tags) in enumerate(sorted_local_morph_cat_tag_vocab):\n",
    "\n",
    "    h0, h1 = block_size, block_size+len(tags)\n",
    "\n",
    "    if i != 0:\n",
    "        ax = fig.add_subplot(gs[h0:h1, 0:block_size])\n",
    "        imshow_(ax, marginal_confusion_array_[h0:h1, 0:block_size])\n",
    "        if i % 2 == 0 or (len(sorted_local_morph_cat_tag_vocab) % 2 == 1 and i == len(sorted_local_morph_cat_tag_vocab) - 1):\n",
    "            ax.set_ylabel(f\"{cat}\", fontsize=12, color=cmap[i%cycle_len])\n",
    "        axes.append(ax)\n",
    "\n",
    "    ax = fig.add_subplot(gs[h0:h1, block_size:block_size+len(tags)])\n",
    "    imshow_(ax, marginal_confusion_array_[h0:h1, block_size:block_size+len(tags)])\n",
    "    if i == 0:\n",
    "        ax.set_ylabel(f\"{cat}\", fontsize=12, color=cmap[i%cycle_len])\n",
    "    axes.append(ax)\n",
    "\n",
    "    if i != len(sorted_local_morph_cat_tag_vocab) - 1:\n",
    "        ax = fig.add_subplot(gs[h0:h1, block_size+len(tags):])\n",
    "        imshow_(ax, marginal_confusion_array_[h0:h1, block_size+len(tags):])\n",
    "        axes.append(ax)\n",
    "        if i % 2 == 1:\n",
    "            ax.yaxis.set_label_position(\"right\")\n",
    "            ax.set_ylabel(f\"{cat}\", fontsize=12, color=cmap[i%cycle_len])\n",
    "\n",
    "    block_size += len(tags)\n",
    "\n",
    "for ax in axes:\n",
    "    ax.set_xticks([])\n",
    "    ax.set_yticks([])\n",
    "    ax.spines['top'].set_visible(False)\n",
    "    ax.spines['bottom'].set_visible(False)\n",
    "    ax.spines['left'].set_visible(False)\n",
    "    ax.spines['right'].set_visible(False)\n",
    "\n",
    "axes[-2].set_xticks(list(range(block_size-len(tags))))\n",
    "axes[-2].set_xticklabels(\n",
    "    [morph_tag_vocab[tag] for tag in local_all_tags[:-len(tags)]],\n",
    "    rotation=90,\n",
    "    ha=\"center\",\n",
    "    )\n",
    "\n",
    "ticks = axes[-2].get_xticklabels()\n",
    "\n",
    "cum_cat_len = 0\n",
    "for i, (cat, tags) in enumerate(sorted_local_morph_cat_tag_vocab[:-1]):\n",
    "    for tick in ticks[cum_cat_len:cum_cat_len+len(tags)]:\n",
    "        tick.set_color(cmap[i%cycle_len])\n",
    "    cum_cat_len += len(tags)\n",
    "\n",
    "last_cat_len = len(sorted_local_morph_cat_tag_vocab[-1][1])\n",
    "axes[-1].set_xticks(list(range(last_cat_len)))\n",
    "axes[-1].set_xticklabels(\n",
    "    [morph_tag_vocab[tag] for tag in local_all_tags[-last_cat_len:]],\n",
    "    rotation=90,\n",
    "    ha=\"center\",\n",
    "    )\n",
    "\n",
    "for tick in axes[-1].get_xticklabels():\n",
    "    tick.set_color(cmap[(n_cats-1)%cycle_len])\n",
    "\n",
    "gs.update(left=None, right=None, bottom=None, top=None, wspace=None, hspace=None)\n",
    "\n",
    "fig.text(0.50, 0.00, 'Predicted', ha='center', fontsize=16)\n",
    "fig.text(0.08, 0.50, 'Ground Truth', va='center', rotation='vertical', fontsize=16)\n",
    "fig.text(0.50, 0.90, 'False Positives', ha='center', fontsize=20)\n",
    "\n",
    "plt.show()\n"
   ]
  },
  {
   "cell_type": "markdown",
   "metadata": {},
   "source": [
    "## False Negatives"
   ]
  },
  {
   "cell_type": "code",
   "execution_count": 516,
   "metadata": {},
   "outputs": [
    {
     "data": {
      "image/png": "[encoded data removed]",
      "text/plain": [
       "<Figure size 864x864 with 37 Axes>"
      ]
     },
     "metadata": {},
     "output_type": "display_data"
    }
   ],
   "source": [
    "from collections import defaultdict\n",
    "from itertools import product, combinations\n",
    "\n",
    "import matplotlib.pyplot as plt\n",
    "\n",
    "# ==============================================================================\n",
    "# CONFUSION MATRIX\n",
    "# ==============================================================================\n",
    "marginal_confusion_matrix = defaultdict(lambda: defaultdict(list))\n",
    "for t1, subdict in confusion_matrix.items():\n",
    "    for t2, prob in subdict.items():\n",
    "        if ((\"_\" not in t1) and (\"_\" not in t2)) and ((t1, t2) in present_keys or (t2, t1) in present_keys):\n",
    "            false_negatives = list(t1 - t2)\n",
    "\n",
    "            Z = len(false_negatives) * len(list(t2))\n",
    "            for tt1, tt2 in product(false_negatives, list(t2)):\n",
    "                marginal_confusion_matrix[tt1][tt2] += [prob / Z]\n",
    "\n",
    "marginal_confusion_matrix = dict(marginal_confusion_matrix)\n",
    "for k, v in marginal_confusion_matrix.items():\n",
    "    marginal_confusion_matrix[k] = dict(v)\n",
    "\n",
    "marginal_confusion_array = np.zeros((len(tag_to_int), len(tag_to_int)))\n",
    "\n",
    "for t1, t2 in combinations(list(tag_to_int), 2):\n",
    "    marginal_confusion_array[tag_to_int[t1]][tag_to_int[t2]] = np.sum(marginal_confusion_matrix[t1.upper()].get(t2.upper(), [0]))\n",
    "    marginal_confusion_array[tag_to_int[t2]][tag_to_int[t1]] = np.sum(marginal_confusion_matrix[t2.upper()].get(t1.upper(), [0]))\n",
    "\n",
    "marginal_confusion_array_ = (marginal_confusion_array) / np.sum(marginal_confusion_array, axis=0)\n",
    "\n",
    "# ==============================================================================\n",
    "# PLOTTING CODE\n",
    "# ==============================================================================\n",
    "import matplotlib.pyplot as plt\n",
    "import matplotlib.gridspec as gridspec\n",
    "import seaborn as sns\n",
    "\n",
    "cycle_len = 3\n",
    "cmap = sns.mpl_palette(\"tab10\", cycle_len)\n",
    "\n",
    "fig = plt.figure(figsize=(12, 12))\n",
    "\n",
    "all_tags = set(tag_to_int.keys())\n",
    "local_morph_cat_tag_vocab = {cat: sorted([tag for tag in tags if tag in all_tags]) for cat, tags in morph_cat_tag_vocab.items()}\n",
    "local_morph_cat_tag_vocab = {cat: tags for cat, tags in local_morph_cat_tag_vocab.items() if len(tags) > 0}\n",
    "sorted_local_morph_cat_tag_vocab = sorted(local_morph_cat_tag_vocab.items(), key=lambda x: x[0])\n",
    "n_cats = len(sorted_local_morph_cat_tag_vocab)\n",
    "local_all_tags = [tag for cat, tags in sorted_local_morph_cat_tag_vocab for tag in tags]\n",
    "n_tags = len(local_all_tags)\n",
    "\n",
    "fudge_factor = 0.005\n",
    "vmin, vmax = np.quantile(marginal_confusion_array_, q=[fudge_factor, 1-fudge_factor])\n",
    "\n",
    "def imshow_(ax, data):\n",
    "    ax.imshow(\n",
    "        data,\n",
    "        vmin=vmin,\n",
    "        vmax=vmax,\n",
    "        aspect=\"auto\",\n",
    "        )\n",
    "\n",
    "gs = gridspec.GridSpec(n_tags, n_tags, figure=fig)\n",
    "\n",
    "axes = []\n",
    "block_size = 0\n",
    "for i, (cat, tags) in enumerate(sorted_local_morph_cat_tag_vocab):\n",
    "\n",
    "    h0, h1 = block_size, block_size+len(tags)\n",
    "\n",
    "    if i != 0:\n",
    "        ax = fig.add_subplot(gs[h0:h1, 0:block_size])\n",
    "        imshow_(ax, marginal_confusion_array_[h0:h1, 0:block_size])\n",
    "        if i % 2 == 0 or (len(sorted_local_morph_cat_tag_vocab) % 2 == 1 and i == len(sorted_local_morph_cat_tag_vocab) - 1):\n",
    "            ax.set_ylabel(f\"{cat}\", fontsize=12, color=cmap[i%cycle_len])\n",
    "        axes.append(ax)\n",
    "\n",
    "    ax = fig.add_subplot(gs[h0:h1, block_size:block_size+len(tags)])\n",
    "    imshow_(ax, marginal_confusion_array_[h0:h1, block_size:block_size+len(tags)])\n",
    "    if i == 0:\n",
    "        ax.set_ylabel(f\"{cat}\", fontsize=12, color=cmap[i%cycle_len])\n",
    "    axes.append(ax)\n",
    "\n",
    "    if i != len(sorted_local_morph_cat_tag_vocab) - 1:\n",
    "        ax = fig.add_subplot(gs[h0:h1, block_size+len(tags):])\n",
    "        imshow_(ax, marginal_confusion_array_[h0:h1, block_size+len(tags):])\n",
    "        axes.append(ax)\n",
    "        if i % 2 == 1:\n",
    "            ax.yaxis.set_label_position(\"right\")\n",
    "            ax.set_ylabel(f\"{cat}\", fontsize=12, color=cmap[i%cycle_len])\n",
    "\n",
    "    block_size += len(tags)\n",
    "\n",
    "for ax in axes:\n",
    "    ax.set_xticks([])\n",
    "    ax.set_yticks([])\n",
    "    ax.spines['top'].set_visible(False)\n",
    "    ax.spines['bottom'].set_visible(False)\n",
    "    ax.spines['left'].set_visible(False)\n",
    "    ax.spines['right'].set_visible(False)\n",
    "\n",
    "axes[-2].set_xticks(list(range(block_size-len(tags))))\n",
    "axes[-2].set_xticklabels(\n",
    "    [morph_tag_vocab[tag] for tag in local_all_tags[:-len(tags)]],\n",
    "    rotation=90,\n",
    "    ha=\"center\",\n",
    "    )\n",
    "\n",
    "ticks = axes[-2].get_xticklabels()\n",
    "\n",
    "cum_cat_len = 0\n",
    "for i, (cat, tags) in enumerate(sorted_local_morph_cat_tag_vocab[:-1]):\n",
    "    for tick in ticks[cum_cat_len:cum_cat_len+len(tags)]:\n",
    "        tick.set_color(cmap[i%cycle_len])\n",
    "    cum_cat_len += len(tags)\n",
    "\n",
    "last_cat_len = len(sorted_local_morph_cat_tag_vocab[-1][1])\n",
    "axes[-1].set_xticks(list(range(last_cat_len)))\n",
    "axes[-1].set_xticklabels(\n",
    "    [morph_tag_vocab[tag] for tag in local_all_tags[-last_cat_len:]],\n",
    "    rotation=90,\n",
    "    ha=\"center\",\n",
    "    )\n",
    "\n",
    "for tick in axes[-1].get_xticklabels():\n",
    "    tick.set_color(cmap[(n_cats-1)%cycle_len])\n",
    "\n",
    "gs.update(left=None, right=None, bottom=None, top=None, wspace=None, hspace=None)\n",
    "\n",
    "fig.text(0.50, 0.00, 'Predicted', ha='center', fontsize=16)\n",
    "fig.text(0.08, 0.50, 'Ground Truth', va='center', rotation='vertical', fontsize=16)\n",
    "fig.text(0.50, 0.90, 'False Negatives', ha='center', fontsize=20)\n",
    "\n",
    "plt.show()\n"
   ]
  },
  {
   "cell_type": "markdown",
   "metadata": {},
   "source": [
    "## Hamming Distance"
   ]
  },
  {
   "cell_type": "code",
   "execution_count": 548,
   "metadata": {},
   "outputs": [
    {
     "name": "stderr",
     "output_type": "stream",
     "text": [
      "C:\\Users\\ivoon\\AppData\\Local\\Temp/ipykernel_13604/3464324557.py:40: RuntimeWarning: invalid value encountered in true_divide\n",
      "  marginal_confusion_array_ = marginal_confusion_array / marginal_weights_array\n"
     ]
    }
   ],
   "source": [
    "from collections import defaultdict\n",
    "from itertools import product, combinations\n",
    "\n",
    "import matplotlib.pyplot as plt\n",
    "\n",
    "# ==============================================================================\n",
    "# CONFUSION MATRIX\n",
    "# ==============================================================================\n",
    "marginal_confusion_matrix = defaultdict(lambda: defaultdict(list))\n",
    "marginal_weights_matrix = defaultdict(lambda: defaultdict(list))\n",
    "for t1, subdict in confusion_matrix.items():\n",
    "    for t2, prob in subdict.items():\n",
    "        if ((\"_\" not in t1) and (\"_\" not in t2)) and ((t1, t2) in present_keys or (t2, t1) in present_keys):\n",
    "            false_positives = list(t2 - t1)\n",
    "            false_negatives = list(t1 - t2)\n",
    "\n",
    "            Z = len(list(t1)) * len(list(t2))\n",
    "            for tt1, tt2 in product(list(t1), list(t2)):\n",
    "                marginal_confusion_matrix[tt1][tt2] += [prob / Z * (len(false_positives) + len(false_negatives))]\n",
    "                marginal_weights_matrix[tt1][tt2] += [prob / Z]\n",
    "\n",
    "marginal_confusion_matrix = dict(marginal_confusion_matrix)\n",
    "for k, v in marginal_confusion_matrix.items():\n",
    "    marginal_confusion_matrix[k] = dict(v)\n",
    "\n",
    "marginal_weights_matrix = dict(marginal_weights_matrix)\n",
    "for k, v in marginal_weights_matrix.items():\n",
    "    marginal_weights_matrix[k] = dict(v)\n",
    "\n",
    "marginal_confusion_array = np.zeros((len(tag_to_int), len(tag_to_int)))\n",
    "marginal_weights_array = np.zeros((len(tag_to_int), len(tag_to_int)))\n",
    "\n",
    "for t1, t2 in combinations(list(tag_to_int), 2):\n",
    "    marginal_confusion_array[tag_to_int[t1]][tag_to_int[t2]] = np.sum(marginal_confusion_matrix[t1.upper()].get(t2.upper(), [0]))\n",
    "    marginal_confusion_array[tag_to_int[t2]][tag_to_int[t1]] = np.sum(marginal_confusion_matrix[t2.upper()].get(t1.upper(), [0]))\n",
    "\n",
    "    marginal_weights_array[tag_to_int[t1]][tag_to_int[t2]] = np.sum(marginal_weights_matrix[t1.upper()].get(t2.upper(), [0]))\n",
    "    marginal_weights_array[tag_to_int[t2]][tag_to_int[t1]] = np.sum(marginal_weights_matrix[t2.upper()].get(t1.upper(), [0]))\n",
    "\n",
    "marginal_confusion_array_ = marginal_confusion_array / marginal_weights_array\n",
    "marginal_confusion_array_ = np.nan_to_num(marginal_confusion_array_, 0)"
   ]
  },
  {
   "cell_type": "code",
   "execution_count": 549,
   "metadata": {},
   "outputs": [
    {
     "data": {
      "image/png": "[encoded data removed]",
      "text/plain": [
       "<Figure size 864x864 with 37 Axes>"
      ]
     },
     "metadata": {},
     "output_type": "display_data"
    }
   ],
   "source": [
    "# ==============================================================================\n",
    "# PLOTTING CODE\n",
    "# ==============================================================================\n",
    "import matplotlib.pyplot as plt\n",
    "import matplotlib.gridspec as gridspec\n",
    "import seaborn as sns\n",
    "\n",
    "cycle_len = 3\n",
    "cmap = sns.mpl_palette(\"tab10\", cycle_len)\n",
    "\n",
    "fig = plt.figure(figsize=(12, 12))\n",
    "\n",
    "all_tags = set(tag_to_int.keys())\n",
    "local_morph_cat_tag_vocab = {cat: sorted([tag for tag in tags if tag in all_tags]) for cat, tags in morph_cat_tag_vocab.items()}\n",
    "local_morph_cat_tag_vocab = {cat: tags for cat, tags in local_morph_cat_tag_vocab.items() if len(tags) > 0}\n",
    "sorted_local_morph_cat_tag_vocab = sorted(local_morph_cat_tag_vocab.items(), key=lambda x: x[0])\n",
    "n_cats = len(sorted_local_morph_cat_tag_vocab)\n",
    "local_all_tags = [tag for cat, tags in sorted_local_morph_cat_tag_vocab for tag in tags]\n",
    "n_tags = len(local_all_tags)\n",
    "\n",
    "fudge_factor = 0\n",
    "vmin, vmax = np.quantile(marginal_confusion_array_, q=[fudge_factor, 1-fudge_factor])\n",
    "\n",
    "def imshow_(ax, data):\n",
    "    ax.imshow(\n",
    "        data,\n",
    "        vmin=vmin,\n",
    "        vmax=vmax,\n",
    "        aspect=\"auto\",\n",
    "        )\n",
    "\n",
    "gs = gridspec.GridSpec(n_tags, n_tags, figure=fig)\n",
    "\n",
    "axes = []\n",
    "block_size = 0\n",
    "for i, (cat, tags) in enumerate(sorted_local_morph_cat_tag_vocab):\n",
    "\n",
    "    h0, h1 = block_size, block_size+len(tags)\n",
    "\n",
    "    if i != 0:\n",
    "        ax = fig.add_subplot(gs[h0:h1, 0:block_size])\n",
    "        imshow_(ax, marginal_confusion_array_[h0:h1, 0:block_size])\n",
    "        if i % 2 == 0 or (len(sorted_local_morph_cat_tag_vocab) % 2 == 1 and i == len(sorted_local_morph_cat_tag_vocab) - 1):\n",
    "            ax.set_ylabel(f\"{cat}\", fontsize=12, color=cmap[i%cycle_len])\n",
    "        axes.append(ax)\n",
    "\n",
    "    ax = fig.add_subplot(gs[h0:h1, block_size:block_size+len(tags)])\n",
    "    imshow_(ax, marginal_confusion_array_[h0:h1, block_size:block_size+len(tags)])\n",
    "    if i == 0:\n",
    "        ax.set_ylabel(f\"{cat}\", fontsize=12, color=cmap[i%cycle_len])\n",
    "    axes.append(ax)\n",
    "\n",
    "    if i != len(sorted_local_morph_cat_tag_vocab) - 1:\n",
    "        ax = fig.add_subplot(gs[h0:h1, block_size+len(tags):])\n",
    "        imshow_(ax, marginal_confusion_array_[h0:h1, block_size+len(tags):])\n",
    "        axes.append(ax)\n",
    "        if i % 2 == 1:\n",
    "            ax.yaxis.set_label_position(\"right\")\n",
    "            ax.set_ylabel(f\"{cat}\", fontsize=12, color=cmap[i%cycle_len])\n",
    "\n",
    "    block_size += len(tags)\n",
    "\n",
    "for ax in axes:\n",
    "    ax.set_xticks([])\n",
    "    ax.set_yticks([])\n",
    "    ax.spines['top'].set_visible(False)\n",
    "    ax.spines['bottom'].set_visible(False)\n",
    "    ax.spines['left'].set_visible(False)\n",
    "    ax.spines['right'].set_visible(False)\n",
    "\n",
    "axes[-2].set_xticks(list(range(block_size-len(tags))))\n",
    "axes[-2].set_xticklabels(\n",
    "    [morph_tag_vocab[tag] for tag in local_all_tags[:-len(tags)]],\n",
    "    rotation=90,\n",
    "    ha=\"center\",\n",
    "    )\n",
    "\n",
    "ticks = axes[-2].get_xticklabels()\n",
    "\n",
    "cum_cat_len = 0\n",
    "for i, (cat, tags) in enumerate(sorted_local_morph_cat_tag_vocab[:-1]):\n",
    "    for tick in ticks[cum_cat_len:cum_cat_len+len(tags)]:\n",
    "        tick.set_color(cmap[i%cycle_len])\n",
    "    cum_cat_len += len(tags)\n",
    "\n",
    "last_cat_len = len(sorted_local_morph_cat_tag_vocab[-1][1])\n",
    "axes[-1].set_xticks(list(range(last_cat_len)))\n",
    "axes[-1].set_xticklabels(\n",
    "    [morph_tag_vocab[tag] for tag in local_all_tags[-last_cat_len:]],\n",
    "    rotation=90,\n",
    "    ha=\"center\",\n",
    "    )\n",
    "\n",
    "for tick in axes[-1].get_xticklabels():\n",
    "    tick.set_color(cmap[(n_cats-1)%cycle_len])\n",
    "\n",
    "gs.update(left=None, right=None, bottom=None, top=None, wspace=None, hspace=None)\n",
    "\n",
    "fig.text(0.50, 0.00, 'Predicted', ha='center', fontsize=16)\n",
    "fig.text(0.08, 0.50, 'Ground Truth', va='center', rotation='vertical', fontsize=16)\n",
    "fig.text(0.50, 0.90, 'False Negatives', ha='center', fontsize=20)\n",
    "\n",
    "plt.show()\n"
   ]
  },
  {
   "cell_type": "markdown",
   "metadata": {},
   "source": [
    "## Any Mistake"
   ]
  },
  {
   "cell_type": "code",
   "execution_count": 13,
   "metadata": {},
   "outputs": [
    {
     "data": {
      "image/png": "[encoded data removed]",
      "text/plain": [
       "<Figure size 864x864 with 37 Axes>"
      ]
     },
     "metadata": {},
     "output_type": "display_data"
    }
   ],
   "source": [
    "import math\n",
    "from collections import defaultdict\n",
    "from itertools import product, combinations\n",
    "\n",
    "import matplotlib.pyplot as plt\n",
    "\n",
    "# ==============================================================================\n",
    "# CONFUSION MATRIX\n",
    "# ==============================================================================\n",
    "marginal_confusion_matrix = defaultdict(lambda: defaultdict(list))\n",
    "for t1, subdict in confusion_matrix.items():\n",
    "    for t2, prob in subdict.items():\n",
    "        if ((\"_\" not in t1) and (\"_\" not in t2)) and ((t1, t2) in present_keys or (t2, t1) in present_keys):\n",
    "            mistakes = set.union(set(t1), set(t2)) - set.intersection(set(t1), set(t2))\n",
    "\n",
    "            Z = 2 * math.comb(len(mistakes), 2)\n",
    "            for tt1, tt2 in combinations(list(mistakes), r=2):\n",
    "                marginal_confusion_matrix[tt1][tt2] += [prob / Z]\n",
    "                marginal_confusion_matrix[tt2][tt1] += [prob / Z]\n",
    "\n",
    "marginal_confusion_matrix = dict(marginal_confusion_matrix)\n",
    "for k, v in marginal_confusion_matrix.items():\n",
    "    marginal_confusion_matrix[k] = dict(v)\n",
    "\n",
    "marginal_confusion_array = np.zeros((len(tag_to_int), len(tag_to_int)))\n",
    "\n",
    "for t1, t2 in combinations(list(tag_to_int), 2):\n",
    "    marginal_confusion_array[tag_to_int[t1]][tag_to_int[t2]] = np.sum(marginal_confusion_matrix[t1.upper()].get(t2.upper(), [0]))\n",
    "    marginal_confusion_array[tag_to_int[t2]][tag_to_int[t1]] = np.sum(marginal_confusion_matrix[t2.upper()].get(t1.upper(), [0]))\n",
    "\n",
    "marginal_confusion_array_ = (marginal_confusion_array) / np.sum(marginal_confusion_array)\n",
    "\n",
    "# ==============================================================================\n",
    "# PLOTTING CODE\n",
    "# ==============================================================================\n",
    "import matplotlib.pyplot as plt\n",
    "import matplotlib.gridspec as gridspec\n",
    "import seaborn as sns\n",
    "\n",
    "cycle_len = 3\n",
    "cmap = sns.mpl_palette(\"tab10\", cycle_len)\n",
    "\n",
    "fig = plt.figure(figsize=(12, 12))\n",
    "\n",
    "all_tags = set(tag_to_int.keys())\n",
    "local_morph_cat_tag_vocab = {cat: sorted([tag for tag in tags if tag in all_tags]) for cat, tags in morph_cat_tag_vocab.items()}\n",
    "local_morph_cat_tag_vocab = {cat: tags for cat, tags in local_morph_cat_tag_vocab.items() if len(tags) > 0}\n",
    "sorted_local_morph_cat_tag_vocab = sorted(local_morph_cat_tag_vocab.items(), key=lambda x: x[0])\n",
    "n_cats = len(sorted_local_morph_cat_tag_vocab)\n",
    "local_all_tags = [tag for cat, tags in sorted_local_morph_cat_tag_vocab for tag in tags]\n",
    "n_tags = len(local_all_tags)\n",
    "\n",
    "fudge_factor = 0.005\n",
    "vmin, vmax = np.quantile(marginal_confusion_array_, q=[fudge_factor, 1-fudge_factor])\n",
    "\n",
    "def imshow_(ax, data):\n",
    "    ax.imshow(\n",
    "        data,\n",
    "        vmin=vmin,\n",
    "        vmax=vmax,\n",
    "        aspect=\"auto\",\n",
    "        )\n",
    "\n",
    "gs = gridspec.GridSpec(n_tags, n_tags, figure=fig)\n",
    "\n",
    "axes = []\n",
    "block_size = 0\n",
    "for i, (cat, tags) in enumerate(sorted_local_morph_cat_tag_vocab):\n",
    "\n",
    "    h0, h1 = block_size, block_size+len(tags)\n",
    "\n",
    "    if i != 0:\n",
    "        ax = fig.add_subplot(gs[h0:h1, 0:block_size])\n",
    "        imshow_(ax, marginal_confusion_array_[h0:h1, 0:block_size])\n",
    "        if i % 2 == 0 or (len(sorted_local_morph_cat_tag_vocab) % 2 == 1 and i == len(sorted_local_morph_cat_tag_vocab) - 1):\n",
    "            ax.set_ylabel(f\"{cat}\", fontsize=12, color=cmap[i%cycle_len])\n",
    "        axes.append(ax)\n",
    "\n",
    "    ax = fig.add_subplot(gs[h0:h1, block_size:block_size+len(tags)])\n",
    "    imshow_(ax, marginal_confusion_array_[h0:h1, block_size:block_size+len(tags)])\n",
    "    if i == 0:\n",
    "        ax.set_ylabel(f\"{cat}\", fontsize=12, color=cmap[i%cycle_len])\n",
    "    axes.append(ax)\n",
    "\n",
    "    if i != len(sorted_local_morph_cat_tag_vocab) - 1:\n",
    "        ax = fig.add_subplot(gs[h0:h1, block_size+len(tags):])\n",
    "        imshow_(ax, marginal_confusion_array_[h0:h1, block_size+len(tags):])\n",
    "        axes.append(ax)\n",
    "        if i % 2 == 1:\n",
    "            ax.yaxis.set_label_position(\"right\")\n",
    "            ax.set_ylabel(f\"{cat}\", fontsize=12, color=cmap[i%cycle_len])\n",
    "\n",
    "    block_size += len(tags)\n",
    "\n",
    "for ax in axes:\n",
    "    ax.set_xticks([])\n",
    "    ax.set_yticks([])\n",
    "    ax.spines['top'].set_visible(False)\n",
    "    ax.spines['bottom'].set_visible(False)\n",
    "    ax.spines['left'].set_visible(False)\n",
    "    ax.spines['right'].set_visible(False)\n",
    "\n",
    "axes[-2].set_xticks(list(range(block_size-len(tags))))\n",
    "axes[-2].set_xticklabels(\n",
    "    [morph_tag_vocab[tag] for tag in local_all_tags[:-len(tags)]],\n",
    "    rotation=90,\n",
    "    ha=\"center\",\n",
    "    )\n",
    "\n",
    "ticks = axes[-2].get_xticklabels()\n",
    "\n",
    "cum_cat_len = 0\n",
    "for i, (cat, tags) in enumerate(sorted_local_morph_cat_tag_vocab[:-1]):\n",
    "    for tick in ticks[cum_cat_len:cum_cat_len+len(tags)]:\n",
    "        tick.set_color(cmap[i%cycle_len])\n",
    "    cum_cat_len += len(tags)\n",
    "\n",
    "last_cat_len = len(sorted_local_morph_cat_tag_vocab[-1][1])\n",
    "axes[-1].set_xticks(list(range(last_cat_len)))\n",
    "axes[-1].set_xticklabels(\n",
    "    [morph_tag_vocab[tag] for tag in local_all_tags[-last_cat_len:]],\n",
    "    rotation=90,\n",
    "    ha=\"center\",\n",
    "    )\n",
    "\n",
    "for tick in axes[-1].get_xticklabels():\n",
    "    tick.set_color(cmap[(n_cats-1)%cycle_len])\n",
    "\n",
    "gs.update(left=None, right=None, bottom=None, top=None, wspace=None, hspace=None)\n",
    "\n",
    "fig.text(0.50, 0.00, 'Predicted', ha='center', fontsize=16)\n",
    "fig.text(0.08, 0.50, 'Ground Truth', va='center', rotation='vertical', fontsize=16)\n",
    "fig.text(0.50, 0.90, 'False Negatives', ha='center', fontsize=20)\n",
    "\n",
    "plt.show()\n"
   ]
  },
  {
   "cell_type": "code",
   "execution_count": 581,
   "metadata": {},
   "outputs": [
    {
     "data": {
      "text/plain": [
       "[('POS', 'FEM'),\n",
       " ('POS', '{FEM/NEUT}'),\n",
       " ('POS', '{PL/SG}'),\n",
       " ('POS', 'NEUT'),\n",
       " ('POS', 'NEG'),\n",
       " ('FEM', '{FEM/NEUT}'),\n",
       " ('FEM', '{PL/SG}'),\n",
       " ('FEM', 'NEUT'),\n",
       " ('FEM', 'NEG'),\n",
       " ('{FEM/NEUT}', '{PL/SG}'),\n",
       " ('{FEM/NEUT}', 'NEUT'),\n",
       " ('{FEM/NEUT}', 'NEG'),\n",
       " ('{PL/SG}', 'NEUT'),\n",
       " ('{PL/SG}', 'NEG'),\n",
       " ('NEUT', 'NEG')]"
      ]
     },
     "execution_count": 581,
     "metadata": {},
     "output_type": "execute_result"
    }
   ],
   "source": [
    "list(combinations(list(mistakes), r=2))"
   ]
  },
  {
   "cell_type": "code",
   "execution_count": 580,
   "metadata": {},
   "outputs": [
    {
     "data": {
      "text/plain": [
       "15"
      ]
     },
     "execution_count": 580,
     "metadata": {},
     "output_type": "execute_result"
    }
   ],
   "source": [
    "math.comb(len(mistakes), 2)"
   ]
  },
  {
   "cell_type": "code",
   "execution_count": 477,
   "metadata": {},
   "outputs": [
    {
     "data": {
      "text/html": [
       "<div>\n",
       "<style scoped>\n",
       "    .dataframe tbody tr th:only-of-type {\n",
       "        vertical-align: middle;\n",
       "    }\n",
       "\n",
       "    .dataframe tbody tr th {\n",
       "        vertical-align: top;\n",
       "    }\n",
       "\n",
       "    .dataframe thead th {\n",
       "        text-align: right;\n",
       "    }\n",
       "</style>\n",
       "<table border=\"1\" class=\"dataframe\">\n",
       "  <thead>\n",
       "    <tr style=\"text-align: right;\">\n",
       "      <th></th>\n",
       "      <th>gt</th>\n",
       "      <th>predicted</th>\n",
       "      <th>prob</th>\n",
       "    </tr>\n",
       "  </thead>\n",
       "  <tbody>\n",
       "    <tr>\n",
       "      <th>190</th>\n",
       "      <td>pos</td>\n",
       "      <td>part</td>\n",
       "      <td>0.607106</td>\n",
       "    </tr>\n",
       "    <tr>\n",
       "      <th>115</th>\n",
       "      <td>adp</td>\n",
       "      <td>pro</td>\n",
       "      <td>0.498460</td>\n",
       "    </tr>\n",
       "    <tr>\n",
       "      <th>191</th>\n",
       "      <td>pos</td>\n",
       "      <td>pro</td>\n",
       "      <td>0.417374</td>\n",
       "    </tr>\n",
       "    <tr>\n",
       "      <th>192</th>\n",
       "      <td>pos</td>\n",
       "      <td>propn</td>\n",
       "      <td>0.282276</td>\n",
       "    </tr>\n",
       "    <tr>\n",
       "      <th>193</th>\n",
       "      <td>pos</td>\n",
       "      <td>v</td>\n",
       "      <td>0.248586</td>\n",
       "    </tr>\n",
       "    <tr>\n",
       "      <th>...</th>\n",
       "      <td>...</td>\n",
       "      <td>...</td>\n",
       "      <td>...</td>\n",
       "    </tr>\n",
       "    <tr>\n",
       "      <th>88</th>\n",
       "      <td>cond</td>\n",
       "      <td>neg</td>\n",
       "      <td>0.000062</td>\n",
       "    </tr>\n",
       "    <tr>\n",
       "      <th>89</th>\n",
       "      <td>cond</td>\n",
       "      <td>3</td>\n",
       "      <td>0.000058</td>\n",
       "    </tr>\n",
       "    <tr>\n",
       "      <th>147</th>\n",
       "      <td>part</td>\n",
       "      <td>ins</td>\n",
       "      <td>0.000007</td>\n",
       "    </tr>\n",
       "    <tr>\n",
       "      <th>148</th>\n",
       "      <td>part</td>\n",
       "      <td>fem</td>\n",
       "      <td>0.000006</td>\n",
       "    </tr>\n",
       "    <tr>\n",
       "      <th>149</th>\n",
       "      <td>part</td>\n",
       "      <td>adj</td>\n",
       "      <td>0.000004</td>\n",
       "    </tr>\n",
       "  </tbody>\n",
       "</table>\n",
       "<p>220 rows × 3 columns</p>\n",
       "</div>"
      ],
      "text/plain": [
       "       gt predicted      prob\n",
       "190   pos      part  0.607106\n",
       "115   adp       pro  0.498460\n",
       "191   pos       pro  0.417374\n",
       "192   pos     propn  0.282276\n",
       "193   pos         v  0.248586\n",
       "..    ...       ...       ...\n",
       "88   cond       neg  0.000062\n",
       "89   cond         3  0.000058\n",
       "147  part       ins  0.000007\n",
       "148  part       fem  0.000006\n",
       "149  part       adj  0.000004\n",
       "\n",
       "[220 rows x 3 columns]"
      ]
     },
     "execution_count": 477,
     "metadata": {},
     "output_type": "execute_result"
    }
   ],
   "source": [
    "import pandas as pd\n",
    "\n",
    "records = []\n",
    "for t1, tt in enumerate(np.argpartition(marginal_confusion_array_, -5, axis=1)[:, -5:]):\n",
    "    record = {}\n",
    "    record |= {\"gt\": int_to_tag[t1]}\n",
    "\n",
    "    mistakes = list(map(list, zip(*sorted([(int_to_tag[t2], marginal_confusion_array_[t1][t2]) for t2 in tt], key=lambda x: x[1], reverse=True))))\n",
    "    for i in range(len(mistakes[0])):\n",
    "        records.append(record | {\"predicted\": mistakes[0][i], \"prob\": mistakes[1][i]})\n",
    "\n",
    "mistakes = pd.DataFrame.from_records(records)\n",
    "\n",
    "mistakes.sort_values(\"prob\", ascending=False)"
   ]
  },
  {
   "cell_type": "markdown",
   "metadata": {},
   "source": [
    "# JASP Export"
   ]
  },
  {
   "cell_type": "code",
   "execution_count": 4,
   "metadata": {},
   "outputs": [],
   "source": [
    "import math\n",
    "\n",
    "import numpy as np\n",
    "import pandas as pd\n",
    "\n",
    "from nmt_adapt.data.corpus_functional import load_custom_dataset"
   ]
  },
  {
   "cell_type": "code",
   "execution_count": 5,
   "metadata": {},
   "outputs": [],
   "source": [
    "all_morph_tags = sorted({morph_tag for morph_tag_set in eval_data.keys() for morph_tag in list(morph_tag_set)})\n",
    "all_morph_cats = sorted({morph_tag_cat_vocab.get(tag.lower(), \"_\") for tag in all_morph_tags} - {\"_\"})\n",
    "morph_tag_to_int = {morph_tag: i for i, morph_tag in enumerate(all_morph_tags)}\n",
    "int_to_morph_tag = {i: morph_tag for morph_tag, i in morph_tag_to_int.items()}"
   ]
  },
  {
   "cell_type": "code",
   "execution_count": 6,
   "metadata": {},
   "outputs": [],
   "source": [
    "records = []\n",
    "for morph_tag_set in eval_data.keys():\n",
    "\n",
    "    present_morph_cats = {morph_tag_cat_vocab.get(tag.lower(), \"_\") for tag in all_morph_tags for tag in list(morph_tag_set)} - {\"_\"}\n",
    "\n",
    "    if len(present_morph_cats) == 0:\n",
    "        continue\n",
    "\n",
    "    for lemma, instances in eval_data[morph_tag_set].items():\n",
    "        for instance in instances:\n",
    "            record = {\n",
    "                \"lemma_match\": instance[\"lemma_match\"],\n",
    "                \"norm_lev_dist\": instance[\"norm_lev_dist\"],\n",
    "                \"chrf_2\": instance[\"chrf_2\"],\n",
    "                \"chrf_3\": instance[\"chrf_3\"],\n",
    "                \"morph_tag_iou\": instance[\"morph_tag_iou\"],\n",
    "                \"morph_cat_iou\": instance[\"morph_cat_iou\"],\n",
    "                \"entropy\": instance[\"entropy\"],\n",
    "                \"approx_unique_samples\": math.exp(instance[\"entropy\"]),\n",
    "                }\n",
    "\n",
    "            morph_tag_freqs = np.array(list(instance[\"confusion\"].values()))\n",
    "            morph_tag_rel_freqs = morph_tag_freqs / morph_tag_freqs.sum()\n",
    "\n",
    "            morph_tag_entropy = - np.sum(morph_tag_rel_freqs * np.log(morph_tag_rel_freqs))\n",
    "            morph_tag_expected_unique = np.exp(morph_tag_entropy)\n",
    "            morph_tag_unique = len(morph_tag_freqs)\n",
    "\n",
    "            morph_cat_acc, weights = 0, 0\n",
    "            for pred_tag_set, count in instance[\"confusion\"].items():\n",
    "                intersection = frozenset.intersection(morph_tag_set, pred_tag_set)\n",
    "\n",
    "                morph_cat_acc_ = {morph_tag_cat_vocab.get(tag.lower()) for tag in intersection}\n",
    "                morph_cat_acc_ = len(morph_cat_acc_) / len(present_morph_cats)\n",
    "\n",
    "                morph_cat_acc += count * morph_cat_acc_\n",
    "                weights += count\n",
    "\n",
    "            morph_cat_acc = morph_cat_acc / weights\n",
    "\n",
    "            record |= {\n",
    "                \"morph_tag_entropy\": morph_tag_entropy,\n",
    "                \"morph_tag_expected_unique\": morph_tag_expected_unique,\n",
    "                \"morph_tag_unique\": morph_tag_unique,\n",
    "                \"morph_cat_acc\": morph_cat_acc,\n",
    "            }\n",
    "\n",
    "            record_tags = {f\"{morph_tag_cat_vocab.get(tag.lower())} - {morph_tag_vocab.get(tag.lower())}\": float(tag in morph_tag_set) for tag in all_morph_tags}\n",
    "            record_tags = dict(sorted(record_tags.items(), key=lambda x: x[0]))\n",
    "            record |= record_tags\n",
    "\n",
    "            record |= {cat: float(cat in present_morph_cats) for cat in all_morph_cats}\n",
    "\n",
    "            records.append(record)\n"
   ]
  },
  {
   "cell_type": "code",
   "execution_count": 8,
   "metadata": {},
   "outputs": [
    {
     "data": {
      "text/plain": [
       "{'lemma_match': 0.0,\n",
       " 'norm_lev_dist': 0.7583333333333333,\n",
       " 'chrf_2': 0.13541666666666666,\n",
       " 'chrf_3': 0.0,\n",
       " 'morph_tag_iou': 0.047619047619047616,\n",
       " 'morph_cat_iou': 0.2708333333333333,\n",
       " 'entropy': 1.850983694881109,\n",
       " 'approx_unique_samples': 6.36607872257775,\n",
       " 'morph_tag_entropy': 1.2830041293692707,\n",
       " 'morph_tag_expected_unique': 3.607460742328557,\n",
       " 'morph_tag_unique': 5,\n",
       " 'morph_cat_acc': 0.05555555555555555,\n",
       " 'Animacy - Animate': 0.0,\n",
       " 'Animacy - Inanimate': 1.0,\n",
       " 'Aspect - Imperfective': 0.0,\n",
       " 'Aspect - Perfective': 0.0,\n",
       " 'Case - Accusative': 0.0,\n",
       " 'Case - Dative': 0.0,\n",
       " 'Case - Essive': 0.0,\n",
       " 'Case - Genitive': 0.0,\n",
       " 'Case - Instrumental': 0.0,\n",
       " 'Case - Nominative': 1.0,\n",
       " 'Case - Vocative': 0.0,\n",
       " 'Comparison - Comparative': 0.0,\n",
       " 'Comparison - Relative': 0.0,\n",
       " 'Finiteness - Finite': 0.0,\n",
       " 'Finiteness - Nonfinite': 0.0,\n",
       " 'Gender - Feminine': 0.0,\n",
       " 'Gender - Masculine': 1.0,\n",
       " 'Gender - Neuter': 0.0,\n",
       " 'Mood - Conditional': 0.0,\n",
       " 'Mood - Imperative-Jussive': 0.0,\n",
       " 'Mood - Indicative': 0.0,\n",
       " 'None - None': 0.0,\n",
       " 'Number - Plural': 0.0,\n",
       " 'Number - Singular': 1.0,\n",
       " 'Part of Speech - Adjective': 0.0,\n",
       " 'Part of Speech - Adposition': 0.0,\n",
       " 'Part of Speech - Adverb': 0.0,\n",
       " 'Part of Speech - Conjunction': 0.0,\n",
       " 'Part of Speech - Determiner': 0.0,\n",
       " 'Part of Speech - Noun': 1.0,\n",
       " 'Part of Speech - Numeral': 0.0,\n",
       " 'Part of Speech - Participle': 0.0,\n",
       " 'Part of Speech - Particle': 0.0,\n",
       " 'Part of Speech - Pronoun': 0.0,\n",
       " 'Part of Speech - Proper Name': 0.0,\n",
       " 'Part of Speech - Verb': 0.0,\n",
       " 'Person - First person': 0.0,\n",
       " 'Person - Second person': 0.0,\n",
       " 'Person - Third person': 0.0,\n",
       " 'Polarity - Negative': 0.0,\n",
       " 'Polarity - Positive': 1.0,\n",
       " 'Tense - Future': 0.0,\n",
       " 'Tense - Past': 0.0,\n",
       " 'Tense - Present': 0.0,\n",
       " 'Valency - Reflexive': 0.0,\n",
       " 'Voice - Active': 0.0,\n",
       " 'Voice - Passive': 0.0,\n",
       " 'Animacy': 1.0,\n",
       " 'Aspect': 0.0,\n",
       " 'Case': 1.0,\n",
       " 'Comparison': 0.0,\n",
       " 'Finiteness': 0.0,\n",
       " 'Gender': 1.0,\n",
       " 'Mood': 0.0,\n",
       " 'Number': 1.0,\n",
       " 'Part of Speech': 1.0,\n",
       " 'Person': 0.0,\n",
       " 'Polarity': 1.0,\n",
       " 'Tense': 0.0,\n",
       " 'Valency': 0.0,\n",
       " 'Voice': 0.0}"
      ]
     },
     "execution_count": 8,
     "metadata": {},
     "output_type": "execute_result"
    }
   ],
   "source": [
    "records[0]"
   ]
  },
  {
   "cell_type": "code",
   "execution_count": 7,
   "metadata": {},
   "outputs": [],
   "source": [
    "df = pd.DataFrame.from_records(records)\n",
    "\n",
    "df.to_csv(\n",
    "    f\"./nmt_adapt/eval/datasets/{file_name}.csv\",\n",
    "    index=False,\n",
    ")"
   ]
  }
 ],
 "metadata": {
  "interpreter": {
   "hash": "dbc976fc6f020d274155def8c65b7f079d6d23ab7a1ba8e7c179d098920e42f3"
  },
  "kernelspec": {
   "display_name": "Python 3.9.7 ('msc_thesis')",
   "language": "python",
   "name": "python3"
  },
  "language_info": {
   "codemirror_mode": {
    "name": "ipython",
    "version": 3
   },
   "file_extension": ".py",
   "mimetype": "text/x-python",
   "name": "python",
   "nbconvert_exporter": "python",
   "pygments_lexer": "ipython3",
   "version": "3.9.7"
  },
  "orig_nbformat": 4
 },
 "nbformat": 4,
 "nbformat_minor": 2
}
